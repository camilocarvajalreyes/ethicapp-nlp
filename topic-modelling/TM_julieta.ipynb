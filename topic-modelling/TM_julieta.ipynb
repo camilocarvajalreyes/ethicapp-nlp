{
 "cells": [
  {
   "cell_type": "markdown",
   "metadata": {},
   "source": [
    "# Modelamiento no supervisado en base a tópicos"
   ]
  },
  {
   "cell_type": "code",
   "execution_count": 1,
   "metadata": {},
   "outputs": [],
   "source": [
    "import sys\n",
    "sys.path.insert(0, '..')\n",
    "from utils.preprocesamiento import StemmerTokenizer\n",
    "\n",
    "tokenizador = StemmerTokenizer(stem=False,rmv_punctuation=True)"
   ]
  },
  {
   "cell_type": "code",
   "execution_count": 2,
   "metadata": {},
   "outputs": [
    {
     "name": "stdout",
     "output_type": "stream",
     "text": [
      "34 rows found with non string elements for column comment (0.67%)\n",
      "Deleting 255 columns for which max target value is over 7 (5.00%)\n",
      "4806 available rows after processing\n"
     ]
    }
   ],
   "source": [
    "from utils.cargar import df_caso\n",
    "from utils.preprocesamiento import process_df\n",
    "\n",
    "caso = 'julieta'\n",
    "df = df_caso(caso)\n",
    "\n",
    "df = process_df(df,'comment','sel',verbose=True)\n",
    "\n",
    "df = df.drop(columns=['user_id','team_id','gender','df','title','opt_left','opt_right','max_num','phase','time','curso'])"
   ]
  },
  {
   "cell_type": "code",
   "execution_count": 3,
   "metadata": {},
   "outputs": [],
   "source": [
    "from sklearn.model_selection import train_test_split\n",
    "\n",
    "df_train, df_test, _, _ = train_test_split(df, df['sel'], test_size=.05, stratify=df['sel'], random_state=0)"
   ]
  },
  {
   "cell_type": "code",
   "execution_count": 4,
   "metadata": {},
   "outputs": [],
   "source": [
    "tokenized_corpus = [tokenizador(document) for document in df_train['comment']]\n",
    "tokenized_test = [tokenizador(document) for document in df_test['comment']]"
   ]
  },
  {
   "cell_type": "code",
   "execution_count": 5,
   "metadata": {},
   "outputs": [],
   "source": [
    "import gensim\n",
    "from gensim import corpora\n",
    "\n",
    "# Create a dictionary from the tokenized corpus\n",
    "dictionary = corpora.Dictionary(tokenized_corpus)\n",
    "\n",
    "# Convert the tokenized corpus into a document-term matrix\n",
    "doc_term_matrix = [dictionary.doc2bow(doc) for doc in tokenized_corpus]"
   ]
  },
  {
   "cell_type": "markdown",
   "metadata": {},
   "source": [
    "## Número óptimo de tópicos"
   ]
  },
  {
   "cell_type": "code",
   "execution_count": 6,
   "metadata": {},
   "outputs": [
    {
     "name": "stdout",
     "output_type": "stream",
     "text": [
      "Best number of topics: 2\n"
     ]
    }
   ],
   "source": [
    "from gensim.models import CoherenceModel\n",
    "\n",
    "# Set the range of topic numbers to try\n",
    "min_topics = 2\n",
    "max_topics = 10\n",
    "step_size = 1\n",
    "\n",
    "# Initialize variables for best coherence score and best number of topics\n",
    "best_coherence_score = -1\n",
    "best_num_topics = -1\n",
    "\n",
    "# Iterate over the range of topic numbers\n",
    "for num_topics in range(min_topics, max_topics+1, step_size):\n",
    "    # Train the LDA model\n",
    "    lda_model = gensim.models.LdaModel(doc_term_matrix, num_topics=num_topics, id2word=dictionary, passes=10)\n",
    "    \n",
    "    # Calculate coherence score\n",
    "    coherence_model = CoherenceModel(model=lda_model, texts=tokenized_corpus, dictionary=dictionary, coherence='c_v')\n",
    "    coherence_score = coherence_model.get_coherence()\n",
    "    \n",
    "    # Check if coherence score is the best so far\n",
    "    if coherence_score > best_coherence_score:\n",
    "        best_coherence_score = coherence_score\n",
    "        best_num_topics = num_topics\n",
    "\n",
    "# Print the best number of topics\n",
    "print(f\"Best number of topics: {best_num_topics}\")"
   ]
  },
  {
   "cell_type": "code",
   "execution_count": 7,
   "metadata": {},
   "outputs": [
    {
     "name": "stdout",
     "output_type": "stream",
     "text": [
      "CPU times: user 11.4 s, sys: 4.05 ms, total: 11.4 s\n",
      "Wall time: 11.4 s\n"
     ]
    }
   ],
   "source": [
    "%%time\n",
    "lda_model = gensim.models.LdaModel(doc_term_matrix, num_topics=best_num_topics, id2word=dictionary, passes=10)"
   ]
  },
  {
   "cell_type": "code",
   "execution_count": 8,
   "metadata": {},
   "outputs": [
    {
     "name": "stdout",
     "output_type": "stream",
     "text": [
      "(0, '0.022*\"beca\" + 0.021*\"si\" + 0.017*\"copiar\" + 0.015*\"Julieta\" + 0.010*\"puede\" + 0.010*\"debería\" + 0.008*\"ser\" + 0.008*\"futuro\" + 0.007*\"situación\" + 0.006*\"tener\"')\n",
      "(1, '0.034*\"información\" + 0.032*\"si\" + 0.019*\"usar\" + 0.018*\"beca\" + 0.017*\"Julieta\" + 0.017*\"debería\" + 0.013*\"respuesta\" + 0.013*\"control\" + 0.011*\"grupo\" + 0.011*\"podría\"')\n"
     ]
    }
   ],
   "source": [
    "# Print the generated topics\n",
    "topics = lda_model.print_topics(num_topics=num_topics)\n",
    "for topic in topics:\n",
    "    print(topic)"
   ]
  },
  {
   "cell_type": "code",
   "execution_count": 9,
   "metadata": {},
   "outputs": [
    {
     "name": "stdout",
     "output_type": "stream",
     "text": [
      "No deberia utilizarla forma obtendra nota probable refleje aprendizaje perjudicara hora aprender contenidos futuros\n",
      "\n",
      "Topic 0: 0.30374690890312195\n",
      "Topic 1: 0.6962531208992004\n"
     ]
    }
   ],
   "source": [
    "print(' '.join(tokenized_test[0]) + '\\n')\n",
    "\n",
    "# Convert the tokenized document into a document-term matrix\n",
    "doc_term_matrix = [dictionary.doc2bow(tokenized_test[0])]\n",
    "\n",
    "# Get the topic probabilities for the new document\n",
    "topic_probs = lda_model.get_document_topics(doc_term_matrix)[0]\n",
    "\n",
    "# Print the topic probabilities\n",
    "for topic, prob in topic_probs:\n",
    "    print(f\"Topic {topic}: {prob}\")"
   ]
  },
  {
   "cell_type": "markdown",
   "metadata": {},
   "source": [
    "## Visualización"
   ]
  },
  {
   "cell_type": "code",
   "execution_count": 10,
   "metadata": {},
   "outputs": [
    {
     "data": {
      "text/html": [
       "\n",
       "<link rel=\"stylesheet\" type=\"text/css\" href=\"https://cdn.jsdelivr.net/gh/bmabey/pyLDAvis@3.4.0/pyLDAvis/js/ldavis.v1.0.0.css\">\n",
       "\n",
       "\n",
       "<div id=\"ldavis_el134841398034061660483575974570\" style=\"background-color:white;\"></div>\n",
       "<script type=\"text/javascript\">\n",
       "\n",
       "var ldavis_el134841398034061660483575974570_data = {\"mdsDat\": {\"x\": [0.08298409960146057, -0.08298409960146057], \"y\": [0.0, 0.0], \"topics\": [1, 2], \"cluster\": [1, 1], \"Freq\": [69.62312848499035, 30.376871515009658]}, \"tinfo\": {\"Term\": [\"informaci\\u00f3n\", \"copiar\", \"beca\", \"usar\", \"profesional\", \"pues\", \"utilizar\", \"situaci\\u00f3n\", \"trabajo\", \"futuro\", \"tener\", \"carrera\", \"puede\", \"importante\", \"grupo\", \"estudiar\", \"mantener\", \"vida\", \"persona\", \"whatsapp\", \"\\u00e9tica\", \"Julieta\", \"ser\", \"siendo\", \"universidad\", \"responder\", \"mal\", \"plazo\", \"consecuencias\", \"deberia\", \"informacion\", \"comparar\", \"deberia\", \"estudi\\u00f3\", \"copiarla\", \"guiarse\", \"gu\\u00eda\", \"resultado\", \"ultima\", \"ejercicio\", \"intentar\", \"corroborar\", \"utilizar\", \"compartida\", \"whatsapp\", \"utiliza\", \"comprobar\", \"Usar\", \"aplicar\", \"entender\", \"convendr\\u00eda\", \"usarla\", \"resolver\", \"usando\", \"propia\", \"Le\", \"arriesga\", \"wsp\", \"us\\u00f3\", \"revisar\", \"informaci\\u00f3n\", \"responder\", \"usar\", \"info\", \"conviene\", \"grupo\", \"sola\", \"sabe\", \"respuesta\", \"WhatsApp\", \"conocimientos\", \"use\", \"ver\", \"control\", \"solo\", \"si\", \"podr\\u00eda\", \"deber\\u00eda\", \"pregunta\", \"Julieta\", \"respuestas\", \"Si\", \"caso\", \"beca\", \"nota\", \"misma\", \"hacer\", \"puede\", \"No\", \"ser\", \"copiar\", \"futuro\", \"bien\", \"creo\", \"copia\", \"plazo\", \"6\", \"respecto\", \"evaluaciones\", \"largo\", \"alto\", \"Me\", \"formaci\\u00f3n\", \"consecuencia\", \"acad\\u00e9mica\", \"econ\\u00f3mica\", \"carga\", \"acci\\u00f3n\", \"reputaci\\u00f3n\", \"opciones\", \"corto\", \"encontrar\", \"siendo\", \"alumno\", \"veces\", \"razones\", \"acciones\", \"claro\", \"compromiso\", \"d\\u00eda\", \"?\", \"permite\", \"alta\", \"medios\", \"5\", \"existen\", \"mantengo\", \"ning\\u00fan\", \"sigue\", \"tipo\", \"posibles\", \"estudiando\", \"vida\", \"grave\", \"factores\", \"trabajo\", \"decisi\\u00f3n\", \"pues\", \"profesional\", \"copiar\", \"\\u00e9tica\", \"carrera\", \"laboral\", \"estudiar\", \"beca\", \"persona\", \"importante\", \"pierde\", \"tener\", \"situaci\\u00f3n\", \"futuro\", \"universidad\", \"puede\", \"mantener\", \"Julieta\", \"si\", \"ser\", \"mal\", \"consecuencias\", \"deber\\u00eda\", \"debe\", \"copia\", \"perder\", \")\", \"mas\", \"nota\", \"caso\", \"bien\", \"(\", \"podr\\u00eda\", \"creo\", \"control\"], \"Freq\": [0.0, 0.0, 0.0, 0.0, 0.0, 0.0, 0.0, 0.0, 0.0, 0.0, 0.0, 0.0, 0.0, 0.0, 0.0, 0.0, 0.0, 0.0, 0.0, 0.0, 0.0, 0.0, 0.0, 0.0, 0.0, 0.0, 0.0, 0.0, 0.0, 0.0, 0.0232111922558441, 0.017185462188704037, 0.02791429987727341, 0.014006630558412093, 0.009371055132098717, 0.02214889729747206, 0.00824406500094348, 0.00897630388946901, 0.007623345588058866, 0.012652111236171514, 0.016375972525494893, 0.006397717695850957, 0.05415981316882737, 0.00894603810321628, 0.04086555075217688, 0.005306543588696894, 0.005240447553818479, 0.0046710126538322405, 0.005235323527967378, 0.017429124738172916, 0.011201087846554693, 0.03140662642661715, 0.012270344441529288, 0.0038724338044598544, 0.008891216400356533, 0.004215184034586261, 0.008903386356881357, 0.011000727161444616, 0.0037809697322825197, 0.010807986660368092, 0.30891369644257294, 0.04432653465850872, 0.17427482268196215, 0.029319612699447814, 0.02098848825496448, 0.10283702193721361, 0.014210221813799669, 0.06218405240311434, 0.11962260991111273, 0.05456021000687353, 0.050915920213380594, 0.013564056128181332, 0.03500170323401065, 0.11936703871673965, 0.07154664124944016, 0.2931849285271235, 0.09867524662611915, 0.15333659687428314, 0.03417930077277452, 0.15749381187612743, 0.026881198063098494, 0.05575603520338218, 0.07757902844085068, 0.16088627734671068, 0.06811880598659498, 0.04319371085079074, 0.04432034325898146, 0.08402006485987468, 0.049285129180239945, 0.059689428372758674, 0.08196480681666596, 0.04484854676773195, 0.03947079154771266, 0.03907473585433163, 0.03946854511071604, 0.008450559947056131, 0.0053373272853024095, 0.007965375290376865, 0.006856044483814196, 0.007766746304970457, 0.0035807538282920243, 0.004037735377554502, 0.003402275436291964, 0.003159046391127459, 0.0028117097777246476, 0.004437695602155477, 0.0029292265563224257, 0.0042484325603397675, 0.002660931325946558, 0.0024820318273677377, 0.0025945817550081744, 0.003933494489547811, 0.009644799815486362, 0.001994210657337828, 0.005498262174953052, 0.002566905950261515, 0.002159580498042291, 0.0025195730651132, 0.0029086652001124504, 0.002044496805217535, 0.004989561290300731, 0.0026182899174753693, 0.002139112465670185, 0.0021063289047627016, 0.0060254425586735195, 0.0026100594905326367, 0.003679792486991674, 0.003848922175026257, 0.00685366311691684, 0.005465779043247774, 0.003971514529151111, 0.008016868901607133, 0.012401611730653538, 0.003930205628778761, 0.006484127382907948, 0.01636655359522328, 0.008073622667285188, 0.01942466450915331, 0.0229866708196704, 0.06846300004025951, 0.01307498965293806, 0.017890801265506337, 0.009364778651757714, 0.01759184501688034, 0.08700181077474345, 0.016201568083230436, 0.019357541223834956, 0.007393941938019441, 0.02462009726634712, 0.027544849795131887, 0.03027557333024286, 0.01518332593966163, 0.041321930770677834, 0.02367753753722697, 0.0579885494672214, 0.08128917087195103, 0.030904136501969853, 0.015238560779426778, 0.01338865612897363, 0.03997252875856802, 0.01970036611238629, 0.020515040002991702, 0.01923399701253617, 0.016894089804808332, 0.01787526445553278, 0.022223634893423785, 0.022526206406389707, 0.017844742503592775, 0.016360764758935345, 0.020143140371572346, 0.016839110571219812, 0.018116974115061038], \"Total\": [0.0, 0.0, 0.0, 0.0, 0.0, 0.0, 0.0, 0.0, 0.0, 0.0, 0.0, 0.0, 0.0, 0.0, 0.0, 0.0, 0.0, 0.0, 0.0, 0.0, 0.0, 0.0, 0.0, 0.0, 0.0, 0.0, 0.0, 0.0, 0.0, 0.0, 0.023256608644180766, 0.01722844113826231, 0.02798613228833521, 0.014053396888418602, 0.009413935916357703, 0.02225485115773989, 0.008290146881912782, 0.009032729312118355, 0.007671282093543215, 0.012735347185228086, 0.01648711356631358, 0.006441317006139673, 0.05455228728730458, 0.009017205768695868, 0.04120279454192421, 0.00535202986575589, 0.005285601109702277, 0.004712626059859843, 0.005282885581608724, 0.017588436861901396, 0.011309798703603937, 0.031728986989315804, 0.01239691402029196, 0.003912745123143958, 0.008984909410433646, 0.0042606556507806415, 0.009004098738962055, 0.01112922879937229, 0.003826082221942402, 0.010938882523080267, 0.31665198127560995, 0.045040289507026085, 0.17967321042118478, 0.030004625644794777, 0.021439485872846924, 0.10758813070784473, 0.01455339410953194, 0.0659577836079416, 0.1295406370988202, 0.057712651093062534, 0.0538021952778395, 0.013911840196056784, 0.03735464451785313, 0.13748401283180067, 0.08173264852717442, 0.37447409939907456, 0.1188183869976915, 0.19330912563285116, 0.038799304262346075, 0.21548236134334883, 0.02971858982544744, 0.06811989997009593, 0.10010523484724039, 0.24788808812145413, 0.09034244088001876, 0.052275019494328695, 0.0544127352342493, 0.1253419956305525, 0.06431817064085152, 0.09059356487472853, 0.15042780685692547, 0.07512412009797481, 0.05731553405130543, 0.055913846425551444, 0.059983585113707744, 0.00854728580497529, 0.0054284884174296425, 0.008152419471421066, 0.007021717598873483, 0.007968030454679335, 0.0036760479217777657, 0.004157257422794779, 0.003505512459675346, 0.003257065874924538, 0.0029005041644714637, 0.004577966221421517, 0.0030218859250143917, 0.004393195872498498, 0.002752994964400601, 0.0025709763300014498, 0.0026910456098319098, 0.004081813299286494, 0.010012999676938389, 0.0020753974136114954, 0.005726323093697867, 0.0026736641855992236, 0.0022524881473475855, 0.002630591180363056, 0.003036974622389293, 0.002135042837580531, 0.005215728671153516, 0.0027389832304808887, 0.0022417771784086593, 0.0022090049774443603, 0.006319650994242167, 0.002741970640419088, 0.003903882414118635, 0.004093669154549758, 0.007437310721704112, 0.0059587059441978205, 0.004263504911117417, 0.00907642226116919, 0.014725562394088468, 0.004241030269707352, 0.007328373335592305, 0.022302827633012605, 0.010106240376654176, 0.028569664015898284, 0.03638091970251225, 0.15042780685692547, 0.019177056430927514, 0.030188396926568224, 0.013098375642881981, 0.030180343732245214, 0.24788808812145413, 0.02717487016862067, 0.036232815982104635, 0.009795594349418731, 0.05283182245168011, 0.06233477681944459, 0.07512412009797481, 0.028078996465064843, 0.1253419956305525, 0.05478341325467698, 0.21548236134334883, 0.37447409939907456, 0.09059356487472853, 0.02915842534303427, 0.02528822466906506, 0.19330912563285116, 0.05447825383598448, 0.059983585113707744, 0.053009849501888265, 0.046743655114983365, 0.053606792079767956, 0.09034244088001876, 0.10010523484724039, 0.05731553405130543, 0.04568783959103327, 0.1188183869976915, 0.055913846425551444, 0.13748401283180067], \"Category\": [\"Default\", \"Default\", \"Default\", \"Default\", \"Default\", \"Default\", \"Default\", \"Default\", \"Default\", \"Default\", \"Default\", \"Default\", \"Default\", \"Default\", \"Default\", \"Default\", \"Default\", \"Default\", \"Default\", \"Default\", \"Default\", \"Default\", \"Default\", \"Default\", \"Default\", \"Default\", \"Default\", \"Default\", \"Default\", \"Default\", \"Topic1\", \"Topic1\", \"Topic1\", \"Topic1\", \"Topic1\", \"Topic1\", \"Topic1\", \"Topic1\", \"Topic1\", \"Topic1\", \"Topic1\", \"Topic1\", \"Topic1\", \"Topic1\", \"Topic1\", \"Topic1\", \"Topic1\", \"Topic1\", \"Topic1\", \"Topic1\", \"Topic1\", \"Topic1\", \"Topic1\", \"Topic1\", \"Topic1\", \"Topic1\", \"Topic1\", \"Topic1\", \"Topic1\", \"Topic1\", \"Topic1\", \"Topic1\", \"Topic1\", \"Topic1\", \"Topic1\", \"Topic1\", \"Topic1\", \"Topic1\", \"Topic1\", \"Topic1\", \"Topic1\", \"Topic1\", \"Topic1\", \"Topic1\", \"Topic1\", \"Topic1\", \"Topic1\", \"Topic1\", \"Topic1\", \"Topic1\", \"Topic1\", \"Topic1\", \"Topic1\", \"Topic1\", \"Topic1\", \"Topic1\", \"Topic1\", \"Topic1\", \"Topic1\", \"Topic1\", \"Topic1\", \"Topic1\", \"Topic1\", \"Topic1\", \"Topic1\", \"Topic2\", \"Topic2\", \"Topic2\", \"Topic2\", \"Topic2\", \"Topic2\", \"Topic2\", \"Topic2\", \"Topic2\", \"Topic2\", \"Topic2\", \"Topic2\", \"Topic2\", \"Topic2\", \"Topic2\", \"Topic2\", \"Topic2\", \"Topic2\", \"Topic2\", \"Topic2\", \"Topic2\", \"Topic2\", \"Topic2\", \"Topic2\", \"Topic2\", \"Topic2\", \"Topic2\", \"Topic2\", \"Topic2\", \"Topic2\", \"Topic2\", \"Topic2\", \"Topic2\", \"Topic2\", \"Topic2\", \"Topic2\", \"Topic2\", \"Topic2\", \"Topic2\", \"Topic2\", \"Topic2\", \"Topic2\", \"Topic2\", \"Topic2\", \"Topic2\", \"Topic2\", \"Topic2\", \"Topic2\", \"Topic2\", \"Topic2\", \"Topic2\", \"Topic2\", \"Topic2\", \"Topic2\", \"Topic2\", \"Topic2\", \"Topic2\", \"Topic2\", \"Topic2\", \"Topic2\", \"Topic2\", \"Topic2\", \"Topic2\", \"Topic2\", \"Topic2\", \"Topic2\", \"Topic2\", \"Topic2\", \"Topic2\", \"Topic2\", \"Topic2\", \"Topic2\", \"Topic2\", \"Topic2\", \"Topic2\", \"Topic2\", \"Topic2\"], \"logprob\": [30.0, 29.0, 28.0, 27.0, 26.0, 25.0, 24.0, 23.0, 22.0, 21.0, 20.0, 19.0, 18.0, 17.0, 16.0, 15.0, 14.0, 13.0, 12.0, 11.0, 10.0, 9.0, 8.0, 7.0, 6.0, 5.0, 4.0, 3.0, 2.0, 1.0, -5.966, -6.2666, -5.7815, -6.4711, -6.873, -6.0128, -7.0011, -6.916, -7.0794, -6.5728, -6.3148, -7.2547, -5.1187, -6.9194, -5.4003, -7.4417, -7.4542, -7.5693, -7.4552, -6.2525, -6.6946, -5.6636, -6.6034, -7.7567, -6.9256, -7.6719, -6.9242, -6.7127, -7.7807, -6.7303, -3.3776, -5.319, -3.95, -5.7324, -6.0667, -4.4775, -6.4567, -4.9805, -4.3263, -5.1113, -5.1805, -6.5032, -5.5552, -4.3284, -4.8403, -3.4298, -4.5188, -4.078, -5.579, -4.0512, -5.8192, -5.0896, -4.7593, -4.0299, -4.8894, -5.3449, -5.3192, -4.6796, -5.213, -5.0215, -4.7043, -5.3073, -5.4351, -5.4452, -5.4351, -6.147, -6.6065, -6.2061, -6.3561, -6.2314, -7.0056, -6.8855, -7.0568, -7.1309, -7.2474, -6.7911, -7.2065, -6.8347, -7.3025, -7.3721, -7.3278, -6.9117, -6.0148, -7.591, -6.5768, -7.3385, -7.5113, -7.3571, -7.2135, -7.5661, -6.6739, -7.3187, -7.5208, -7.5363, -6.4852, -7.3218, -6.9784, -6.9334, -6.3564, -6.5827, -6.9021, -6.1997, -5.7634, -6.9125, -6.4119, -5.486, -6.1926, -5.3147, -5.1463, -4.0549, -5.7105, -5.3969, -6.0443, -5.4138, -3.8153, -5.4961, -5.3181, -6.2806, -5.0777, -4.9654, -4.8709, -5.561, -4.5598, -5.1167, -4.221, -3.8832, -4.8503, -5.5574, -5.6868, -4.593, -5.3006, -5.2601, -5.3245, -5.4543, -5.3978, -5.1801, -5.1665, -5.3995, -5.4863, -5.2784, -5.4575, -5.3844], \"loglift\": [30.0, 29.0, 28.0, 27.0, 26.0, 25.0, 24.0, 23.0, 22.0, 21.0, 20.0, 19.0, 18.0, 17.0, 16.0, 15.0, 14.0, 13.0, 12.0, 11.0, 10.0, 9.0, 8.0, 7.0, 6.0, 5.0, 4.0, 3.0, 2.0, 1.0, 0.3601, 0.3596, 0.3595, 0.3587, 0.3575, 0.3573, 0.3565, 0.3558, 0.3558, 0.3555, 0.3553, 0.3553, 0.3549, 0.3541, 0.3539, 0.3535, 0.3535, 0.3532, 0.353, 0.353, 0.3524, 0.3519, 0.3518, 0.3517, 0.3516, 0.3513, 0.3508, 0.3505, 0.3502, 0.35, 0.3373, 0.3461, 0.3316, 0.339, 0.3408, 0.3169, 0.3382, 0.3032, 0.2824, 0.3059, 0.3069, 0.3368, 0.297, 0.2208, 0.229, 0.1174, 0.1763, 0.1304, 0.2353, 0.0486, 0.2617, 0.1618, 0.1071, -0.0702, 0.0797, 0.1712, 0.1569, -0.0379, 0.0959, -0.0552, -0.2451, -0.1538, -0.0109, 0.0037, -0.0565, 1.1801, 1.1746, 1.1683, 1.1676, 1.1659, 1.1652, 1.1623, 1.1616, 1.1609, 1.1604, 1.1604, 1.1603, 1.158, 1.1575, 1.1563, 1.155, 1.1545, 1.154, 1.1516, 1.1508, 1.1507, 1.1494, 1.1484, 1.1483, 1.1482, 1.1472, 1.1464, 1.1446, 1.1439, 1.1438, 1.1422, 1.1324, 1.1298, 1.1098, 1.1051, 1.1205, 1.0674, 1.0197, 1.1154, 1.0691, 0.882, 0.9669, 0.8057, 0.7324, 0.4043, 0.8085, 0.6683, 0.856, 0.6517, 0.1444, 0.6743, 0.5646, 0.9102, 0.4279, 0.3748, 0.2827, 0.5767, 0.0818, 0.3526, -0.1211, -0.336, 0.116, 0.5426, 0.5556, -0.3846, 0.1743, 0.1186, 0.1777, 0.1738, 0.0932, -0.211, -0.3001, 0.0246, 0.1645, -0.5832, -0.0086, -0.8352]}, \"token.table\": {\"Topic\": [], \"Freq\": [], \"Term\": []}, \"R\": 30, \"lambda.step\": 0.01, \"plot.opts\": {\"xlab\": \"PC1\", \"ylab\": \"PC2\"}, \"topic.order\": [2, 1]};\n",
       "\n",
       "function LDAvis_load_lib(url, callback){\n",
       "  var s = document.createElement('script');\n",
       "  s.src = url;\n",
       "  s.async = true;\n",
       "  s.onreadystatechange = s.onload = callback;\n",
       "  s.onerror = function(){console.warn(\"failed to load library \" + url);};\n",
       "  document.getElementsByTagName(\"head\")[0].appendChild(s);\n",
       "}\n",
       "\n",
       "if(typeof(LDAvis) !== \"undefined\"){\n",
       "   // already loaded: just create the visualization\n",
       "   !function(LDAvis){\n",
       "       new LDAvis(\"#\" + \"ldavis_el134841398034061660483575974570\", ldavis_el134841398034061660483575974570_data);\n",
       "   }(LDAvis);\n",
       "}else if(typeof define === \"function\" && define.amd){\n",
       "   // require.js is available: use it to load d3/LDAvis\n",
       "   require.config({paths: {d3: \"https://d3js.org/d3.v5\"}});\n",
       "   require([\"d3\"], function(d3){\n",
       "      window.d3 = d3;\n",
       "      LDAvis_load_lib(\"https://cdn.jsdelivr.net/gh/bmabey/pyLDAvis@3.4.0/pyLDAvis/js/ldavis.v3.0.0.js\", function(){\n",
       "        new LDAvis(\"#\" + \"ldavis_el134841398034061660483575974570\", ldavis_el134841398034061660483575974570_data);\n",
       "      });\n",
       "    });\n",
       "}else{\n",
       "    // require.js not available: dynamically load d3 & LDAvis\n",
       "    LDAvis_load_lib(\"https://d3js.org/d3.v5.js\", function(){\n",
       "         LDAvis_load_lib(\"https://cdn.jsdelivr.net/gh/bmabey/pyLDAvis@3.4.0/pyLDAvis/js/ldavis.v3.0.0.js\", function(){\n",
       "                 new LDAvis(\"#\" + \"ldavis_el134841398034061660483575974570\", ldavis_el134841398034061660483575974570_data);\n",
       "            })\n",
       "         });\n",
       "}\n",
       "</script>"
      ],
      "text/plain": [
       "<IPython.core.display.HTML object>"
      ]
     },
     "execution_count": 10,
     "metadata": {},
     "output_type": "execute_result"
    }
   ],
   "source": [
    "import pyLDAvis.gensim_models as gensimvis\n",
    "import pyLDAvis\n",
    "\n",
    "vis_data = gensimvis.prepare(lda_model, doc_term_matrix, dictionary)\n",
    "pyLDAvis.display(vis_data)"
   ]
  }
 ],
 "metadata": {
  "kernelspec": {
   "display_name": "ethics_env",
   "language": "python",
   "name": "ethics_env"
  },
  "language_info": {
   "codemirror_mode": {
    "name": "ipython",
    "version": 3
   },
   "file_extension": ".py",
   "mimetype": "text/x-python",
   "name": "python",
   "nbconvert_exporter": "python",
   "pygments_lexer": "ipython3",
   "version": "3.9.15"
  },
  "orig_nbformat": 4
 },
 "nbformat": 4,
 "nbformat_minor": 2
}
