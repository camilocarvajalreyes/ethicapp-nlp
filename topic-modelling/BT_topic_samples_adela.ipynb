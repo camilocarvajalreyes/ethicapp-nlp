{
 "cells": [
  {
   "cell_type": "code",
   "execution_count": 1,
   "metadata": {},
   "outputs": [
    {
     "name": "stdout",
     "output_type": "stream",
     "text": [
      "Partición train-test cargada\n"
     ]
    }
   ],
   "source": [
    "import sys\n",
    "sys.path.insert(0, '..')\n",
    "from utils.preprocesamiento import df_to_list\n",
    "\n",
    "import pandas as pd\n",
    "from utils.cargar import df_caso\n",
    "from utils.preprocesamiento import process_df, procesar_adela\n",
    "\n",
    "op_left, op_right = 'Priorizar criterios técnicos', 'Priorizar plazos'\n",
    "\n",
    "caso = 'adela'\n",
    "df = df_caso(caso)\n",
    "df = procesar_adela(df)\n",
    "df = df[df['opt_left'] == 'Producir el alimento contra déficit vitamínico']\n",
    "\n",
    "df = process_df(df,'comment','sel',verbose=False)\n",
    "\n",
    "train_indices = pd.read_csv('../utils/splits/train_indices_{}'.format(caso), header=None)[0].tolist()\n",
    "test_indices = pd.read_csv('../utils/splits/test_indices_{}'.format(caso), header=None)[0].tolist()\n",
    "print(\"Partición train-test cargada\")\n",
    "\n",
    "df_train = df.iloc[train_indices]\n",
    "df_test = df.iloc[test_indices]"
   ]
  },
  {
   "cell_type": "code",
   "execution_count": 2,
   "metadata": {},
   "outputs": [
    {
     "name": "stderr",
     "output_type": "stream",
     "text": [
      "/home/camilo/miniconda3/envs/ethics_env/lib/python3.9/site-packages/umap/distances.py:1063: NumbaDeprecationWarning: The 'nopython' keyword argument was not supplied to the 'numba.jit' decorator. The implicit default value for this argument is currently False, but it will be changed to True in Numba 0.59.0. See https://numba.readthedocs.io/en/stable/reference/deprecation.html#deprecation-of-object-mode-fall-back-behaviour-when-using-jit for details.\n",
      "  @numba.jit()\n",
      "/home/camilo/miniconda3/envs/ethics_env/lib/python3.9/site-packages/umap/distances.py:1071: NumbaDeprecationWarning: The 'nopython' keyword argument was not supplied to the 'numba.jit' decorator. The implicit default value for this argument is currently False, but it will be changed to True in Numba 0.59.0. See https://numba.readthedocs.io/en/stable/reference/deprecation.html#deprecation-of-object-mode-fall-back-behaviour-when-using-jit for details.\n",
      "  @numba.jit()\n",
      "/home/camilo/miniconda3/envs/ethics_env/lib/python3.9/site-packages/umap/distances.py:1086: NumbaDeprecationWarning: The 'nopython' keyword argument was not supplied to the 'numba.jit' decorator. The implicit default value for this argument is currently False, but it will be changed to True in Numba 0.59.0. See https://numba.readthedocs.io/en/stable/reference/deprecation.html#deprecation-of-object-mode-fall-back-behaviour-when-using-jit for details.\n",
      "  @numba.jit()\n",
      "/home/camilo/miniconda3/envs/ethics_env/lib/python3.9/site-packages/umap/umap_.py:660: NumbaDeprecationWarning: The 'nopython' keyword argument was not supplied to the 'numba.jit' decorator. The implicit default value for this argument is currently False, but it will be changed to True in Numba 0.59.0. See https://numba.readthedocs.io/en/stable/reference/deprecation.html#deprecation-of-object-mode-fall-back-behaviour-when-using-jit for details.\n",
      "  @numba.jit()\n"
     ]
    }
   ],
   "source": [
    "from bertopic import BERTopic\n",
    "\n",
    "model = BERTopic.load(\"modelos/BT-{}.bertopic\".format(caso))"
   ]
  },
  {
   "cell_type": "code",
   "execution_count": 3,
   "metadata": {},
   "outputs": [
    {
     "data": {
      "image/png": "[encoded data removed]",
      "text/plain": [
       "<Figure size 640x480 with 1 Axes>"
      ]
     },
     "metadata": {},
     "output_type": "display_data"
    }
   ],
   "source": [
    "from TM_utils import plot_frecuencies, get_top_k_topics, get_table_top_topics\n",
    "from utils.exploracion import print_table_md\n",
    "from utils.preprocesamiento import StemmerTokenizer\n",
    "\n",
    "tokenizador = StemmerTokenizer(stem=False,rmv_punctuation=True)\n",
    "\n",
    "output_test = model.transform(df_to_list(df_test,'comment',tokenizador))\n",
    "\n",
    "plot_frecuencies(output_test[0],label='test set')"
   ]
  },
  {
   "cell_type": "code",
   "execution_count": 4,
   "metadata": {},
   "outputs": [
    {
     "name": "stdout",
     "output_type": "stream",
     "text": [
      "Tópicos relevantes en test set\n"
     ]
    },
    {
     "data": {
      "text/markdown": [
       "| Tópico | Probabilidad | Palabra 1 | Palabra 2 | Palabra 3 |\n",
       "| --- | --- | --- | --- | --- |\n",
       "| -1 | 0.5069324090121318 | tradiciones | pueblo | alimento |\n",
       "| 0 | 0.35181975736568455 | alimento | tradiciones | pueblo |\n",
       "| 1 | 0.08232235701906412 | tradiciones | pueblo | acuerdo |\n",
       "| 2 | 0.026863084922010397 | salud | importante | personas |\n",
       "| 3 | 0.01386481802426343 | proyecto | innovación | si |\n",
       "| 4 | 0.008665511265164644 | chile | relleno | chilena |\n",
       "| 7 | 0.0034662045060658577 | ciencia | desarrollo | humano |\n",
       "| 6 | 0.0025996533795493936 | opinión | opinion | mi |\n",
       "| 5 | 0.0017331022530329288 | postura | mantengo | no |\n",
       "| 8 | 0.0017331022530329288 | adele | debería | originario |\n"
      ],
      "text/plain": [
       "<IPython.core.display.Markdown object>"
      ]
     },
     "metadata": {},
     "output_type": "display_data"
    }
   ],
   "source": [
    "top_5_keys, top_5_values = get_top_k_topics(output_test[0],k=11)\n",
    "\n",
    "print(\"Tópicos relevantes en test set\")\n",
    "\n",
    "headers, data = get_table_top_topics(model,top_5_keys,top_5_values,max_w=3)\n",
    "print_table_md(headers, data)"
   ]
  },
  {
   "cell_type": "code",
   "execution_count": 5,
   "metadata": {},
   "outputs": [
    {
     "name": "stdout",
     "output_type": "stream",
     "text": [
      "Samples for topic  0\n",
      "Certainty: 0.5928528921574111 Text: Porque nuevamente entramos en el punto anterior es verdad que las tradiciones son importantes pero al final del día solo son eso tradiciones en cambio por el otro lado si se hace la vitamina entonces se podran salvar o dar vidas a muchos niños y abuelos.\n",
      "Certainty: 0.8184929352671545 Text: Al principio crei que era mas importante resguardas las tradiciones, cosa que claramente lo es, pero gracias a lo discutido, me di cuenta que la prooduccion de estos alimentos puede llegar a ser aprobada por los pueblos, teniendo en cuenta que siempre se podra llegar a acuerdos mediante el dialogo y la honestidad.\n",
      "Certainty: 0.8769676343956302 Text: El problema con los pueblos indigenas de la zona se puede resolver mediante dialogo y conversaciones, sin embargo, el bien que la produccion de la fruta podria generar en la población lamentablemente pesa más que las tradiciones del pueblo originario.\n",
      "Certainty: 0.7148793877266061 Text: La verdad es que me parece que Adela debería buscar otro elemento para producir su alimento, ya que ocupar la fruta del pueblo indígena afectaría a mucha gente, además que esta es parte de su cultura, o sea lleva mucho tiempo.No cambié de opinión\n",
      "Certainty: 0.5145955901395974 Text: se deben respetar las culturas de los distintos pueblos, pero se puede llegar a un acuerdo para poder ocupar la fruta para ayudar a la gente\n"
     ]
    }
   ],
   "source": [
    "from TM_utils import get_k_random_samples_from_topic\n",
    "\n",
    "top = 0\n",
    "df_samples, certainties = get_k_random_samples_from_topic(df_test,output_test,top)\n",
    "\n",
    "print(\"Samples for topic \", top)\n",
    "for i in range(len(df_samples)):\n",
    "    print(\"Certainty:\",certainties[i],\"Text:\", df_samples.iloc[i]['comment'])"
   ]
  },
  {
   "cell_type": "code",
   "execution_count": 6,
   "metadata": {},
   "outputs": [
    {
     "data": {
      "text/plain": [
       "['Si bien importante respetar tradiciones identitarias pueblo originario población beneficiada impacto alimento gran importancia salud niños adultos mayores presentan déficit vitaminico debería priorizar producción mismo',\n",
       " 'Me parece importante resguardar tradiciones identitarias creo Adela puede conversar intentar llegar acuerdo pueblo originario así poder producir alimento pasar llevar pueblo',\n",
       " 'Adela debería producir alimento Creo importante beneficiar gente posee déficit vitamínico importante resguardar tradiciones identitarias Pero salud población']"
      ]
     },
     "execution_count": 6,
     "metadata": {},
     "output_type": "execute_result"
    }
   ],
   "source": [
    "model.get_representative_docs(0)"
   ]
  },
  {
   "cell_type": "code",
   "execution_count": 7,
   "metadata": {},
   "outputs": [
    {
     "name": "stdout",
     "output_type": "stream",
     "text": [
      "Samples for topic  1\n",
      "Certainty: 0.9999999990793537 Text: debería priorizar el resguardo de las tradiciones ya que aún se puede usar el fruto sin pasar a llevar dichas tradiciones y se pueden buscar otras opciones\n",
      "Certainty: 0.32932292762675186 Text: Se deberia intentar llegar a un tipo de acuerdo con la comunidad indigena donde se respeten sus opiniones,pero tambien no se debe dejar de lado la produccion del alimento por su importancia en la salud, entonces lo ideal seria llegar a un acuerdo con la comunidad indigena\n",
      "Certainty: 0.19419768523298706 Text: Aun creo que mientras se respete y se haga de manera correcta, entonces ambos lados tendran que llegar a un punto medio, ya que esto beneficiaria a mucha gente\n",
      "Certainty: 0.983465822680526 Text: Es un producto que ayudaría a muchas personas, si bien la identidad y las tradiciones son importantes, hay que pensar en la ayuda a las personas\n",
      "Certainty: 0.15617274051507204 Text: Pienso que es importante conversarlo y en lo posible llegar a un acuerdo que beneficie a ambas partes ya sea que el proyecto se lleve a cabo o no\n"
     ]
    }
   ],
   "source": [
    "top = 1\n",
    "df_samples, certainties = get_k_random_samples_from_topic(df_test,output_test,top)\n",
    "\n",
    "print(\"Samples for topic \", top)\n",
    "for i in range(len(df_samples)):\n",
    "    print(\"Certainty:\",certainties[i],\"Text:\", df_samples.iloc[i]['comment'])"
   ]
  },
  {
   "cell_type": "code",
   "execution_count": 8,
   "metadata": {},
   "outputs": [
    {
     "data": {
      "text/plain": [
       "['Se deben resguardar tradiciones identitarias puesto deben proteger cuidar tradiciones pueblo d producción Por lado si debe producir alimento debería negociar pueblo originario buscar solución afecte priorizando costumbres cuidado tradiciones',\n",
       " 'Primero intentar llegar acuerdo pueblo si puede si puede salvar personas fruto entonces importante vida personas tradición',\n",
       " 'Creo importante resguardar tradiciones pueblo originario cultivó fruto primero importante respetar dicen escuchar inquietudes Creo importante dar espacio dialogo llegar acuerdo si pueblo originario acuerdo debe modificar nuevo producto simplemente producirlo fruto buscar manera involucre pueblo originario']"
      ]
     },
     "execution_count": 8,
     "metadata": {},
     "output_type": "execute_result"
    }
   ],
   "source": [
    "model.get_representative_docs(1)"
   ]
  },
  {
   "cell_type": "code",
   "execution_count": 9,
   "metadata": {},
   "outputs": [
    {
     "name": "stdout",
     "output_type": "stream",
     "text": [
      "Samples for topic  2\n",
      "Certainty: 0.10855154208536924 Text: lo mismo que en la anterior, siento que en mi grupo eran religiosos o algo por el estilo, ya que si producimos el alimento resguardando su preservacion, que facultad tienen ellos para impedirlo, en mi grupo pusieron la opcion 3 pero ni drogado pondría 3\n",
      "Certainty: 0.19115249911228355 Text: Si bien es importante las tradiciones de nuestros pueblos originarios también es muy importante la salud, nos inclinamos un poco más hacia la salud\n",
      "Certainty: 0.39071343887084703 Text: Las tradiciones son importantes y deben respetarse, pero se debe priorizar la salud. Aun así se puede buscar un acuerdo que sacrifique algunas modificaciones para mantener la esencia del producto y su simbología en las tradiciones.\n",
      "Certainty: 0.9999999996693223 Text: Desde mi punto de vista ético, priorizar superstición a ciencia exacta en medicina no es la forma ideal de resolver problemas. Si bien entiendo que para una cultura determinada es sagrado el alimento, para otras personas puede significar un malestar físico general grande que impida llevar a cabo una rutina diaria normal. Además considerando que afecta a un gran rango de personas.\n",
      "Certainty: 0.4120499700541932 Text: Es mas importantes la salud de una poblacion  que las creencias religiosas y culturales de un pueblo originario.\n"
     ]
    }
   ],
   "source": [
    "top = 2\n",
    "df_samples, certainties = get_k_random_samples_from_topic(df_test,output_test,top)\n",
    "\n",
    "print(\"Samples for topic \", top)\n",
    "for i in range(len(df_samples)):\n",
    "    print(\"Certainty:\",certainties[i],\"Text:\", df_samples.iloc[i]['comment'])"
   ]
  },
  {
   "cell_type": "code",
   "execution_count": 10,
   "metadata": {},
   "outputs": [
    {
     "data": {
      "text/plain": [
       "['Considero mas importante priorizar mayor parte población bien salud',\n",
       " 'importante salud creencias tradiciones pueblo originario',\n",
       " 'Si bien respetar tradiciones personas mayor prioridad salud personas']"
      ]
     },
     "execution_count": 10,
     "metadata": {},
     "output_type": "execute_result"
    }
   ],
   "source": [
    "model.get_representative_docs(2)"
   ]
  },
  {
   "cell_type": "code",
   "execution_count": 11,
   "metadata": {},
   "outputs": [
    {
     "name": "stdout",
     "output_type": "stream",
     "text": [
      "Samples for topic  3\n",
      "Certainty: 0.06638005877942017 Text: Se puede encontrar un equilibrio entre ambas sin pasar a llevar la identidad de un pueblo originario que tiene igual derecho sobre el territorio y los recursos disponibles, existen alternativas para realizar este tipo de procedimientos que puedan asegurar la comodidad del que sería el grupo afectado y para ayudar al grupo al que se quiere beneficiar, la ingeniería debe ser capaz de reconocer esas oportunidades de mejora.\n",
      "Certainty: 0.010676321580040315 Text: En este caso, se comentó que dentro del proceso ingenieril resulta fundamental encontrar nuevos caminos de innovación si es que involucra consecuencias irreversibles no solamente en la cultura sino también en la identidad de un pueblo. En esta sección estuve de acuerdo con la opción 2, ya que es fundamental; pese a que se hayan dedo todas las posibilidades de realizar un proyecto ingenieril (como el de Adela), buscar otras formas de lograr beneficiar a la salud pública.\n",
      "Certainty: 0.2718268453074011 Text: Si bien, en lo personal, lo más importante de decidir no seguir con el proyecto es el hecho de que hay escasez hidirica, también creo que es importante tener en consideración al pueblo originario.\n",
      "Certainty: 0.9999999997149592 Text: si bien adela no tiene limitaciones legales para su proyecto de innovación, si deberia tomar en cuenta la opinión de los pueblos originarios de la zona para tratar de llegar a un acuerdo con ellos, con el fin de respetar las tradiciones y la cultura\n",
      "Certainty: 0.013084993551640224 Text: La forma en que está diseñada la innovación nos parece bastante nociva, y que de todas maneras es modificable, de modo de producir el producto de manera respetuosa con las comunidades y los ecosistemas. Es una buena herramienta y por tanto se debería proseguir pero adaptando la forma\n"
     ]
    }
   ],
   "source": [
    "top = 3\n",
    "df_samples, certainties = get_k_random_samples_from_topic(df_test,output_test,top)\n",
    "\n",
    "print(\"Samples for topic \", top)\n",
    "for i in range(len(df_samples)):\n",
    "    print(\"Certainty:\",certainties[i],\"Text:\", df_samples.iloc[i]['comment'])"
   ]
  },
  {
   "cell_type": "code",
   "execution_count": 12,
   "metadata": {},
   "outputs": [
    {
     "data": {
      "text/plain": [
       "['si bien adela limitaciones legales proyecto innovación si deberia tomar cuenta opinión pueblos originarios zona tratar llegar acuerdo fin respetar tradiciones cultura',\n",
       " 'si bien adela limitaciones legales proyecto innovación si deberia tomar cuenta opinión pueblos originarios zona tratar llegar acuerdo fin respetar tradiciones cultura',\n",
       " 'si bien adela limitaciones legales proyecto innovación si deberia tomar cuenta opinión pueblos originarios zona tratar llegar acuerdo fin respetar tradiciones cultura']"
      ]
     },
     "execution_count": 12,
     "metadata": {},
     "output_type": "execute_result"
    }
   ],
   "source": [
    "model.get_representative_docs(3)"
   ]
  },
  {
   "cell_type": "code",
   "execution_count": 13,
   "metadata": {},
   "outputs": [
    {
     "name": "stdout",
     "output_type": "stream",
     "text": [
      "Samples for topic  4\n",
      "Certainty: 0.9043475651579465 Text: Creo que aunque se deben tratar de priorizar las tradiciones, si el alimento ayudará a la mayoría de chile, creo que esto se debe priorizar.\n",
      "Certainty: 0.9999999996393276 Text: En Chile se ha pisoteado demasiado a los pueblos originarios (ej el pueblo Ona), le debemos históricamente respeto a ellos y a sus tradiciones y creencias.\n",
      "Certainty: 0.1512657906611949 Text: Las tradiciones identitarias de la comunidad diaguita no son razón para negar la salud de la población chilena, especial niños y ancianos. Considero que es extremadamente egoísta de parte del pueblo querer priorizar métodos de cultivo ancestrales antes que la salud de Miles de personas.\n",
      "Certainty: 0.10792786057810576 Text: La situación de salud de los niños y adultos mayores es más importante ante la conservación de una tradición; asi como la monarquia algunas tradiciones se pueden interponer ante el progreso. La situación de salud de una gran cantidad de gente toma precedencia ante las tradiciones religiosas de un reducido grupo indigena del norte chileno.\n",
      "Certainty: 0.9110336697405619 Text: Si bien se necesita el avance tecnológico y crear nuevas maneras de cuidsr la salud de una gran parte de la población chilena, también se debe cuidar el medio ambiente ( como s edijo en la 1) Y si pasas a llevar a los pueblos avanzad 1 paso y retrocedes 2\n"
     ]
    }
   ],
   "source": [
    "top = 4\n",
    "df_samples, certainties = get_k_random_samples_from_topic(df_test,output_test,top)\n",
    "\n",
    "print(\"Samples for topic \", top)\n",
    "for i in range(len(df_samples)):\n",
    "    print(\"Certainty:\",certainties[i],\"Text:\", df_samples.iloc[i]['comment'])"
   ]
  },
  {
   "cell_type": "code",
   "execution_count": 14,
   "metadata": {},
   "outputs": [
    {
     "data": {
      "text/plain": [
       "['Mi opinión cambió Ojalá posible pueda llegar acuerdo pueblos originarios respetar aunque parte Pero definitivamente producir alimento genera bien mayor puede ayudar 50 % niños adultos mayores Chile',\n",
       " 'En caso pueblo diaguita opone directamente producción alimento creo ser alimento propio pueblo cultura importante escucharlos intentar llegar alguna clase acuerdo caso ser posible cuenta palabra pueblo originario importante país Además escucharlos podría producir algún tipo conflicto pueblo diaguita culturalmente beneficia Chile afecta estabilidad seguridad política país pudiendo incluso desencadenar alguna situación extrema además Chile pueblos originarios tomados cuenta deberían opinión',\n",
       " 'Ojalá posible pueda llegar acuerdo pueblos originarios respetar aunque parte Pero definitivamente producir alimento genera bien mayor puede ayudar 50 % niños adultos mayores Chile']"
      ]
     },
     "execution_count": 14,
     "metadata": {},
     "output_type": "execute_result"
    }
   ],
   "source": [
    "model.get_representative_docs(4)"
   ]
  },
  {
   "cell_type": "code",
   "execution_count": 15,
   "metadata": {},
   "outputs": [
    {
     "name": "stdout",
     "output_type": "stream",
     "text": [
      "Samples for topic  5\n",
      "Certainty: 0.5605630240233485 Text: no se responde porque se repitió\n",
      "Certainty: 0.061237103553946806 Text: 🥶\n",
      "\n",
      "\n"
     ]
    },
    {
     "data": {
      "text/plain": [
       "['Mantengo postura creo entiendi uso puntaje',\n",
       " 'Mantengo postura postura',\n",
       " 'Mantengo postura']"
      ]
     },
     "execution_count": 15,
     "metadata": {},
     "output_type": "execute_result"
    }
   ],
   "source": [
    "top = 5\n",
    "df_samples, certainties = get_k_random_samples_from_topic(df_test,output_test,top)\n",
    "\n",
    "print(\"Samples for topic \", top)\n",
    "for i in range(len(df_samples)):\n",
    "    print(\"Certainty:\",certainties[i],\"Text:\", df_samples.iloc[i]['comment'])\n",
    "\n",
    "print('\\n')\n",
    "model.get_representative_docs(5)"
   ]
  },
  {
   "cell_type": "markdown",
   "metadata": {},
   "source": [
    "Visualización"
   ]
  },
  {
   "cell_type": "code",
   "execution_count": 16,
   "metadata": {},
   "outputs": [],
   "source": [
    "test_docs = df_to_list(df_test,'comment',tokenizador)"
   ]
  },
  {
   "cell_type": "code",
   "execution_count": 17,
   "metadata": {},
   "outputs": [
    {
     "data": {
      "text/plain": [
       "array([0.70997229, 0.16899382, 0.05279868, 0.02142947, 0.01830873,\n",
       "       0.00970233, 0.00687404, 0.00395387, 0.00796679])"
      ]
     },
     "execution_count": 17,
     "metadata": {},
     "output_type": "execute_result"
    }
   ],
   "source": [
    "model.probabilities_[0]"
   ]
  },
  {
   "cell_type": "code",
   "execution_count": 18,
   "metadata": {},
   "outputs": [
    {
     "data": {
      "application/vnd.plotly.v1+json": {
       "config": {
        "plotlyServerURL": "https://plot.ly"
       },
       "data": [
        {
         "marker": {
          "color": "#C8D2D7",
          "line": {
           "color": "#6E8484",
           "width": 1
          }
         },
         "orientation": "h",
         "type": "bar",
         "x": [
          0.7099722870489562,
          0.1689938155453542,
          0.05279867500517433,
          0.02142947223080422,
          0.01830872734140197
         ],
         "y": [
          "<b>Topic 0</b>: alimento_tradiciones_pue...",
          "<b>Topic 1</b>: tradiciones_pueblo_acuer...",
          "<b>Topic 2</b>: salud_importante_persona...",
          "<b>Topic 3</b>: proyecto_innovación_si_a...",
          "<b>Topic 4</b>: chile_relleno_chilena_po..."
         ]
        }
       ],
       "layout": {
        "height": 600,
        "hoverlabel": {
         "bgcolor": "white",
         "font": {
          "family": "Rockwell",
          "size": 16
         }
        },
        "template": {
         "data": {
          "bar": [
           {
            "error_x": {
             "color": "rgb(36,36,36)"
            },
            "error_y": {
             "color": "rgb(36,36,36)"
            },
            "marker": {
             "line": {
              "color": "white",
              "width": 0.5
             },
             "pattern": {
              "fillmode": "overlay",
              "size": 10,
              "solidity": 0.2
             }
            },
            "type": "bar"
           }
          ],
          "barpolar": [
           {
            "marker": {
             "line": {
              "color": "white",
              "width": 0.5
             },
             "pattern": {
              "fillmode": "overlay",
              "size": 10,
              "solidity": 0.2
             }
            },
            "type": "barpolar"
           }
          ],
          "carpet": [
           {
            "aaxis": {
             "endlinecolor": "rgb(36,36,36)",
             "gridcolor": "white",
             "linecolor": "white",
             "minorgridcolor": "white",
             "startlinecolor": "rgb(36,36,36)"
            },
            "baxis": {
             "endlinecolor": "rgb(36,36,36)",
             "gridcolor": "white",
             "linecolor": "white",
             "minorgridcolor": "white",
             "startlinecolor": "rgb(36,36,36)"
            },
            "type": "carpet"
           }
          ],
          "choropleth": [
           {
            "colorbar": {
             "outlinewidth": 1,
             "tickcolor": "rgb(36,36,36)",
             "ticks": "outside"
            },
            "type": "choropleth"
           }
          ],
          "contour": [
           {
            "colorbar": {
             "outlinewidth": 1,
             "tickcolor": "rgb(36,36,36)",
             "ticks": "outside"
            },
            "colorscale": [
             [
              0,
              "#440154"
             ],
             [
              0.1111111111111111,
              "#482878"
             ],
             [
              0.2222222222222222,
              "#3e4989"
             ],
             [
              0.3333333333333333,
              "#31688e"
             ],
             [
              0.4444444444444444,
              "#26828e"
             ],
             [
              0.5555555555555556,
              "#1f9e89"
             ],
             [
              0.6666666666666666,
              "#35b779"
             ],
             [
              0.7777777777777778,
              "#6ece58"
             ],
             [
              0.8888888888888888,
              "#b5de2b"
             ],
             [
              1,
              "#fde725"
             ]
            ],
            "type": "contour"
           }
          ],
          "contourcarpet": [
           {
            "colorbar": {
             "outlinewidth": 1,
             "tickcolor": "rgb(36,36,36)",
             "ticks": "outside"
            },
            "type": "contourcarpet"
           }
          ],
          "heatmap": [
           {
            "colorbar": {
             "outlinewidth": 1,
             "tickcolor": "rgb(36,36,36)",
             "ticks": "outside"
            },
            "colorscale": [
             [
              0,
              "#440154"
             ],
             [
              0.1111111111111111,
              "#482878"
             ],
             [
              0.2222222222222222,
              "#3e4989"
             ],
             [
              0.3333333333333333,
              "#31688e"
             ],
             [
              0.4444444444444444,
              "#26828e"
             ],
             [
              0.5555555555555556,
              "#1f9e89"
             ],
             [
              0.6666666666666666,
              "#35b779"
             ],
             [
              0.7777777777777778,
              "#6ece58"
             ],
             [
              0.8888888888888888,
              "#b5de2b"
             ],
             [
              1,
              "#fde725"
             ]
            ],
            "type": "heatmap"
           }
          ],
          "heatmapgl": [
           {
            "colorbar": {
             "outlinewidth": 1,
             "tickcolor": "rgb(36,36,36)",
             "ticks": "outside"
            },
            "colorscale": [
             [
              0,
              "#440154"
             ],
             [
              0.1111111111111111,
              "#482878"
             ],
             [
              0.2222222222222222,
              "#3e4989"
             ],
             [
              0.3333333333333333,
              "#31688e"
             ],
             [
              0.4444444444444444,
              "#26828e"
             ],
             [
              0.5555555555555556,
              "#1f9e89"
             ],
             [
              0.6666666666666666,
              "#35b779"
             ],
             [
              0.7777777777777778,
              "#6ece58"
             ],
             [
              0.8888888888888888,
              "#b5de2b"
             ],
             [
              1,
              "#fde725"
             ]
            ],
            "type": "heatmapgl"
           }
          ],
          "histogram": [
           {
            "marker": {
             "line": {
              "color": "white",
              "width": 0.6
             }
            },
            "type": "histogram"
           }
          ],
          "histogram2d": [
           {
            "colorbar": {
             "outlinewidth": 1,
             "tickcolor": "rgb(36,36,36)",
             "ticks": "outside"
            },
            "colorscale": [
             [
              0,
              "#440154"
             ],
             [
              0.1111111111111111,
              "#482878"
             ],
             [
              0.2222222222222222,
              "#3e4989"
             ],
             [
              0.3333333333333333,
              "#31688e"
             ],
             [
              0.4444444444444444,
              "#26828e"
             ],
             [
              0.5555555555555556,
              "#1f9e89"
             ],
             [
              0.6666666666666666,
              "#35b779"
             ],
             [
              0.7777777777777778,
              "#6ece58"
             ],
             [
              0.8888888888888888,
              "#b5de2b"
             ],
             [
              1,
              "#fde725"
             ]
            ],
            "type": "histogram2d"
           }
          ],
          "histogram2dcontour": [
           {
            "colorbar": {
             "outlinewidth": 1,
             "tickcolor": "rgb(36,36,36)",
             "ticks": "outside"
            },
            "colorscale": [
             [
              0,
              "#440154"
             ],
             [
              0.1111111111111111,
              "#482878"
             ],
             [
              0.2222222222222222,
              "#3e4989"
             ],
             [
              0.3333333333333333,
              "#31688e"
             ],
             [
              0.4444444444444444,
              "#26828e"
             ],
             [
              0.5555555555555556,
              "#1f9e89"
             ],
             [
              0.6666666666666666,
              "#35b779"
             ],
             [
              0.7777777777777778,
              "#6ece58"
             ],
             [
              0.8888888888888888,
              "#b5de2b"
             ],
             [
              1,
              "#fde725"
             ]
            ],
            "type": "histogram2dcontour"
           }
          ],
          "mesh3d": [
           {
            "colorbar": {
             "outlinewidth": 1,
             "tickcolor": "rgb(36,36,36)",
             "ticks": "outside"
            },
            "type": "mesh3d"
           }
          ],
          "parcoords": [
           {
            "line": {
             "colorbar": {
              "outlinewidth": 1,
              "tickcolor": "rgb(36,36,36)",
              "ticks": "outside"
             }
            },
            "type": "parcoords"
           }
          ],
          "pie": [
           {
            "automargin": true,
            "type": "pie"
           }
          ],
          "scatter": [
           {
            "fillpattern": {
             "fillmode": "overlay",
             "size": 10,
             "solidity": 0.2
            },
            "type": "scatter"
           }
          ],
          "scatter3d": [
           {
            "line": {
             "colorbar": {
              "outlinewidth": 1,
              "tickcolor": "rgb(36,36,36)",
              "ticks": "outside"
             }
            },
            "marker": {
             "colorbar": {
              "outlinewidth": 1,
              "tickcolor": "rgb(36,36,36)",
              "ticks": "outside"
             }
            },
            "type": "scatter3d"
           }
          ],
          "scattercarpet": [
           {
            "marker": {
             "colorbar": {
              "outlinewidth": 1,
              "tickcolor": "rgb(36,36,36)",
              "ticks": "outside"
             }
            },
            "type": "scattercarpet"
           }
          ],
          "scattergeo": [
           {
            "marker": {
             "colorbar": {
              "outlinewidth": 1,
              "tickcolor": "rgb(36,36,36)",
              "ticks": "outside"
             }
            },
            "type": "scattergeo"
           }
          ],
          "scattergl": [
           {
            "marker": {
             "colorbar": {
              "outlinewidth": 1,
              "tickcolor": "rgb(36,36,36)",
              "ticks": "outside"
             }
            },
            "type": "scattergl"
           }
          ],
          "scattermapbox": [
           {
            "marker": {
             "colorbar": {
              "outlinewidth": 1,
              "tickcolor": "rgb(36,36,36)",
              "ticks": "outside"
             }
            },
            "type": "scattermapbox"
           }
          ],
          "scatterpolar": [
           {
            "marker": {
             "colorbar": {
              "outlinewidth": 1,
              "tickcolor": "rgb(36,36,36)",
              "ticks": "outside"
             }
            },
            "type": "scatterpolar"
           }
          ],
          "scatterpolargl": [
           {
            "marker": {
             "colorbar": {
              "outlinewidth": 1,
              "tickcolor": "rgb(36,36,36)",
              "ticks": "outside"
             }
            },
            "type": "scatterpolargl"
           }
          ],
          "scatterternary": [
           {
            "marker": {
             "colorbar": {
              "outlinewidth": 1,
              "tickcolor": "rgb(36,36,36)",
              "ticks": "outside"
             }
            },
            "type": "scatterternary"
           }
          ],
          "surface": [
           {
            "colorbar": {
             "outlinewidth": 1,
             "tickcolor": "rgb(36,36,36)",
             "ticks": "outside"
            },
            "colorscale": [
             [
              0,
              "#440154"
             ],
             [
              0.1111111111111111,
              "#482878"
             ],
             [
              0.2222222222222222,
              "#3e4989"
             ],
             [
              0.3333333333333333,
              "#31688e"
             ],
             [
              0.4444444444444444,
              "#26828e"
             ],
             [
              0.5555555555555556,
              "#1f9e89"
             ],
             [
              0.6666666666666666,
              "#35b779"
             ],
             [
              0.7777777777777778,
              "#6ece58"
             ],
             [
              0.8888888888888888,
              "#b5de2b"
             ],
             [
              1,
              "#fde725"
             ]
            ],
            "type": "surface"
           }
          ],
          "table": [
           {
            "cells": {
             "fill": {
              "color": "rgb(237,237,237)"
             },
             "line": {
              "color": "white"
             }
            },
            "header": {
             "fill": {
              "color": "rgb(217,217,217)"
             },
             "line": {
              "color": "white"
             }
            },
            "type": "table"
           }
          ]
         },
         "layout": {
          "annotationdefaults": {
           "arrowhead": 0,
           "arrowwidth": 1
          },
          "autotypenumbers": "strict",
          "coloraxis": {
           "colorbar": {
            "outlinewidth": 1,
            "tickcolor": "rgb(36,36,36)",
            "ticks": "outside"
           }
          },
          "colorscale": {
           "diverging": [
            [
             0,
             "rgb(103,0,31)"
            ],
            [
             0.1,
             "rgb(178,24,43)"
            ],
            [
             0.2,
             "rgb(214,96,77)"
            ],
            [
             0.3,
             "rgb(244,165,130)"
            ],
            [
             0.4,
             "rgb(253,219,199)"
            ],
            [
             0.5,
             "rgb(247,247,247)"
            ],
            [
             0.6,
             "rgb(209,229,240)"
            ],
            [
             0.7,
             "rgb(146,197,222)"
            ],
            [
             0.8,
             "rgb(67,147,195)"
            ],
            [
             0.9,
             "rgb(33,102,172)"
            ],
            [
             1,
             "rgb(5,48,97)"
            ]
           ],
           "sequential": [
            [
             0,
             "#440154"
            ],
            [
             0.1111111111111111,
             "#482878"
            ],
            [
             0.2222222222222222,
             "#3e4989"
            ],
            [
             0.3333333333333333,
             "#31688e"
            ],
            [
             0.4444444444444444,
             "#26828e"
            ],
            [
             0.5555555555555556,
             "#1f9e89"
            ],
            [
             0.6666666666666666,
             "#35b779"
            ],
            [
             0.7777777777777778,
             "#6ece58"
            ],
            [
             0.8888888888888888,
             "#b5de2b"
            ],
            [
             1,
             "#fde725"
            ]
           ],
           "sequentialminus": [
            [
             0,
             "#440154"
            ],
            [
             0.1111111111111111,
             "#482878"
            ],
            [
             0.2222222222222222,
             "#3e4989"
            ],
            [
             0.3333333333333333,
             "#31688e"
            ],
            [
             0.4444444444444444,
             "#26828e"
            ],
            [
             0.5555555555555556,
             "#1f9e89"
            ],
            [
             0.6666666666666666,
             "#35b779"
            ],
            [
             0.7777777777777778,
             "#6ece58"
            ],
            [
             0.8888888888888888,
             "#b5de2b"
            ],
            [
             1,
             "#fde725"
            ]
           ]
          },
          "colorway": [
           "#1F77B4",
           "#FF7F0E",
           "#2CA02C",
           "#D62728",
           "#9467BD",
           "#8C564B",
           "#E377C2",
           "#7F7F7F",
           "#BCBD22",
           "#17BECF"
          ],
          "font": {
           "color": "rgb(36,36,36)"
          },
          "geo": {
           "bgcolor": "white",
           "lakecolor": "white",
           "landcolor": "white",
           "showlakes": true,
           "showland": true,
           "subunitcolor": "white"
          },
          "hoverlabel": {
           "align": "left"
          },
          "hovermode": "closest",
          "mapbox": {
           "style": "light"
          },
          "paper_bgcolor": "white",
          "plot_bgcolor": "white",
          "polar": {
           "angularaxis": {
            "gridcolor": "rgb(232,232,232)",
            "linecolor": "rgb(36,36,36)",
            "showgrid": false,
            "showline": true,
            "ticks": "outside"
           },
           "bgcolor": "white",
           "radialaxis": {
            "gridcolor": "rgb(232,232,232)",
            "linecolor": "rgb(36,36,36)",
            "showgrid": false,
            "showline": true,
            "ticks": "outside"
           }
          },
          "scene": {
           "xaxis": {
            "backgroundcolor": "white",
            "gridcolor": "rgb(232,232,232)",
            "gridwidth": 2,
            "linecolor": "rgb(36,36,36)",
            "showbackground": true,
            "showgrid": false,
            "showline": true,
            "ticks": "outside",
            "zeroline": false,
            "zerolinecolor": "rgb(36,36,36)"
           },
           "yaxis": {
            "backgroundcolor": "white",
            "gridcolor": "rgb(232,232,232)",
            "gridwidth": 2,
            "linecolor": "rgb(36,36,36)",
            "showbackground": true,
            "showgrid": false,
            "showline": true,
            "ticks": "outside",
            "zeroline": false,
            "zerolinecolor": "rgb(36,36,36)"
           },
           "zaxis": {
            "backgroundcolor": "white",
            "gridcolor": "rgb(232,232,232)",
            "gridwidth": 2,
            "linecolor": "rgb(36,36,36)",
            "showbackground": true,
            "showgrid": false,
            "showline": true,
            "ticks": "outside",
            "zeroline": false,
            "zerolinecolor": "rgb(36,36,36)"
           }
          },
          "shapedefaults": {
           "fillcolor": "black",
           "line": {
            "width": 0
           },
           "opacity": 0.3
          },
          "ternary": {
           "aaxis": {
            "gridcolor": "rgb(232,232,232)",
            "linecolor": "rgb(36,36,36)",
            "showgrid": false,
            "showline": true,
            "ticks": "outside"
           },
           "baxis": {
            "gridcolor": "rgb(232,232,232)",
            "linecolor": "rgb(36,36,36)",
            "showgrid": false,
            "showline": true,
            "ticks": "outside"
           },
           "bgcolor": "white",
           "caxis": {
            "gridcolor": "rgb(232,232,232)",
            "linecolor": "rgb(36,36,36)",
            "showgrid": false,
            "showline": true,
            "ticks": "outside"
           }
          },
          "title": {
           "x": 0.05
          },
          "xaxis": {
           "automargin": true,
           "gridcolor": "rgb(232,232,232)",
           "linecolor": "rgb(36,36,36)",
           "showgrid": false,
           "showline": true,
           "ticks": "outside",
           "title": {
            "standoff": 15
           },
           "zeroline": false,
           "zerolinecolor": "rgb(36,36,36)"
          },
          "yaxis": {
           "automargin": true,
           "gridcolor": "rgb(232,232,232)",
           "linecolor": "rgb(36,36,36)",
           "showgrid": false,
           "showline": true,
           "ticks": "outside",
           "title": {
            "standoff": 15
           },
           "zeroline": false,
           "zerolinecolor": "rgb(36,36,36)"
          }
         }
        },
        "title": {
         "font": {
          "color": "Black",
          "size": 22
         },
         "text": "<b>Topic Probability Distribution</b>",
         "x": 0.5,
         "xanchor": "center",
         "y": 0.95,
         "yanchor": "top"
        },
        "width": 800,
        "xaxis": {
         "title": {
          "text": "Probability"
         }
        }
       }
      }
     },
     "metadata": {},
     "output_type": "display_data"
    }
   ],
   "source": [
    "model.visualize_distribution(model.probabilities_[0])"
   ]
  },
  {
   "cell_type": "code",
   "execution_count": null,
   "metadata": {},
   "outputs": [],
   "source": [
    "from sentence_transformers import SentenceTransformer\n",
    "sentence_model = SentenceTransformer(\"paraphrase-multilingual-MiniLM-L12-v2\")\n",
    "embeddings = sentence_model.encode(test_docs, show_progress_bar=True)"
   ]
  },
  {
   "cell_type": "code",
   "execution_count": null,
   "metadata": {},
   "outputs": [],
   "source": [
    "embeddings.shape"
   ]
  },
  {
   "cell_type": "code",
   "execution_count": null,
   "metadata": {},
   "outputs": [],
   "source": [
    "len(test_docs)"
   ]
  },
  {
   "cell_type": "code",
   "execution_count": 21,
   "metadata": {},
   "outputs": [],
   "source": [
    "from umap import UMAP\n",
    "reduced_embeddings = UMAP(n_neighbors=10, n_components=2, min_dist=0.0, metric='cosine').fit_transform(embeddings)"
   ]
  },
  {
   "cell_type": "code",
   "execution_count": null,
   "metadata": {},
   "outputs": [],
   "source": [
    "model.visualize_documents(test_docs, embeddings=reduced_embeddings)"
   ]
  },
  {
   "cell_type": "code",
   "execution_count": 19,
   "metadata": {},
   "outputs": [
    {
     "data": {
      "application/vnd.plotly.v1+json": {
       "config": {
        "plotlyServerURL": "https://plot.ly"
       },
       "data": [
        {
         "coloraxis": "coloraxis",
         "hovertemplate": "x: %{x}<br>y: %{y}<br>Similarity Score: %{z}<extra></extra>",
         "name": "0",
         "type": "heatmap",
         "x": [
          "0_alimento_tradiciones_pueblo",
          "1_tradiciones_pueblo_acuerdo",
          "2_salud_importante_personas",
          "3_proyecto_innovación_si",
          "4_chile_relleno_chilena",
          "5_postura_mantengo_no",
          "6_opinión_opinion_mi",
          "7_ciencia_desarrollo_humano",
          "8_adele_debería_originario"
         ],
         "xaxis": "x",
         "y": [
          "0_alimento_tradiciones_pueblo",
          "1_tradiciones_pueblo_acuerdo",
          "2_salud_importante_personas",
          "3_proyecto_innovación_si",
          "4_chile_relleno_chilena",
          "5_postura_mantengo_no",
          "6_opinión_opinion_mi",
          "7_ciencia_desarrollo_humano",
          "8_adele_debería_originario"
         ],
         "yaxis": "y",
         "z": [
          [
           1,
           0.820307115789368,
           0.7997354777235509,
           0.7203282902116999,
           0.7614705170656103,
           0.2247662390250345,
           0.3390186159994986,
           0.648199915938529,
           0.6852827889535782
          ],
          [
           0.820307115789368,
           0.9999999999999999,
           0.814052669297135,
           0.843027371122437,
           0.6898729389953089,
           0.32467659940796484,
           0.47011802925970214,
           0.6828496093128744,
           0.6480208947673848
          ],
          [
           0.7997354777235509,
           0.814052669297135,
           0.9999999999999999,
           0.6644749914559238,
           0.6461332457801867,
           0.26588009501386817,
           0.43193232622775657,
           0.6706929173008953,
           0.5772378389322694
          ],
          [
           0.7203282902116999,
           0.843027371122437,
           0.6644749914559238,
           0.9999999999999992,
           0.5916885960738485,
           0.2880573355021909,
           0.5210765775737416,
           0.7221470816505904,
           0.6333260902950328
          ],
          [
           0.7614705170656103,
           0.6898729389953089,
           0.6461332457801867,
           0.5916885960738485,
           0.9999999999999998,
           0.20508837551741588,
           0.34072078513460025,
           0.4789218554891058,
           0.53947175873605
          ],
          [
           0.2247662390250345,
           0.32467659940796484,
           0.26588009501386817,
           0.2880573355021909,
           0.20508837551741588,
           1,
           0.5022796948106487,
           0.2732876733208126,
           0.22121442567333482
          ],
          [
           0.3390186159994986,
           0.47011802925970214,
           0.43193232622775657,
           0.5210765775737416,
           0.34072078513460025,
           0.5022796948106487,
           1,
           0.3726506828749241,
           0.41430547814863206
          ],
          [
           0.648199915938529,
           0.6828496093128744,
           0.6706929173008953,
           0.7221470816505904,
           0.4789218554891058,
           0.2732876733208126,
           0.3726506828749241,
           1.0000000000000009,
           0.48049251640261326
          ],
          [
           0.6852827889535782,
           0.6480208947673848,
           0.5772378389322694,
           0.6333260902950328,
           0.53947175873605,
           0.22121442567333482,
           0.41430547814863206,
           0.48049251640261326,
           1.0000000000000002
          ]
         ]
        }
       ],
       "layout": {
        "coloraxis": {
         "colorbar": {
          "title": {
           "text": "Similarity Score"
          }
         },
         "colorscale": [
          [
           0,
           "rgb(247,252,240)"
          ],
          [
           0.125,
           "rgb(224,243,219)"
          ],
          [
           0.25,
           "rgb(204,235,197)"
          ],
          [
           0.375,
           "rgb(168,221,181)"
          ],
          [
           0.5,
           "rgb(123,204,196)"
          ],
          [
           0.625,
           "rgb(78,179,211)"
          ],
          [
           0.75,
           "rgb(43,140,190)"
          ],
          [
           0.875,
           "rgb(8,104,172)"
          ],
          [
           1,
           "rgb(8,64,129)"
          ]
         ]
        },
        "height": 800,
        "hoverlabel": {
         "bgcolor": "white",
         "font": {
          "family": "Rockwell",
          "size": 16
         }
        },
        "legend": {
         "title": {
          "text": "Trend"
         }
        },
        "margin": {
         "t": 60
        },
        "showlegend": true,
        "template": {
         "data": {
          "bar": [
           {
            "error_x": {
             "color": "#2a3f5f"
            },
            "error_y": {
             "color": "#2a3f5f"
            },
            "marker": {
             "line": {
              "color": "#E5ECF6",
              "width": 0.5
             },
             "pattern": {
              "fillmode": "overlay",
              "size": 10,
              "solidity": 0.2
             }
            },
            "type": "bar"
           }
          ],
          "barpolar": [
           {
            "marker": {
             "line": {
              "color": "#E5ECF6",
              "width": 0.5
             },
             "pattern": {
              "fillmode": "overlay",
              "size": 10,
              "solidity": 0.2
             }
            },
            "type": "barpolar"
           }
          ],
          "carpet": [
           {
            "aaxis": {
             "endlinecolor": "#2a3f5f",
             "gridcolor": "white",
             "linecolor": "white",
             "minorgridcolor": "white",
             "startlinecolor": "#2a3f5f"
            },
            "baxis": {
             "endlinecolor": "#2a3f5f",
             "gridcolor": "white",
             "linecolor": "white",
             "minorgridcolor": "white",
             "startlinecolor": "#2a3f5f"
            },
            "type": "carpet"
           }
          ],
          "choropleth": [
           {
            "colorbar": {
             "outlinewidth": 0,
             "ticks": ""
            },
            "type": "choropleth"
           }
          ],
          "contour": [
           {
            "colorbar": {
             "outlinewidth": 0,
             "ticks": ""
            },
            "colorscale": [
             [
              0,
              "#0d0887"
             ],
             [
              0.1111111111111111,
              "#46039f"
             ],
             [
              0.2222222222222222,
              "#7201a8"
             ],
             [
              0.3333333333333333,
              "#9c179e"
             ],
             [
              0.4444444444444444,
              "#bd3786"
             ],
             [
              0.5555555555555556,
              "#d8576b"
             ],
             [
              0.6666666666666666,
              "#ed7953"
             ],
             [
              0.7777777777777778,
              "#fb9f3a"
             ],
             [
              0.8888888888888888,
              "#fdca26"
             ],
             [
              1,
              "#f0f921"
             ]
            ],
            "type": "contour"
           }
          ],
          "contourcarpet": [
           {
            "colorbar": {
             "outlinewidth": 0,
             "ticks": ""
            },
            "type": "contourcarpet"
           }
          ],
          "heatmap": [
           {
            "colorbar": {
             "outlinewidth": 0,
             "ticks": ""
            },
            "colorscale": [
             [
              0,
              "#0d0887"
             ],
             [
              0.1111111111111111,
              "#46039f"
             ],
             [
              0.2222222222222222,
              "#7201a8"
             ],
             [
              0.3333333333333333,
              "#9c179e"
             ],
             [
              0.4444444444444444,
              "#bd3786"
             ],
             [
              0.5555555555555556,
              "#d8576b"
             ],
             [
              0.6666666666666666,
              "#ed7953"
             ],
             [
              0.7777777777777778,
              "#fb9f3a"
             ],
             [
              0.8888888888888888,
              "#fdca26"
             ],
             [
              1,
              "#f0f921"
             ]
            ],
            "type": "heatmap"
           }
          ],
          "heatmapgl": [
           {
            "colorbar": {
             "outlinewidth": 0,
             "ticks": ""
            },
            "colorscale": [
             [
              0,
              "#0d0887"
             ],
             [
              0.1111111111111111,
              "#46039f"
             ],
             [
              0.2222222222222222,
              "#7201a8"
             ],
             [
              0.3333333333333333,
              "#9c179e"
             ],
             [
              0.4444444444444444,
              "#bd3786"
             ],
             [
              0.5555555555555556,
              "#d8576b"
             ],
             [
              0.6666666666666666,
              "#ed7953"
             ],
             [
              0.7777777777777778,
              "#fb9f3a"
             ],
             [
              0.8888888888888888,
              "#fdca26"
             ],
             [
              1,
              "#f0f921"
             ]
            ],
            "type": "heatmapgl"
           }
          ],
          "histogram": [
           {
            "marker": {
             "pattern": {
              "fillmode": "overlay",
              "size": 10,
              "solidity": 0.2
             }
            },
            "type": "histogram"
           }
          ],
          "histogram2d": [
           {
            "colorbar": {
             "outlinewidth": 0,
             "ticks": ""
            },
            "colorscale": [
             [
              0,
              "#0d0887"
             ],
             [
              0.1111111111111111,
              "#46039f"
             ],
             [
              0.2222222222222222,
              "#7201a8"
             ],
             [
              0.3333333333333333,
              "#9c179e"
             ],
             [
              0.4444444444444444,
              "#bd3786"
             ],
             [
              0.5555555555555556,
              "#d8576b"
             ],
             [
              0.6666666666666666,
              "#ed7953"
             ],
             [
              0.7777777777777778,
              "#fb9f3a"
             ],
             [
              0.8888888888888888,
              "#fdca26"
             ],
             [
              1,
              "#f0f921"
             ]
            ],
            "type": "histogram2d"
           }
          ],
          "histogram2dcontour": [
           {
            "colorbar": {
             "outlinewidth": 0,
             "ticks": ""
            },
            "colorscale": [
             [
              0,
              "#0d0887"
             ],
             [
              0.1111111111111111,
              "#46039f"
             ],
             [
              0.2222222222222222,
              "#7201a8"
             ],
             [
              0.3333333333333333,
              "#9c179e"
             ],
             [
              0.4444444444444444,
              "#bd3786"
             ],
             [
              0.5555555555555556,
              "#d8576b"
             ],
             [
              0.6666666666666666,
              "#ed7953"
             ],
             [
              0.7777777777777778,
              "#fb9f3a"
             ],
             [
              0.8888888888888888,
              "#fdca26"
             ],
             [
              1,
              "#f0f921"
             ]
            ],
            "type": "histogram2dcontour"
           }
          ],
          "mesh3d": [
           {
            "colorbar": {
             "outlinewidth": 0,
             "ticks": ""
            },
            "type": "mesh3d"
           }
          ],
          "parcoords": [
           {
            "line": {
             "colorbar": {
              "outlinewidth": 0,
              "ticks": ""
             }
            },
            "type": "parcoords"
           }
          ],
          "pie": [
           {
            "automargin": true,
            "type": "pie"
           }
          ],
          "scatter": [
           {
            "fillpattern": {
             "fillmode": "overlay",
             "size": 10,
             "solidity": 0.2
            },
            "type": "scatter"
           }
          ],
          "scatter3d": [
           {
            "line": {
             "colorbar": {
              "outlinewidth": 0,
              "ticks": ""
             }
            },
            "marker": {
             "colorbar": {
              "outlinewidth": 0,
              "ticks": ""
             }
            },
            "type": "scatter3d"
           }
          ],
          "scattercarpet": [
           {
            "marker": {
             "colorbar": {
              "outlinewidth": 0,
              "ticks": ""
             }
            },
            "type": "scattercarpet"
           }
          ],
          "scattergeo": [
           {
            "marker": {
             "colorbar": {
              "outlinewidth": 0,
              "ticks": ""
             }
            },
            "type": "scattergeo"
           }
          ],
          "scattergl": [
           {
            "marker": {
             "colorbar": {
              "outlinewidth": 0,
              "ticks": ""
             }
            },
            "type": "scattergl"
           }
          ],
          "scattermapbox": [
           {
            "marker": {
             "colorbar": {
              "outlinewidth": 0,
              "ticks": ""
             }
            },
            "type": "scattermapbox"
           }
          ],
          "scatterpolar": [
           {
            "marker": {
             "colorbar": {
              "outlinewidth": 0,
              "ticks": ""
             }
            },
            "type": "scatterpolar"
           }
          ],
          "scatterpolargl": [
           {
            "marker": {
             "colorbar": {
              "outlinewidth": 0,
              "ticks": ""
             }
            },
            "type": "scatterpolargl"
           }
          ],
          "scatterternary": [
           {
            "marker": {
             "colorbar": {
              "outlinewidth": 0,
              "ticks": ""
             }
            },
            "type": "scatterternary"
           }
          ],
          "surface": [
           {
            "colorbar": {
             "outlinewidth": 0,
             "ticks": ""
            },
            "colorscale": [
             [
              0,
              "#0d0887"
             ],
             [
              0.1111111111111111,
              "#46039f"
             ],
             [
              0.2222222222222222,
              "#7201a8"
             ],
             [
              0.3333333333333333,
              "#9c179e"
             ],
             [
              0.4444444444444444,
              "#bd3786"
             ],
             [
              0.5555555555555556,
              "#d8576b"
             ],
             [
              0.6666666666666666,
              "#ed7953"
             ],
             [
              0.7777777777777778,
              "#fb9f3a"
             ],
             [
              0.8888888888888888,
              "#fdca26"
             ],
             [
              1,
              "#f0f921"
             ]
            ],
            "type": "surface"
           }
          ],
          "table": [
           {
            "cells": {
             "fill": {
              "color": "#EBF0F8"
             },
             "line": {
              "color": "white"
             }
            },
            "header": {
             "fill": {
              "color": "#C8D4E3"
             },
             "line": {
              "color": "white"
             }
            },
            "type": "table"
           }
          ]
         },
         "layout": {
          "annotationdefaults": {
           "arrowcolor": "#2a3f5f",
           "arrowhead": 0,
           "arrowwidth": 1
          },
          "autotypenumbers": "strict",
          "coloraxis": {
           "colorbar": {
            "outlinewidth": 0,
            "ticks": ""
           }
          },
          "colorscale": {
           "diverging": [
            [
             0,
             "#8e0152"
            ],
            [
             0.1,
             "#c51b7d"
            ],
            [
             0.2,
             "#de77ae"
            ],
            [
             0.3,
             "#f1b6da"
            ],
            [
             0.4,
             "#fde0ef"
            ],
            [
             0.5,
             "#f7f7f7"
            ],
            [
             0.6,
             "#e6f5d0"
            ],
            [
             0.7,
             "#b8e186"
            ],
            [
             0.8,
             "#7fbc41"
            ],
            [
             0.9,
             "#4d9221"
            ],
            [
             1,
             "#276419"
            ]
           ],
           "sequential": [
            [
             0,
             "#0d0887"
            ],
            [
             0.1111111111111111,
             "#46039f"
            ],
            [
             0.2222222222222222,
             "#7201a8"
            ],
            [
             0.3333333333333333,
             "#9c179e"
            ],
            [
             0.4444444444444444,
             "#bd3786"
            ],
            [
             0.5555555555555556,
             "#d8576b"
            ],
            [
             0.6666666666666666,
             "#ed7953"
            ],
            [
             0.7777777777777778,
             "#fb9f3a"
            ],
            [
             0.8888888888888888,
             "#fdca26"
            ],
            [
             1,
             "#f0f921"
            ]
           ],
           "sequentialminus": [
            [
             0,
             "#0d0887"
            ],
            [
             0.1111111111111111,
             "#46039f"
            ],
            [
             0.2222222222222222,
             "#7201a8"
            ],
            [
             0.3333333333333333,
             "#9c179e"
            ],
            [
             0.4444444444444444,
             "#bd3786"
            ],
            [
             0.5555555555555556,
             "#d8576b"
            ],
            [
             0.6666666666666666,
             "#ed7953"
            ],
            [
             0.7777777777777778,
             "#fb9f3a"
            ],
            [
             0.8888888888888888,
             "#fdca26"
            ],
            [
             1,
             "#f0f921"
            ]
           ]
          },
          "colorway": [
           "#636efa",
           "#EF553B",
           "#00cc96",
           "#ab63fa",
           "#FFA15A",
           "#19d3f3",
           "#FF6692",
           "#B6E880",
           "#FF97FF",
           "#FECB52"
          ],
          "font": {
           "color": "#2a3f5f"
          },
          "geo": {
           "bgcolor": "white",
           "lakecolor": "white",
           "landcolor": "#E5ECF6",
           "showlakes": true,
           "showland": true,
           "subunitcolor": "white"
          },
          "hoverlabel": {
           "align": "left"
          },
          "hovermode": "closest",
          "mapbox": {
           "style": "light"
          },
          "paper_bgcolor": "white",
          "plot_bgcolor": "#E5ECF6",
          "polar": {
           "angularaxis": {
            "gridcolor": "white",
            "linecolor": "white",
            "ticks": ""
           },
           "bgcolor": "#E5ECF6",
           "radialaxis": {
            "gridcolor": "white",
            "linecolor": "white",
            "ticks": ""
           }
          },
          "scene": {
           "xaxis": {
            "backgroundcolor": "#E5ECF6",
            "gridcolor": "white",
            "gridwidth": 2,
            "linecolor": "white",
            "showbackground": true,
            "ticks": "",
            "zerolinecolor": "white"
           },
           "yaxis": {
            "backgroundcolor": "#E5ECF6",
            "gridcolor": "white",
            "gridwidth": 2,
            "linecolor": "white",
            "showbackground": true,
            "ticks": "",
            "zerolinecolor": "white"
           },
           "zaxis": {
            "backgroundcolor": "#E5ECF6",
            "gridcolor": "white",
            "gridwidth": 2,
            "linecolor": "white",
            "showbackground": true,
            "ticks": "",
            "zerolinecolor": "white"
           }
          },
          "shapedefaults": {
           "line": {
            "color": "#2a3f5f"
           }
          },
          "ternary": {
           "aaxis": {
            "gridcolor": "white",
            "linecolor": "white",
            "ticks": ""
           },
           "baxis": {
            "gridcolor": "white",
            "linecolor": "white",
            "ticks": ""
           },
           "bgcolor": "#E5ECF6",
           "caxis": {
            "gridcolor": "white",
            "linecolor": "white",
            "ticks": ""
           }
          },
          "title": {
           "x": 0.05
          },
          "xaxis": {
           "automargin": true,
           "gridcolor": "white",
           "linecolor": "white",
           "ticks": "",
           "title": {
            "standoff": 15
           },
           "zerolinecolor": "white",
           "zerolinewidth": 2
          },
          "yaxis": {
           "automargin": true,
           "gridcolor": "white",
           "linecolor": "white",
           "ticks": "",
           "title": {
            "standoff": 15
           },
           "zerolinecolor": "white",
           "zerolinewidth": 2
          }
         }
        },
        "title": {
         "font": {
          "color": "Black",
          "size": 22
         },
         "text": "<b>Similarity Matrix</b>",
         "x": 0.55,
         "xanchor": "center",
         "y": 0.95,
         "yanchor": "top"
        },
        "width": 800,
        "xaxis": {
         "anchor": "y",
         "constrain": "domain",
         "domain": [
          0,
          1
         ],
         "scaleanchor": "y"
        },
        "yaxis": {
         "anchor": "x",
         "autorange": "reversed",
         "constrain": "domain",
         "domain": [
          0,
          1
         ]
        }
       }
      }
     },
     "metadata": {},
     "output_type": "display_data"
    }
   ],
   "source": [
    "model.visualize_heatmap()"
   ]
  },
  {
   "cell_type": "code",
   "execution_count": null,
   "metadata": {},
   "outputs": [],
   "source": [
    "from sentence_transformers import SentenceTransformer\n",
    "\n",
    "# Prepare embeddings\n",
    "sentence_model = SentenceTransformer(\"paraphrase-multilingual-MiniLM-L12-v2\")\n",
    "embeddings = sentence_model.encode(test_docs, show_progress_bar=False)\n",
    "\n",
    "# Train BERTopic and extract hierarchical topics\n",
    "hierarchical_topics = model.hierarchical_topics(test_docs)\n",
    "\n",
    "# Run the visualization with the original embeddings\n",
    "model.visualize_hierarchical_documents(test_docs, hierarchical_topics, embeddings=embeddings)"
   ]
  },
  {
   "cell_type": "code",
   "execution_count": 20,
   "metadata": {},
   "outputs": [
    {
     "data": {
      "application/vnd.plotly.v1+json": {
       "config": {
        "plotlyServerURL": "https://plot.ly"
       },
       "data": [
        {
         "hovertext": "<b>Topic -1</b>:tradiciones_pueblo_alimento_si_imp",
         "line": {
          "color": "black",
          "width": 1.5
         },
         "mode": "lines+lines",
         "name": "",
         "opacity": 0.1,
         "type": "scatter",
         "x": [
          1,
          2,
          3,
          4,
          5,
          6,
          7,
          8,
          9,
          10
         ],
         "y": [
          0.039798727909871996,
          0.035515742417978016,
          0.03400697581043829,
          0.030904333231954417,
          0.027343166604392698,
          0.0247737159547171,
          0.02385265130490946,
          0.02285323134185551,
          0.0222135002417776,
          0.022209239417523716
         ]
        },
        {
         "hovertext": "<b>Topic 0</b>:alimento_tradiciones_pueblo_produci",
         "line": {
          "color": "black",
          "width": 1.5
         },
         "mode": "lines+lines",
         "name": "",
         "opacity": 0.1,
         "type": "scatter",
         "x": [
          1,
          2,
          3,
          4,
          5,
          6,
          7,
          8,
          9,
          10
         ],
         "y": [
          0.046429723557414544,
          0.04200582901419748,
          0.036306248466687854,
          0.032102671194072334,
          0.02860681798164325,
          0.028586104108929162,
          0.028292492632456347,
          0.027899680081711835,
          0.02699091755344607,
          0.025740632817732312
         ]
        },
        {
         "hovertext": "<b>Topic 1</b>:tradiciones_pueblo_acuerdo_importan",
         "line": {
          "color": "black",
          "width": 1.5
         },
         "mode": "lines+lines",
         "name": "",
         "opacity": 0.1,
         "type": "scatter",
         "x": [
          1,
          2,
          3,
          4,
          5,
          6,
          7,
          8,
          9,
          10
         ],
         "y": [
          0.05550287249224231,
          0.0365210475841725,
          0.03314033645664977,
          0.03208936324302486,
          0.03149086081895345,
          0.030298257725569717,
          0.028008685399218594,
          0.027061333093449488,
          0.02598862696277068,
          0.02500599058577455
         ]
        },
        {
         "hovertext": "<b>Topic 2</b>:salud_importante_personas_tradicion",
         "line": {
          "color": "black",
          "width": 1.5
         },
         "mode": "lines+lines",
         "name": "",
         "opacity": 0.1,
         "type": "scatter",
         "x": [
          1,
          2,
          3,
          4,
          5,
          6,
          7,
          8,
          9,
          10
         ],
         "y": [
          0.115221451452051,
          0.05317090293618753,
          0.04864212004855345,
          0.04708185559283129,
          0.04703002407330329,
          0.036385370129203176,
          0.035995195852378745,
          0.03491603443615957,
          0.02629654771897409,
          0.025909110256182043
         ]
        },
        {
         "hovertext": "<b>Topic 3</b>:proyecto_innovación_si_acuerdo_pueb",
         "line": {
          "color": "black",
          "width": 1.5
         },
         "mode": "lines+lines",
         "name": "",
         "opacity": 0.1,
         "type": "scatter",
         "x": [
          1,
          2,
          3,
          4,
          5,
          6,
          7,
          8,
          9,
          10
         ],
         "y": [
          0.09460255307584398,
          0.06672838549973494,
          0.054981226331571216,
          0.039499350486879595,
          0.034941053522316114,
          0.032311790315203294,
          0.03153317444334005,
          0.029435249201460043,
          0.028513023117790977,
          0.027599801565161123
         ]
        },
        {
         "hovertext": "<b>Topic 4</b>:chile_relleno_chilena_población_pue",
         "line": {
          "color": "black",
          "width": 1.5
         },
         "mode": "lines+lines",
         "name": "",
         "opacity": 0.1,
         "type": "scatter",
         "x": [
          1,
          2,
          3,
          4,
          5,
          6,
          7,
          8,
          9,
          10
         ],
         "y": [
          0.12860306553392464,
          0.07977584657428513,
          0.05654469143565384,
          0.04915869673145227,
          0.041663279047023306,
          0.036880261550745905,
          0.03631790007441165,
          0.03466040663447048,
          0.03452869037781562,
          0.03429445338535174
         ]
        },
        {
         "hovertext": "<b>Topic 5</b>:postura_mantengo_no_creo_modifico_e",
         "line": {
          "color": "black",
          "width": 1.5
         },
         "mode": "lines+lines",
         "name": "",
         "opacity": 0.1,
         "type": "scatter",
         "x": [
          1,
          2,
          3,
          4,
          5,
          6,
          7,
          8,
          9,
          10
         ],
         "y": [
          0.38066726378896953,
          0.3649342488413682,
          0.191530083816008,
          0.1654757780879584,
          0.14130768331353044,
          0.14130768331353044,
          0.14130768331353044,
          0.14130768331353044,
          0.14130768331353044,
          0.14130768331353044
         ]
        },
        {
         "hovertext": "<b>Topic 6</b>:opinión_opinion_mi_misma_mantiene_g",
         "line": {
          "color": "black",
          "width": 1.5
         },
         "mode": "lines+lines",
         "name": "",
         "opacity": 0.1,
         "type": "scatter",
         "x": [
          1,
          2,
          3,
          4,
          5,
          6,
          7,
          8,
          9,
          10
         ],
         "y": [
          0.15919072293319214,
          0.15711225492287018,
          0.1531422758424699,
          0.14335311009938473,
          0.1349407474213278,
          0.1304256593633657,
          0.11203812778077886,
          0.09338250999170444,
          0.09029746808912485,
          0.08282460591568323
         ]
        },
        {
         "hovertext": "<b>Topic 7</b>:ciencia_desarrollo_humano_camino_te",
         "line": {
          "color": "black",
          "width": 1.5
         },
         "mode": "lines+lines",
         "name": "",
         "opacity": 0.1,
         "type": "scatter",
         "x": [
          1,
          2,
          3,
          4,
          5,
          6,
          7,
          8,
          9,
          10
         ],
         "y": [
          0.2336245105707321,
          0.11138412083101244,
          0.09049682631992495,
          0.08312270181078596,
          0.07192249929557529,
          0.06937434281801635,
          0.06787261973994371,
          0.06624223230162304,
          0.06437311530931555,
          0.06291198695672809
         ]
        },
        {
         "hovertext": "<b>Topic 8</b>:adele_debería_originario_acuerdo_pu",
         "line": {
          "color": "black",
          "width": 1.5
         },
         "mode": "lines+lines",
         "name": "",
         "opacity": 0.1,
         "type": "scatter",
         "x": [
          1,
          2,
          3,
          4,
          5,
          6,
          7,
          8,
          9,
          10
         ],
         "y": [
          0.2129680465225559,
          0.09812074874434672,
          0.08177231748441632,
          0.07419669379290665,
          0.06962756665856033,
          0.05843850573054468,
          0.05657630071925075,
          0.055770274413804714,
          0.05245655831359439,
          0.05207445052854709
         ]
        }
       ],
       "layout": {
        "height": 500,
        "hoverlabel": {
         "bgcolor": "white",
         "font": {
          "family": "Rockwell",
          "size": 16
         }
        },
        "showlegend": false,
        "template": {
         "data": {
          "bar": [
           {
            "error_x": {
             "color": "#2a3f5f"
            },
            "error_y": {
             "color": "#2a3f5f"
            },
            "marker": {
             "line": {
              "color": "white",
              "width": 0.5
             },
             "pattern": {
              "fillmode": "overlay",
              "size": 10,
              "solidity": 0.2
             }
            },
            "type": "bar"
           }
          ],
          "barpolar": [
           {
            "marker": {
             "line": {
              "color": "white",
              "width": 0.5
             },
             "pattern": {
              "fillmode": "overlay",
              "size": 10,
              "solidity": 0.2
             }
            },
            "type": "barpolar"
           }
          ],
          "carpet": [
           {
            "aaxis": {
             "endlinecolor": "#2a3f5f",
             "gridcolor": "#C8D4E3",
             "linecolor": "#C8D4E3",
             "minorgridcolor": "#C8D4E3",
             "startlinecolor": "#2a3f5f"
            },
            "baxis": {
             "endlinecolor": "#2a3f5f",
             "gridcolor": "#C8D4E3",
             "linecolor": "#C8D4E3",
             "minorgridcolor": "#C8D4E3",
             "startlinecolor": "#2a3f5f"
            },
            "type": "carpet"
           }
          ],
          "choropleth": [
           {
            "colorbar": {
             "outlinewidth": 0,
             "ticks": ""
            },
            "type": "choropleth"
           }
          ],
          "contour": [
           {
            "colorbar": {
             "outlinewidth": 0,
             "ticks": ""
            },
            "colorscale": [
             [
              0,
              "#0d0887"
             ],
             [
              0.1111111111111111,
              "#46039f"
             ],
             [
              0.2222222222222222,
              "#7201a8"
             ],
             [
              0.3333333333333333,
              "#9c179e"
             ],
             [
              0.4444444444444444,
              "#bd3786"
             ],
             [
              0.5555555555555556,
              "#d8576b"
             ],
             [
              0.6666666666666666,
              "#ed7953"
             ],
             [
              0.7777777777777778,
              "#fb9f3a"
             ],
             [
              0.8888888888888888,
              "#fdca26"
             ],
             [
              1,
              "#f0f921"
             ]
            ],
            "type": "contour"
           }
          ],
          "contourcarpet": [
           {
            "colorbar": {
             "outlinewidth": 0,
             "ticks": ""
            },
            "type": "contourcarpet"
           }
          ],
          "heatmap": [
           {
            "colorbar": {
             "outlinewidth": 0,
             "ticks": ""
            },
            "colorscale": [
             [
              0,
              "#0d0887"
             ],
             [
              0.1111111111111111,
              "#46039f"
             ],
             [
              0.2222222222222222,
              "#7201a8"
             ],
             [
              0.3333333333333333,
              "#9c179e"
             ],
             [
              0.4444444444444444,
              "#bd3786"
             ],
             [
              0.5555555555555556,
              "#d8576b"
             ],
             [
              0.6666666666666666,
              "#ed7953"
             ],
             [
              0.7777777777777778,
              "#fb9f3a"
             ],
             [
              0.8888888888888888,
              "#fdca26"
             ],
             [
              1,
              "#f0f921"
             ]
            ],
            "type": "heatmap"
           }
          ],
          "heatmapgl": [
           {
            "colorbar": {
             "outlinewidth": 0,
             "ticks": ""
            },
            "colorscale": [
             [
              0,
              "#0d0887"
             ],
             [
              0.1111111111111111,
              "#46039f"
             ],
             [
              0.2222222222222222,
              "#7201a8"
             ],
             [
              0.3333333333333333,
              "#9c179e"
             ],
             [
              0.4444444444444444,
              "#bd3786"
             ],
             [
              0.5555555555555556,
              "#d8576b"
             ],
             [
              0.6666666666666666,
              "#ed7953"
             ],
             [
              0.7777777777777778,
              "#fb9f3a"
             ],
             [
              0.8888888888888888,
              "#fdca26"
             ],
             [
              1,
              "#f0f921"
             ]
            ],
            "type": "heatmapgl"
           }
          ],
          "histogram": [
           {
            "marker": {
             "pattern": {
              "fillmode": "overlay",
              "size": 10,
              "solidity": 0.2
             }
            },
            "type": "histogram"
           }
          ],
          "histogram2d": [
           {
            "colorbar": {
             "outlinewidth": 0,
             "ticks": ""
            },
            "colorscale": [
             [
              0,
              "#0d0887"
             ],
             [
              0.1111111111111111,
              "#46039f"
             ],
             [
              0.2222222222222222,
              "#7201a8"
             ],
             [
              0.3333333333333333,
              "#9c179e"
             ],
             [
              0.4444444444444444,
              "#bd3786"
             ],
             [
              0.5555555555555556,
              "#d8576b"
             ],
             [
              0.6666666666666666,
              "#ed7953"
             ],
             [
              0.7777777777777778,
              "#fb9f3a"
             ],
             [
              0.8888888888888888,
              "#fdca26"
             ],
             [
              1,
              "#f0f921"
             ]
            ],
            "type": "histogram2d"
           }
          ],
          "histogram2dcontour": [
           {
            "colorbar": {
             "outlinewidth": 0,
             "ticks": ""
            },
            "colorscale": [
             [
              0,
              "#0d0887"
             ],
             [
              0.1111111111111111,
              "#46039f"
             ],
             [
              0.2222222222222222,
              "#7201a8"
             ],
             [
              0.3333333333333333,
              "#9c179e"
             ],
             [
              0.4444444444444444,
              "#bd3786"
             ],
             [
              0.5555555555555556,
              "#d8576b"
             ],
             [
              0.6666666666666666,
              "#ed7953"
             ],
             [
              0.7777777777777778,
              "#fb9f3a"
             ],
             [
              0.8888888888888888,
              "#fdca26"
             ],
             [
              1,
              "#f0f921"
             ]
            ],
            "type": "histogram2dcontour"
           }
          ],
          "mesh3d": [
           {
            "colorbar": {
             "outlinewidth": 0,
             "ticks": ""
            },
            "type": "mesh3d"
           }
          ],
          "parcoords": [
           {
            "line": {
             "colorbar": {
              "outlinewidth": 0,
              "ticks": ""
             }
            },
            "type": "parcoords"
           }
          ],
          "pie": [
           {
            "automargin": true,
            "type": "pie"
           }
          ],
          "scatter": [
           {
            "fillpattern": {
             "fillmode": "overlay",
             "size": 10,
             "solidity": 0.2
            },
            "type": "scatter"
           }
          ],
          "scatter3d": [
           {
            "line": {
             "colorbar": {
              "outlinewidth": 0,
              "ticks": ""
             }
            },
            "marker": {
             "colorbar": {
              "outlinewidth": 0,
              "ticks": ""
             }
            },
            "type": "scatter3d"
           }
          ],
          "scattercarpet": [
           {
            "marker": {
             "colorbar": {
              "outlinewidth": 0,
              "ticks": ""
             }
            },
            "type": "scattercarpet"
           }
          ],
          "scattergeo": [
           {
            "marker": {
             "colorbar": {
              "outlinewidth": 0,
              "ticks": ""
             }
            },
            "type": "scattergeo"
           }
          ],
          "scattergl": [
           {
            "marker": {
             "colorbar": {
              "outlinewidth": 0,
              "ticks": ""
             }
            },
            "type": "scattergl"
           }
          ],
          "scattermapbox": [
           {
            "marker": {
             "colorbar": {
              "outlinewidth": 0,
              "ticks": ""
             }
            },
            "type": "scattermapbox"
           }
          ],
          "scatterpolar": [
           {
            "marker": {
             "colorbar": {
              "outlinewidth": 0,
              "ticks": ""
             }
            },
            "type": "scatterpolar"
           }
          ],
          "scatterpolargl": [
           {
            "marker": {
             "colorbar": {
              "outlinewidth": 0,
              "ticks": ""
             }
            },
            "type": "scatterpolargl"
           }
          ],
          "scatterternary": [
           {
            "marker": {
             "colorbar": {
              "outlinewidth": 0,
              "ticks": ""
             }
            },
            "type": "scatterternary"
           }
          ],
          "surface": [
           {
            "colorbar": {
             "outlinewidth": 0,
             "ticks": ""
            },
            "colorscale": [
             [
              0,
              "#0d0887"
             ],
             [
              0.1111111111111111,
              "#46039f"
             ],
             [
              0.2222222222222222,
              "#7201a8"
             ],
             [
              0.3333333333333333,
              "#9c179e"
             ],
             [
              0.4444444444444444,
              "#bd3786"
             ],
             [
              0.5555555555555556,
              "#d8576b"
             ],
             [
              0.6666666666666666,
              "#ed7953"
             ],
             [
              0.7777777777777778,
              "#fb9f3a"
             ],
             [
              0.8888888888888888,
              "#fdca26"
             ],
             [
              1,
              "#f0f921"
             ]
            ],
            "type": "surface"
           }
          ],
          "table": [
           {
            "cells": {
             "fill": {
              "color": "#EBF0F8"
             },
             "line": {
              "color": "white"
             }
            },
            "header": {
             "fill": {
              "color": "#C8D4E3"
             },
             "line": {
              "color": "white"
             }
            },
            "type": "table"
           }
          ]
         },
         "layout": {
          "annotationdefaults": {
           "arrowcolor": "#2a3f5f",
           "arrowhead": 0,
           "arrowwidth": 1
          },
          "autotypenumbers": "strict",
          "coloraxis": {
           "colorbar": {
            "outlinewidth": 0,
            "ticks": ""
           }
          },
          "colorscale": {
           "diverging": [
            [
             0,
             "#8e0152"
            ],
            [
             0.1,
             "#c51b7d"
            ],
            [
             0.2,
             "#de77ae"
            ],
            [
             0.3,
             "#f1b6da"
            ],
            [
             0.4,
             "#fde0ef"
            ],
            [
             0.5,
             "#f7f7f7"
            ],
            [
             0.6,
             "#e6f5d0"
            ],
            [
             0.7,
             "#b8e186"
            ],
            [
             0.8,
             "#7fbc41"
            ],
            [
             0.9,
             "#4d9221"
            ],
            [
             1,
             "#276419"
            ]
           ],
           "sequential": [
            [
             0,
             "#0d0887"
            ],
            [
             0.1111111111111111,
             "#46039f"
            ],
            [
             0.2222222222222222,
             "#7201a8"
            ],
            [
             0.3333333333333333,
             "#9c179e"
            ],
            [
             0.4444444444444444,
             "#bd3786"
            ],
            [
             0.5555555555555556,
             "#d8576b"
            ],
            [
             0.6666666666666666,
             "#ed7953"
            ],
            [
             0.7777777777777778,
             "#fb9f3a"
            ],
            [
             0.8888888888888888,
             "#fdca26"
            ],
            [
             1,
             "#f0f921"
            ]
           ],
           "sequentialminus": [
            [
             0,
             "#0d0887"
            ],
            [
             0.1111111111111111,
             "#46039f"
            ],
            [
             0.2222222222222222,
             "#7201a8"
            ],
            [
             0.3333333333333333,
             "#9c179e"
            ],
            [
             0.4444444444444444,
             "#bd3786"
            ],
            [
             0.5555555555555556,
             "#d8576b"
            ],
            [
             0.6666666666666666,
             "#ed7953"
            ],
            [
             0.7777777777777778,
             "#fb9f3a"
            ],
            [
             0.8888888888888888,
             "#fdca26"
            ],
            [
             1,
             "#f0f921"
            ]
           ]
          },
          "colorway": [
           "#636efa",
           "#EF553B",
           "#00cc96",
           "#ab63fa",
           "#FFA15A",
           "#19d3f3",
           "#FF6692",
           "#B6E880",
           "#FF97FF",
           "#FECB52"
          ],
          "font": {
           "color": "#2a3f5f"
          },
          "geo": {
           "bgcolor": "white",
           "lakecolor": "white",
           "landcolor": "white",
           "showlakes": true,
           "showland": true,
           "subunitcolor": "#C8D4E3"
          },
          "hoverlabel": {
           "align": "left"
          },
          "hovermode": "closest",
          "mapbox": {
           "style": "light"
          },
          "paper_bgcolor": "white",
          "plot_bgcolor": "white",
          "polar": {
           "angularaxis": {
            "gridcolor": "#EBF0F8",
            "linecolor": "#EBF0F8",
            "ticks": ""
           },
           "bgcolor": "white",
           "radialaxis": {
            "gridcolor": "#EBF0F8",
            "linecolor": "#EBF0F8",
            "ticks": ""
           }
          },
          "scene": {
           "xaxis": {
            "backgroundcolor": "white",
            "gridcolor": "#DFE8F3",
            "gridwidth": 2,
            "linecolor": "#EBF0F8",
            "showbackground": true,
            "ticks": "",
            "zerolinecolor": "#EBF0F8"
           },
           "yaxis": {
            "backgroundcolor": "white",
            "gridcolor": "#DFE8F3",
            "gridwidth": 2,
            "linecolor": "#EBF0F8",
            "showbackground": true,
            "ticks": "",
            "zerolinecolor": "#EBF0F8"
           },
           "zaxis": {
            "backgroundcolor": "white",
            "gridcolor": "#DFE8F3",
            "gridwidth": 2,
            "linecolor": "#EBF0F8",
            "showbackground": true,
            "ticks": "",
            "zerolinecolor": "#EBF0F8"
           }
          },
          "shapedefaults": {
           "line": {
            "color": "#2a3f5f"
           }
          },
          "ternary": {
           "aaxis": {
            "gridcolor": "#DFE8F3",
            "linecolor": "#A2B1C6",
            "ticks": ""
           },
           "baxis": {
            "gridcolor": "#DFE8F3",
            "linecolor": "#A2B1C6",
            "ticks": ""
           },
           "bgcolor": "white",
           "caxis": {
            "gridcolor": "#DFE8F3",
            "linecolor": "#A2B1C6",
            "ticks": ""
           }
          },
          "title": {
           "x": 0.05
          },
          "xaxis": {
           "automargin": true,
           "gridcolor": "#EBF0F8",
           "linecolor": "#EBF0F8",
           "ticks": "",
           "title": {
            "standoff": 15
           },
           "zerolinecolor": "#EBF0F8",
           "zerolinewidth": 2
          },
          "yaxis": {
           "automargin": true,
           "gridcolor": "#EBF0F8",
           "linecolor": "#EBF0F8",
           "ticks": "",
           "title": {
            "standoff": 15
           },
           "zerolinecolor": "#EBF0F8",
           "zerolinewidth": 2
          }
         }
        },
        "title": {
         "font": {
          "color": "Black",
          "size": 22
         },
         "text": "<b>Term score decline per Topic</b>",
         "x": 0.5,
         "xanchor": "center",
         "y": 0.9,
         "yanchor": "top"
        },
        "width": 800,
        "xaxis": {
         "dtick": 2,
         "range": [
          0,
          10
         ],
         "tick0": 1,
         "title": {
          "text": "Term Rank"
         }
        },
        "yaxis": {
         "title": {
          "text": "c-TF-IDF score"
         }
        }
       }
      }
     },
     "metadata": {},
     "output_type": "display_data"
    }
   ],
   "source": [
    "model.visualize_term_rank()"
   ]
  },
  {
   "cell_type": "code",
   "execution_count": 21,
   "metadata": {},
   "outputs": [
    {
     "data": {
      "application/vnd.plotly.v1+json": {
       "config": {
        "plotlyServerURL": "https://plot.ly"
       },
       "data": [
        {
         "customdata": [
          [
           0,
           "alimento | tradiciones | pueblo | producir | importante",
           2449
          ],
          [
           1,
           "tradiciones | pueblo | acuerdo | importante | llegar",
           634
          ],
          [
           2,
           "salud | importante | personas | tradiciones | creencias",
           221
          ],
          [
           3,
           "proyecto | innovación | si | acuerdo | pueblos",
           88
          ],
          [
           4,
           "chile | relleno | chilena | población | pueblo",
           40
          ],
          [
           5,
           "postura | mantengo | no | creo | modifico",
           33
          ],
          [
           6,
           "opinión | opinion | mi | misma | mantiene",
           24
          ],
          [
           7,
           "ciencia | desarrollo | humano | camino | tecnológicamente",
           13
          ],
          [
           8,
           "adele | debería | originario | acuerdo | pueblo",
           10
          ]
         ],
         "hovertemplate": "<b>Topic %{customdata[0]}</b><br>%{customdata[1]}<br>Size: %{customdata[2]}",
         "legendgroup": "",
         "marker": {
          "color": "#B0BEC5",
          "line": {
           "color": "DarkSlateGrey",
           "width": 2
          },
          "size": [
           2449,
           634,
           221,
           88,
           40,
           33,
           24,
           13,
           10
          ],
          "sizemode": "area",
          "sizeref": 1.530625,
          "symbol": "circle"
         },
         "mode": "markers",
         "name": "",
         "orientation": "v",
         "showlegend": false,
         "type": "scatter",
         "x": [
          12.401373863220215,
          11.444387435913086,
          11.840222358703613,
          11.090970039367676,
          13.077664375305176,
          9.637398719787598,
          10.202376365661621,
          10.913726806640625,
          12.517531394958496
         ],
         "xaxis": "x",
         "y": [
          4.5798773765563965,
          3.8418493270874023,
          3.57895827293396,
          0.2447238564491272,
          4.5270209312438965,
          0.3371175229549408,
          0.17322172224521637,
          0.810853123664856,
          5.153530120849609
         ],
         "yaxis": "y"
        }
       ],
       "layout": {
        "annotations": [
         {
          "showarrow": false,
          "text": "D1",
          "x": 8.191788911819458,
          "y": 3.0368990514427425,
          "yshift": 10
         },
         {
          "showarrow": false,
          "text": "D2",
          "x": 11.615551471710205,
          "xshift": 10,
          "y": 5.926559638977051
         }
        ],
        "height": 650,
        "hoverlabel": {
         "bgcolor": "white",
         "font": {
          "family": "Rockwell",
          "size": 16
         }
        },
        "legend": {
         "itemsizing": "constant",
         "tracegroupgap": 0
        },
        "margin": {
         "t": 60
        },
        "shapes": [
         {
          "line": {
           "color": "#CFD8DC",
           "width": 2
          },
          "type": "line",
          "x0": 11.615551471710205,
          "x1": 11.615551471710205,
          "y0": 0.14723846390843393,
          "y1": 5.926559638977051
         },
         {
          "line": {
           "color": "#9E9E9E",
           "width": 2
          },
          "type": "line",
          "x0": 8.191788911819458,
          "x1": 15.039314031600952,
          "y0": 3.0368990514427425,
          "y1": 3.0368990514427425
         }
        ],
        "sliders": [
         {
          "active": 0,
          "pad": {
           "t": 50
          },
          "steps": [
           {
            "args": [
             {
              "marker.color": [
               [
                "red",
                "#B0BEC5",
                "#B0BEC5",
                "#B0BEC5",
                "#B0BEC5",
                "#B0BEC5",
                "#B0BEC5",
                "#B0BEC5",
                "#B0BEC5"
               ]
              ]
             }
            ],
            "label": "Topic 0",
            "method": "update"
           },
           {
            "args": [
             {
              "marker.color": [
               [
                "#B0BEC5",
                "red",
                "#B0BEC5",
                "#B0BEC5",
                "#B0BEC5",
                "#B0BEC5",
                "#B0BEC5",
                "#B0BEC5",
                "#B0BEC5"
               ]
              ]
             }
            ],
            "label": "Topic 1",
            "method": "update"
           },
           {
            "args": [
             {
              "marker.color": [
               [
                "#B0BEC5",
                "#B0BEC5",
                "red",
                "#B0BEC5",
                "#B0BEC5",
                "#B0BEC5",
                "#B0BEC5",
                "#B0BEC5",
                "#B0BEC5"
               ]
              ]
             }
            ],
            "label": "Topic 2",
            "method": "update"
           },
           {
            "args": [
             {
              "marker.color": [
               [
                "#B0BEC5",
                "#B0BEC5",
                "#B0BEC5",
                "red",
                "#B0BEC5",
                "#B0BEC5",
                "#B0BEC5",
                "#B0BEC5",
                "#B0BEC5"
               ]
              ]
             }
            ],
            "label": "Topic 3",
            "method": "update"
           },
           {
            "args": [
             {
              "marker.color": [
               [
                "#B0BEC5",
                "#B0BEC5",
                "#B0BEC5",
                "#B0BEC5",
                "red",
                "#B0BEC5",
                "#B0BEC5",
                "#B0BEC5",
                "#B0BEC5"
               ]
              ]
             }
            ],
            "label": "Topic 4",
            "method": "update"
           },
           {
            "args": [
             {
              "marker.color": [
               [
                "#B0BEC5",
                "#B0BEC5",
                "#B0BEC5",
                "#B0BEC5",
                "#B0BEC5",
                "red",
                "#B0BEC5",
                "#B0BEC5",
                "#B0BEC5"
               ]
              ]
             }
            ],
            "label": "Topic 5",
            "method": "update"
           },
           {
            "args": [
             {
              "marker.color": [
               [
                "#B0BEC5",
                "#B0BEC5",
                "#B0BEC5",
                "#B0BEC5",
                "#B0BEC5",
                "#B0BEC5",
                "red",
                "#B0BEC5",
                "#B0BEC5"
               ]
              ]
             }
            ],
            "label": "Topic 6",
            "method": "update"
           },
           {
            "args": [
             {
              "marker.color": [
               [
                "#B0BEC5",
                "#B0BEC5",
                "#B0BEC5",
                "#B0BEC5",
                "#B0BEC5",
                "#B0BEC5",
                "#B0BEC5",
                "red",
                "#B0BEC5"
               ]
              ]
             }
            ],
            "label": "Topic 7",
            "method": "update"
           },
           {
            "args": [
             {
              "marker.color": [
               [
                "#B0BEC5",
                "#B0BEC5",
                "#B0BEC5",
                "#B0BEC5",
                "#B0BEC5",
                "#B0BEC5",
                "#B0BEC5",
                "#B0BEC5",
                "red"
               ]
              ]
             }
            ],
            "label": "Topic 8",
            "method": "update"
           }
          ]
         }
        ],
        "template": {
         "data": {
          "bar": [
           {
            "error_x": {
             "color": "rgb(36,36,36)"
            },
            "error_y": {
             "color": "rgb(36,36,36)"
            },
            "marker": {
             "line": {
              "color": "white",
              "width": 0.5
             },
             "pattern": {
              "fillmode": "overlay",
              "size": 10,
              "solidity": 0.2
             }
            },
            "type": "bar"
           }
          ],
          "barpolar": [
           {
            "marker": {
             "line": {
              "color": "white",
              "width": 0.5
             },
             "pattern": {
              "fillmode": "overlay",
              "size": 10,
              "solidity": 0.2
             }
            },
            "type": "barpolar"
           }
          ],
          "carpet": [
           {
            "aaxis": {
             "endlinecolor": "rgb(36,36,36)",
             "gridcolor": "white",
             "linecolor": "white",
             "minorgridcolor": "white",
             "startlinecolor": "rgb(36,36,36)"
            },
            "baxis": {
             "endlinecolor": "rgb(36,36,36)",
             "gridcolor": "white",
             "linecolor": "white",
             "minorgridcolor": "white",
             "startlinecolor": "rgb(36,36,36)"
            },
            "type": "carpet"
           }
          ],
          "choropleth": [
           {
            "colorbar": {
             "outlinewidth": 1,
             "tickcolor": "rgb(36,36,36)",
             "ticks": "outside"
            },
            "type": "choropleth"
           }
          ],
          "contour": [
           {
            "colorbar": {
             "outlinewidth": 1,
             "tickcolor": "rgb(36,36,36)",
             "ticks": "outside"
            },
            "colorscale": [
             [
              0,
              "#440154"
             ],
             [
              0.1111111111111111,
              "#482878"
             ],
             [
              0.2222222222222222,
              "#3e4989"
             ],
             [
              0.3333333333333333,
              "#31688e"
             ],
             [
              0.4444444444444444,
              "#26828e"
             ],
             [
              0.5555555555555556,
              "#1f9e89"
             ],
             [
              0.6666666666666666,
              "#35b779"
             ],
             [
              0.7777777777777778,
              "#6ece58"
             ],
             [
              0.8888888888888888,
              "#b5de2b"
             ],
             [
              1,
              "#fde725"
             ]
            ],
            "type": "contour"
           }
          ],
          "contourcarpet": [
           {
            "colorbar": {
             "outlinewidth": 1,
             "tickcolor": "rgb(36,36,36)",
             "ticks": "outside"
            },
            "type": "contourcarpet"
           }
          ],
          "heatmap": [
           {
            "colorbar": {
             "outlinewidth": 1,
             "tickcolor": "rgb(36,36,36)",
             "ticks": "outside"
            },
            "colorscale": [
             [
              0,
              "#440154"
             ],
             [
              0.1111111111111111,
              "#482878"
             ],
             [
              0.2222222222222222,
              "#3e4989"
             ],
             [
              0.3333333333333333,
              "#31688e"
             ],
             [
              0.4444444444444444,
              "#26828e"
             ],
             [
              0.5555555555555556,
              "#1f9e89"
             ],
             [
              0.6666666666666666,
              "#35b779"
             ],
             [
              0.7777777777777778,
              "#6ece58"
             ],
             [
              0.8888888888888888,
              "#b5de2b"
             ],
             [
              1,
              "#fde725"
             ]
            ],
            "type": "heatmap"
           }
          ],
          "heatmapgl": [
           {
            "colorbar": {
             "outlinewidth": 1,
             "tickcolor": "rgb(36,36,36)",
             "ticks": "outside"
            },
            "colorscale": [
             [
              0,
              "#440154"
             ],
             [
              0.1111111111111111,
              "#482878"
             ],
             [
              0.2222222222222222,
              "#3e4989"
             ],
             [
              0.3333333333333333,
              "#31688e"
             ],
             [
              0.4444444444444444,
              "#26828e"
             ],
             [
              0.5555555555555556,
              "#1f9e89"
             ],
             [
              0.6666666666666666,
              "#35b779"
             ],
             [
              0.7777777777777778,
              "#6ece58"
             ],
             [
              0.8888888888888888,
              "#b5de2b"
             ],
             [
              1,
              "#fde725"
             ]
            ],
            "type": "heatmapgl"
           }
          ],
          "histogram": [
           {
            "marker": {
             "line": {
              "color": "white",
              "width": 0.6
             }
            },
            "type": "histogram"
           }
          ],
          "histogram2d": [
           {
            "colorbar": {
             "outlinewidth": 1,
             "tickcolor": "rgb(36,36,36)",
             "ticks": "outside"
            },
            "colorscale": [
             [
              0,
              "#440154"
             ],
             [
              0.1111111111111111,
              "#482878"
             ],
             [
              0.2222222222222222,
              "#3e4989"
             ],
             [
              0.3333333333333333,
              "#31688e"
             ],
             [
              0.4444444444444444,
              "#26828e"
             ],
             [
              0.5555555555555556,
              "#1f9e89"
             ],
             [
              0.6666666666666666,
              "#35b779"
             ],
             [
              0.7777777777777778,
              "#6ece58"
             ],
             [
              0.8888888888888888,
              "#b5de2b"
             ],
             [
              1,
              "#fde725"
             ]
            ],
            "type": "histogram2d"
           }
          ],
          "histogram2dcontour": [
           {
            "colorbar": {
             "outlinewidth": 1,
             "tickcolor": "rgb(36,36,36)",
             "ticks": "outside"
            },
            "colorscale": [
             [
              0,
              "#440154"
             ],
             [
              0.1111111111111111,
              "#482878"
             ],
             [
              0.2222222222222222,
              "#3e4989"
             ],
             [
              0.3333333333333333,
              "#31688e"
             ],
             [
              0.4444444444444444,
              "#26828e"
             ],
             [
              0.5555555555555556,
              "#1f9e89"
             ],
             [
              0.6666666666666666,
              "#35b779"
             ],
             [
              0.7777777777777778,
              "#6ece58"
             ],
             [
              0.8888888888888888,
              "#b5de2b"
             ],
             [
              1,
              "#fde725"
             ]
            ],
            "type": "histogram2dcontour"
           }
          ],
          "mesh3d": [
           {
            "colorbar": {
             "outlinewidth": 1,
             "tickcolor": "rgb(36,36,36)",
             "ticks": "outside"
            },
            "type": "mesh3d"
           }
          ],
          "parcoords": [
           {
            "line": {
             "colorbar": {
              "outlinewidth": 1,
              "tickcolor": "rgb(36,36,36)",
              "ticks": "outside"
             }
            },
            "type": "parcoords"
           }
          ],
          "pie": [
           {
            "automargin": true,
            "type": "pie"
           }
          ],
          "scatter": [
           {
            "fillpattern": {
             "fillmode": "overlay",
             "size": 10,
             "solidity": 0.2
            },
            "type": "scatter"
           }
          ],
          "scatter3d": [
           {
            "line": {
             "colorbar": {
              "outlinewidth": 1,
              "tickcolor": "rgb(36,36,36)",
              "ticks": "outside"
             }
            },
            "marker": {
             "colorbar": {
              "outlinewidth": 1,
              "tickcolor": "rgb(36,36,36)",
              "ticks": "outside"
             }
            },
            "type": "scatter3d"
           }
          ],
          "scattercarpet": [
           {
            "marker": {
             "colorbar": {
              "outlinewidth": 1,
              "tickcolor": "rgb(36,36,36)",
              "ticks": "outside"
             }
            },
            "type": "scattercarpet"
           }
          ],
          "scattergeo": [
           {
            "marker": {
             "colorbar": {
              "outlinewidth": 1,
              "tickcolor": "rgb(36,36,36)",
              "ticks": "outside"
             }
            },
            "type": "scattergeo"
           }
          ],
          "scattergl": [
           {
            "marker": {
             "colorbar": {
              "outlinewidth": 1,
              "tickcolor": "rgb(36,36,36)",
              "ticks": "outside"
             }
            },
            "type": "scattergl"
           }
          ],
          "scattermapbox": [
           {
            "marker": {
             "colorbar": {
              "outlinewidth": 1,
              "tickcolor": "rgb(36,36,36)",
              "ticks": "outside"
             }
            },
            "type": "scattermapbox"
           }
          ],
          "scatterpolar": [
           {
            "marker": {
             "colorbar": {
              "outlinewidth": 1,
              "tickcolor": "rgb(36,36,36)",
              "ticks": "outside"
             }
            },
            "type": "scatterpolar"
           }
          ],
          "scatterpolargl": [
           {
            "marker": {
             "colorbar": {
              "outlinewidth": 1,
              "tickcolor": "rgb(36,36,36)",
              "ticks": "outside"
             }
            },
            "type": "scatterpolargl"
           }
          ],
          "scatterternary": [
           {
            "marker": {
             "colorbar": {
              "outlinewidth": 1,
              "tickcolor": "rgb(36,36,36)",
              "ticks": "outside"
             }
            },
            "type": "scatterternary"
           }
          ],
          "surface": [
           {
            "colorbar": {
             "outlinewidth": 1,
             "tickcolor": "rgb(36,36,36)",
             "ticks": "outside"
            },
            "colorscale": [
             [
              0,
              "#440154"
             ],
             [
              0.1111111111111111,
              "#482878"
             ],
             [
              0.2222222222222222,
              "#3e4989"
             ],
             [
              0.3333333333333333,
              "#31688e"
             ],
             [
              0.4444444444444444,
              "#26828e"
             ],
             [
              0.5555555555555556,
              "#1f9e89"
             ],
             [
              0.6666666666666666,
              "#35b779"
             ],
             [
              0.7777777777777778,
              "#6ece58"
             ],
             [
              0.8888888888888888,
              "#b5de2b"
             ],
             [
              1,
              "#fde725"
             ]
            ],
            "type": "surface"
           }
          ],
          "table": [
           {
            "cells": {
             "fill": {
              "color": "rgb(237,237,237)"
             },
             "line": {
              "color": "white"
             }
            },
            "header": {
             "fill": {
              "color": "rgb(217,217,217)"
             },
             "line": {
              "color": "white"
             }
            },
            "type": "table"
           }
          ]
         },
         "layout": {
          "annotationdefaults": {
           "arrowhead": 0,
           "arrowwidth": 1
          },
          "autotypenumbers": "strict",
          "coloraxis": {
           "colorbar": {
            "outlinewidth": 1,
            "tickcolor": "rgb(36,36,36)",
            "ticks": "outside"
           }
          },
          "colorscale": {
           "diverging": [
            [
             0,
             "rgb(103,0,31)"
            ],
            [
             0.1,
             "rgb(178,24,43)"
            ],
            [
             0.2,
             "rgb(214,96,77)"
            ],
            [
             0.3,
             "rgb(244,165,130)"
            ],
            [
             0.4,
             "rgb(253,219,199)"
            ],
            [
             0.5,
             "rgb(247,247,247)"
            ],
            [
             0.6,
             "rgb(209,229,240)"
            ],
            [
             0.7,
             "rgb(146,197,222)"
            ],
            [
             0.8,
             "rgb(67,147,195)"
            ],
            [
             0.9,
             "rgb(33,102,172)"
            ],
            [
             1,
             "rgb(5,48,97)"
            ]
           ],
           "sequential": [
            [
             0,
             "#440154"
            ],
            [
             0.1111111111111111,
             "#482878"
            ],
            [
             0.2222222222222222,
             "#3e4989"
            ],
            [
             0.3333333333333333,
             "#31688e"
            ],
            [
             0.4444444444444444,
             "#26828e"
            ],
            [
             0.5555555555555556,
             "#1f9e89"
            ],
            [
             0.6666666666666666,
             "#35b779"
            ],
            [
             0.7777777777777778,
             "#6ece58"
            ],
            [
             0.8888888888888888,
             "#b5de2b"
            ],
            [
             1,
             "#fde725"
            ]
           ],
           "sequentialminus": [
            [
             0,
             "#440154"
            ],
            [
             0.1111111111111111,
             "#482878"
            ],
            [
             0.2222222222222222,
             "#3e4989"
            ],
            [
             0.3333333333333333,
             "#31688e"
            ],
            [
             0.4444444444444444,
             "#26828e"
            ],
            [
             0.5555555555555556,
             "#1f9e89"
            ],
            [
             0.6666666666666666,
             "#35b779"
            ],
            [
             0.7777777777777778,
             "#6ece58"
            ],
            [
             0.8888888888888888,
             "#b5de2b"
            ],
            [
             1,
             "#fde725"
            ]
           ]
          },
          "colorway": [
           "#1F77B4",
           "#FF7F0E",
           "#2CA02C",
           "#D62728",
           "#9467BD",
           "#8C564B",
           "#E377C2",
           "#7F7F7F",
           "#BCBD22",
           "#17BECF"
          ],
          "font": {
           "color": "rgb(36,36,36)"
          },
          "geo": {
           "bgcolor": "white",
           "lakecolor": "white",
           "landcolor": "white",
           "showlakes": true,
           "showland": true,
           "subunitcolor": "white"
          },
          "hoverlabel": {
           "align": "left"
          },
          "hovermode": "closest",
          "mapbox": {
           "style": "light"
          },
          "paper_bgcolor": "white",
          "plot_bgcolor": "white",
          "polar": {
           "angularaxis": {
            "gridcolor": "rgb(232,232,232)",
            "linecolor": "rgb(36,36,36)",
            "showgrid": false,
            "showline": true,
            "ticks": "outside"
           },
           "bgcolor": "white",
           "radialaxis": {
            "gridcolor": "rgb(232,232,232)",
            "linecolor": "rgb(36,36,36)",
            "showgrid": false,
            "showline": true,
            "ticks": "outside"
           }
          },
          "scene": {
           "xaxis": {
            "backgroundcolor": "white",
            "gridcolor": "rgb(232,232,232)",
            "gridwidth": 2,
            "linecolor": "rgb(36,36,36)",
            "showbackground": true,
            "showgrid": false,
            "showline": true,
            "ticks": "outside",
            "zeroline": false,
            "zerolinecolor": "rgb(36,36,36)"
           },
           "yaxis": {
            "backgroundcolor": "white",
            "gridcolor": "rgb(232,232,232)",
            "gridwidth": 2,
            "linecolor": "rgb(36,36,36)",
            "showbackground": true,
            "showgrid": false,
            "showline": true,
            "ticks": "outside",
            "zeroline": false,
            "zerolinecolor": "rgb(36,36,36)"
           },
           "zaxis": {
            "backgroundcolor": "white",
            "gridcolor": "rgb(232,232,232)",
            "gridwidth": 2,
            "linecolor": "rgb(36,36,36)",
            "showbackground": true,
            "showgrid": false,
            "showline": true,
            "ticks": "outside",
            "zeroline": false,
            "zerolinecolor": "rgb(36,36,36)"
           }
          },
          "shapedefaults": {
           "fillcolor": "black",
           "line": {
            "width": 0
           },
           "opacity": 0.3
          },
          "ternary": {
           "aaxis": {
            "gridcolor": "rgb(232,232,232)",
            "linecolor": "rgb(36,36,36)",
            "showgrid": false,
            "showline": true,
            "ticks": "outside"
           },
           "baxis": {
            "gridcolor": "rgb(232,232,232)",
            "linecolor": "rgb(36,36,36)",
            "showgrid": false,
            "showline": true,
            "ticks": "outside"
           },
           "bgcolor": "white",
           "caxis": {
            "gridcolor": "rgb(232,232,232)",
            "linecolor": "rgb(36,36,36)",
            "showgrid": false,
            "showline": true,
            "ticks": "outside"
           }
          },
          "title": {
           "x": 0.05
          },
          "xaxis": {
           "automargin": true,
           "gridcolor": "rgb(232,232,232)",
           "linecolor": "rgb(36,36,36)",
           "showgrid": false,
           "showline": true,
           "ticks": "outside",
           "title": {
            "standoff": 15
           },
           "zeroline": false,
           "zerolinecolor": "rgb(36,36,36)"
          },
          "yaxis": {
           "automargin": true,
           "gridcolor": "rgb(232,232,232)",
           "linecolor": "rgb(36,36,36)",
           "showgrid": false,
           "showline": true,
           "ticks": "outside",
           "title": {
            "standoff": 15
           },
           "zeroline": false,
           "zerolinecolor": "rgb(36,36,36)"
          }
         }
        },
        "title": {
         "font": {
          "color": "Black",
          "size": 22
         },
         "text": "<b>Intertopic Distance Map</b>",
         "x": 0.5,
         "xanchor": "center",
         "y": 0.95,
         "yanchor": "top"
        },
        "width": 650,
        "xaxis": {
         "anchor": "y",
         "domain": [
          0,
          1
         ],
         "range": [
          8.191788911819458,
          15.039314031600952
         ],
         "title": {
          "text": ""
         },
         "visible": false
        },
        "yaxis": {
         "anchor": "x",
         "domain": [
          0,
          1
         ],
         "range": [
          0.14723846390843393,
          5.926559638977051
         ],
         "title": {
          "text": ""
         },
         "visible": false
        }
       }
      }
     },
     "metadata": {},
     "output_type": "display_data"
    }
   ],
   "source": [
    "model.visualize_topics()"
   ]
  },
  {
   "cell_type": "code",
   "execution_count": 22,
   "metadata": {},
   "outputs": [],
   "source": [
    "target_words = ['alimento','tradiciones','pueblo','acuerdo','salud','importante','personas','proyecto','chile','postura','mantengo','ciencia','desarrollo']"
   ]
  },
  {
   "cell_type": "code",
   "execution_count": 23,
   "metadata": {},
   "outputs": [
    {
     "data": {
      "text/plain": [
       "[('alimento', 527),\n",
       " ('tradiciones', 692),\n",
       " ('pueblo', 548),\n",
       " ('acuerdo', 250),\n",
       " ('salud', 275),\n",
       " ('importante', 348),\n",
       " ('personas', 316),\n",
       " ('proyecto', 139),\n",
       " ('chile', 5),\n",
       " ('postura', 38),\n",
       " ('mantengo', 20),\n",
       " ('ciencia', 3),\n",
       " ('desarrollo', 17)]"
      ]
     },
     "execution_count": 23,
     "metadata": {},
     "output_type": "execute_result"
    }
   ],
   "source": [
    "from collections import Counter\n",
    "import re\n",
    "\n",
    "# Combine all documents into a single string\n",
    "all_text = ' '.join(test_docs)\n",
    "\n",
    "# Preprocess the text (convert to lowercase and remove punctuation)\n",
    "cleaned_text = re.sub(r'[^\\w\\s]', '', all_text.lower())\n",
    "\n",
    "# Tokenize the cleaned text\n",
    "tokens = cleaned_text.split()\n",
    "\n",
    "# Count word frequencies\n",
    "word_frequencies = Counter(tokens)\n",
    "\n",
    "word_frequency_list = [(word, word_frequencies[word]) for word in target_words]\n",
    "word_frequency_list"
   ]
  },
  {
   "cell_type": "code",
   "execution_count": 51,
   "metadata": {},
   "outputs": [],
   "source": [
    "def get_freqs(target_words):\n",
    "    # Combine all documents into a single string\n",
    "    all_text = ' '.join(test_docs)\n",
    "\n",
    "    # Preprocess the text (convert to lowercase and remove punctuation)\n",
    "    cleaned_text = re.sub(r'[^\\w\\s]', '', all_text.lower())\n",
    "\n",
    "    # Tokenize the cleaned text\n",
    "    tokens = cleaned_text.split()\n",
    "\n",
    "    # Count word frequencies\n",
    "    word_frequencies = Counter(tokens)\n",
    "\n",
    "    word_frequency_list = [(word, word_frequencies[word]) for word in target_words]\n",
    "    return word_frequency_list"
   ]
  },
  {
   "cell_type": "code",
   "execution_count": 24,
   "metadata": {},
   "outputs": [
    {
     "data": {
      "text/plain": [
       "[5, 1, 3, 6, 2, 7, -1, 4, 0, 8]"
      ]
     },
     "execution_count": 24,
     "metadata": {},
     "output_type": "execute_result"
    }
   ],
   "source": [
    "similar_topics, similarity = model.find_topics('integridad', top_n=0)\n",
    "similar_topics"
   ]
  },
  {
   "cell_type": "code",
   "execution_count": 25,
   "metadata": {},
   "outputs": [
    {
     "data": {
      "text/plain": [
       "[0.5515804090192521,\n",
       " 0.3145556935647881,\n",
       " 0.30870191438230266,\n",
       " 0.28784286509073453,\n",
       " 0.24968738888005088,\n",
       " 0.23215631042972182,\n",
       " 0.22768237466867247,\n",
       " 0.19289693100119032,\n",
       " 0.1674644755984093,\n",
       " 0.16477955508733302]"
      ]
     },
     "execution_count": 25,
     "metadata": {},
     "output_type": "execute_result"
    }
   ],
   "source": [
    "similarity"
   ]
  },
  {
   "cell_type": "code",
   "execution_count": 26,
   "metadata": {},
   "outputs": [],
   "source": [
    "def find_index_of_integer(lst, target):\n",
    "    try:\n",
    "        index = lst.index(target)\n",
    "        return index\n",
    "    except ValueError:\n",
    "        return -1  # Return -1 if the target integer is not found in the list"
   ]
  },
  {
   "cell_type": "code",
   "execution_count": 27,
   "metadata": {},
   "outputs": [
    {
     "data": {
      "text/plain": [
       "[0.1674644755984093,\n",
       " 0.3145556935647881,\n",
       " 0.24968738888005088,\n",
       " 0.30870191438230266,\n",
       " 0.19289693100119032,\n",
       " 0.5515804090192521]"
      ]
     },
     "execution_count": 27,
     "metadata": {},
     "output_type": "execute_result"
    }
   ],
   "source": [
    "target_topics = [0, 1, 2, 3, 4, 5]\n",
    "[similarity[find_index_of_integer(similar_topics,i)] for i in target_topics]"
   ]
  },
  {
   "cell_type": "code",
   "execution_count": 28,
   "metadata": {},
   "outputs": [],
   "source": [
    "def get_topics_share_concept(model,concept):\n",
    "    similar_topics, similarity = model.find_topics(concept, top_n=0)\n",
    "    return [similarity[find_index_of_integer(similar_topics,i)] for i in target_topics]"
   ]
  },
  {
   "cell_type": "code",
   "execution_count": 29,
   "metadata": {},
   "outputs": [],
   "source": [
    "def get_second_item_by_first(list_of_tuples, target_first):\n",
    "    for first, second in list_of_tuples:\n",
    "        if first == target_first:\n",
    "            return second\n",
    "    return None  # Return None if the target value is not found"
   ]
  },
  {
   "cell_type": "code",
   "execution_count": 30,
   "metadata": {},
   "outputs": [
    {
     "data": {
      "text/plain": [
       "array([ 84.19833581,  56.47465839, 149.23752758,  41.07510724,\n",
       "        61.39739655, 148.30279911])"
      ]
     },
     "execution_count": 30,
     "metadata": {},
     "output_type": "execute_result"
    }
   ],
   "source": [
    "import numpy as np\n",
    "\n",
    "vec_salud = np.array(get_topics_share_concept(model,'salud'))\n",
    "vec_salud*get_second_item_by_first(word_frequency_list,'salud')"
   ]
  },
  {
   "cell_type": "code",
   "execution_count": 35,
   "metadata": {},
   "outputs": [],
   "source": [
    "vectors = []\n",
    "\n",
    "for word in target_words:\n",
    "    vec = np.array(get_topics_share_concept(model,word))\n",
    "    vectors.append(vec*get_second_item_by_first(word_frequency_list,word))"
   ]
  },
  {
   "cell_type": "code",
   "execution_count": 38,
   "metadata": {},
   "outputs": [
    {
     "data": {
      "image/png": "[encoded data removed]",
      "text/plain": [
       "<Figure size 640x480 with 1 Axes>"
      ]
     },
     "metadata": {},
     "output_type": "display_data"
    }
   ],
   "source": [
    "import numpy as np\n",
    "import matplotlib.pyplot as plt\n",
    "\n",
    "# Convert vectors to a NumPy array for easy manipulation\n",
    "vector_array = np.array(vectors)\n",
    "\n",
    "# Get the number of vectors and number of dimensions\n",
    "num_vectors, num_dimensions = vector_array.shape\n",
    "color_list = ['tab:red', 'tab:green', 'tab:blue', 'tab:purple', 'tab:orange', 'tab:gray']\n",
    "\n",
    "\n",
    "# Create a horizontal bar plot with stacked bars\n",
    "plt.barh(range(num_vectors), vector_array[:, 0], color=color_list[0], label='Tópico 0')\n",
    "plt.barh(range(num_vectors), vector_array[:, 1], left=vector_array[:, 0], color=color_list[1], label='Tópico 1')\n",
    "plt.barh(range(num_vectors), vector_array[:, 2], left=vector_array[:, 0] + vector_array[:, 1], color=color_list[2], label='Tópico 2')\n",
    "plt.barh(range(num_vectors), vector_array[:, 3], left=vector_array[:, 0] + vector_array[:, 1] + vector_array[:, 2], color=color_list[3], label='Tópico 3')\n",
    "plt.barh(range(num_vectors), vector_array[:, 4], left=vector_array[:, 0] + vector_array[:, 1] + vector_array[:, 2] + vector_array[:, 3], color=color_list[4], label='Tópico 4')\n",
    "plt.barh(range(num_vectors), vector_array[:, 5], left=vector_array[:, 0] + vector_array[:, 1] + vector_array[:, 2] + vector_array[:, 3] + vector_array[:, 4], color=color_list[5], label='Tópico 5')\n",
    "\n",
    "\n",
    "\n",
    "# for dim in range(num_dimensions):\n",
    "#     plt.barh(range(num_vectors), vector_array[:, dim], color=color_list[dim], label=f'Dim {dim+1}')\n",
    "\n",
    "# Set labels, title, and legend \n",
    "plt.xlabel('Proporción')\n",
    "plt.ylabel('Conceptos')\n",
    "plt.title('Proporción de palabras con tópicos')\n",
    "# plt.yticks(range(num_vectors), range(1, num_vectors + 1))\n",
    "plt.yticks(ticks = range(num_vectors) ,labels = target_words, rotation = 'horizontal')\n",
    "plt.xscale('log')\n",
    "plt.legend()\n",
    "# Show the plot\n",
    "plt.show()"
   ]
  },
  {
   "cell_type": "code",
   "execution_count": 52,
   "metadata": {},
   "outputs": [
    {
     "data": {
      "image/png": "[encoded data removed]",
      "text/plain": [
       "<Figure size 1500x600 with 1 Axes>"
      ]
     },
     "metadata": {},
     "output_type": "display_data"
    }
   ],
   "source": [
    "import numpy as np\n",
    "import matplotlib.pyplot as plt\n",
    "\n",
    "def plot_word_topics(target_words):\n",
    "\n",
    "    word_frequency_list = get_freqs(target_words)\n",
    "\n",
    "    vectors = []\n",
    "\n",
    "    for word in target_words:\n",
    "        vec = np.array(get_topics_share_concept(model,word))\n",
    "        vectors.append(vec*get_second_item_by_first(word_frequency_list,word))\n",
    "\n",
    "    # Convert vectors to a NumPy array for easy manipulation\n",
    "    vector_array = np.array(vectors)\n",
    "\n",
    "    # Get the number of vectors and number of dimensions\n",
    "    num_vectors, num_dimensions = vector_array.shape\n",
    "    color_list = ['tab:red', 'tab:green', 'tab:blue', 'tab:purple', 'tab:orange', 'tab:gray']\n",
    "\n",
    "\n",
    "    # Create a horizontal bar plot with stacked bars\n",
    "    plt.barh(range(num_vectors), vector_array[:, 0], color=color_list[0], label='Tópico 0')\n",
    "    plt.barh(range(num_vectors), vector_array[:, 1], left=vector_array[:, 0], color=color_list[1], label='Tópico 1')\n",
    "    plt.barh(range(num_vectors), vector_array[:, 2], left=vector_array[:, 0] + vector_array[:, 1], color=color_list[2], label='Tópico 2')\n",
    "    plt.barh(range(num_vectors), vector_array[:, 3], left=vector_array[:, 0] + vector_array[:, 1] + vector_array[:, 2], color=color_list[3], label='Tópico 3')\n",
    "    plt.barh(range(num_vectors), vector_array[:, 4], left=vector_array[:, 0] + vector_array[:, 1] + vector_array[:, 2] + vector_array[:, 3], color=color_list[4], label='Tópico 4')\n",
    "    # plt.barh(range(num_vectors), vector_array[:, 5], left=vector_array[:, 0] + vector_array[:, 1] + vector_array[:, 2] + vector_array[:, 3] + vector_array[:, 4], color=color_list[5], label='Tópico 5')\n",
    "\n",
    "\n",
    "\n",
    "    # for dim in range(num_dimensions):\n",
    "    #     plt.barh(range(num_vectors), vector_array[:, dim], color=color_list[dim], label=f'Dim {dim+1}')\n",
    "\n",
    "    # Set labels, title, and legend \n",
    "    plt.xlabel('Proporción')\n",
    "    plt.ylabel('Conceptos')\n",
    "    plt.title('Proporción de palabras con tópicos')\n",
    "    # plt.yticks(range(num_vectors), range(1, num_vectors + 1))\n",
    "    plt.yticks(ticks = range(num_vectors) ,labels = target_words, rotation = 'horizontal')\n",
    "    plt.legend()\n",
    "    # Show the plot\n",
    "    plt.show()\n",
    "\n",
    "plot_word_topics(target_words)"
   ]
  },
  {
   "cell_type": "code",
   "execution_count": 53,
   "metadata": {},
   "outputs": [
    {
     "data": {
      "image/png": "[encoded data removed]",
      "text/plain": [
       "<Figure size 1500x600 with 1 Axes>"
      ]
     },
     "metadata": {},
     "output_type": "display_data"
    }
   ],
   "source": [
    "target_words = ['alimento','tradiciones','pueblo','acuerdo','salud','importante','personas','proyecto','postura','mantengo']\n",
    "plt.rcParams[\"figure.figsize\"] = (15,6)\n",
    "plot_word_topics(target_words)"
   ]
  },
  {
   "cell_type": "code",
   "execution_count": 55,
   "metadata": {},
   "outputs": [
    {
     "data": {
      "image/png": "[encoded data removed]",
      "text/plain": [
       "<Figure size 1500x600 with 1 Axes>"
      ]
     },
     "metadata": {},
     "output_type": "display_data"
    }
   ],
   "source": [
    "target_words = ['integridad','responsabilidad','empatía']\n",
    "plot_word_topics(target_words)"
   ]
  },
  {
   "cell_type": "code",
   "execution_count": 104,
   "metadata": {},
   "outputs": [],
   "source": [
    "def get_word_topic_proportion(docs,model,target_words):\n",
    "    vectors = np.zeros((len(target_words),9))\n",
    "    for d in docs:\n",
    "        # clean text\n",
    "        cleaned_text = re.sub(r'[^\\w\\s]', '', d.lower())\n",
    "        # Tokenize the cleaned text\n",
    "        tokens = cleaned_text.split()\n",
    "        # Count word frequencies\n",
    "        word_frequencies = Counter(tokens)\n",
    "        word_frequency_list = [(word, word_frequencies[word]) for word in target_words]\n",
    "        \n",
    "        # vec = np.array(get_topics_share_concept(model,cleaned_text))\n",
    "        vec = np.array(model.transform(cleaned_text)[1][0])\n",
    "\n",
    "        # print(vec)\n",
    "        # break\n",
    "        # associate topic with proportion\n",
    "        \n",
    "        for i, word in enumerate(target_words):\n",
    "            factor = get_second_item_by_first(word_frequency_list,word)\n",
    "            # print(factor)\n",
    "            vectors[i] += vec*factor\n",
    "        \n",
    "    return vectors"
   ]
  },
  {
   "cell_type": "code",
   "execution_count": 105,
   "metadata": {},
   "outputs": [],
   "source": [
    "target_words = ['alimento','tradiciones','pueblo','acuerdo','salud','importante','personas','proyecto','postura','mantengo']\n",
    "vectors = get_word_topic_proportion(test_docs,model,target_words)"
   ]
  },
  {
   "cell_type": "code",
   "execution_count": 106,
   "metadata": {},
   "outputs": [
    {
     "data": {
      "text/plain": [
       "array([[3.13993487e+02, 2.97317680e+01, 1.37184529e+01, 5.93374583e+00,\n",
       "        3.46869608e+00, 1.51521263e+00, 1.06324503e+00, 5.89467234e-01,\n",
       "        4.63696984e-01],\n",
       "       [2.92823023e+02, 8.39054188e+01, 4.24800134e+01, 9.57494562e+00,\n",
       "        4.62001699e+00, 3.15419585e+00, 2.29218886e+00, 2.79558770e+00,\n",
       "        2.15952270e+00],\n",
       "       [2.46781319e+02, 5.57467966e+01, 2.71304960e+01, 8.67752322e+00,\n",
       "        4.97359530e+00, 2.00073229e+00, 1.47311370e+00, 6.87757984e-01,\n",
       "        1.15822022e+00],\n",
       "       [1.07558679e+02, 3.27047471e+01, 1.18129034e+01, 6.38108411e+00,\n",
       "        3.41275782e-01, 1.49603216e+00, 1.17571319e+00, 3.47823524e-01,\n",
       "        1.85630602e-01],\n",
       "       [1.11528161e+02, 1.90608980e+01, 4.31584684e+01, 2.26957184e+00,\n",
       "        2.02077983e+00, 9.64403924e-01, 6.84961966e-01, 4.18497204e-01,\n",
       "        2.56766182e-01],\n",
       "       [1.60587634e+02, 3.59873152e+01, 1.92723547e+01, 5.84643136e+00,\n",
       "        1.54301908e+00, 1.54721458e+00, 1.15894365e+00, 4.96795421e-01,\n",
       "        1.05980885e+00],\n",
       "       [1.39601890e+02, 3.50458129e+01, 2.39812624e+01, 3.49082972e+00,\n",
       "        1.63338035e+00, 1.42612316e+00, 1.03689225e+00, 5.20147304e-01,\n",
       "        2.84737707e-01],\n",
       "       [5.01105373e+01, 2.82410009e+01, 8.29206374e+00, 6.51354780e+00,\n",
       "        2.45293004e-01, 1.09524106e+00, 8.28073093e-01, 4.56797023e-01,\n",
       "        1.33226912e-01],\n",
       "       [8.73029606e+00, 1.09735286e+01, 6.30513881e-01, 1.29441847e+00,\n",
       "        3.38649471e-02, 3.03230017e-01, 1.98658569e-01, 5.22196147e-02,\n",
       "        1.72617338e-02],\n",
       "       [6.28312927e+00, 2.26424394e+00, 1.37532974e+00, 7.49357797e-01,\n",
       "        2.56628105e-02, 6.16024069e-02, 4.43868195e-02, 2.62557488e-02,\n",
       "        1.99371797e-02]])"
      ]
     },
     "execution_count": 106,
     "metadata": {},
     "output_type": "execute_result"
    }
   ],
   "source": [
    "vectors"
   ]
  },
  {
   "cell_type": "code",
   "execution_count": 108,
   "metadata": {},
   "outputs": [
    {
     "data": {
      "image/png": "[encoded data removed]",
      "text/plain": [
       "<Figure size 1500x600 with 1 Axes>"
      ]
     },
     "metadata": {},
     "output_type": "display_data"
    }
   ],
   "source": [
    "vector_array = vectors\n",
    "\n",
    "# Get the number of vectors and number of dimensions\n",
    "num_vectors, num_dimensions = vector_array.shape\n",
    "color_list = ['tab:red', 'tab:green', 'tab:blue', 'tab:purple', 'tab:orange', 'tab:gray']\n",
    "\n",
    "\n",
    "# Create a horizontal bar plot with stacked bars\n",
    "plt.barh(range(num_vectors), vector_array[:, 0], color=color_list[0], label='Tópico 0')\n",
    "plt.barh(range(num_vectors), vector_array[:, 1], left=vector_array[:, 0], color=color_list[1], label='Tópico 1')\n",
    "plt.barh(range(num_vectors), vector_array[:, 2], left=vector_array[:, 0] + vector_array[:, 1], color=color_list[2], label='Tópico 2')\n",
    "plt.barh(range(num_vectors), vector_array[:, 3], left=vector_array[:, 0] + vector_array[:, 1] + vector_array[:, 2], color=color_list[3], label='Tópico 3')\n",
    "plt.barh(range(num_vectors), vector_array[:, 4], left=vector_array[:, 0] + vector_array[:, 1] + vector_array[:, 2] + vector_array[:, 3], color=color_list[4], label='Tópico 4')\n",
    "plt.barh(range(num_vectors), vector_array[:, 5], left=vector_array[:, 0] + vector_array[:, 1] + vector_array[:, 2] + vector_array[:, 3] + vector_array[:, 4], color=color_list[5], label='Tópico 5')\n",
    "\n",
    "\n",
    "\n",
    "# for dim in range(num_dimensions):\n",
    "#     plt.barh(range(num_vectors), vector_array[:, dim], color=color_list[dim], label=f'Dim {dim+1}')\n",
    "\n",
    "# Set labels, title, and legend \n",
    "plt.xlabel('Proporción')\n",
    "plt.ylabel('Conceptos')\n",
    "plt.title('Proporción de palabras con tópicos')\n",
    "# plt.yticks(range(num_vectors), range(1, num_vectors + 1))\n",
    "plt.yticks(ticks = range(num_vectors) ,labels = target_words, rotation = 'horizontal')\n",
    "plt.legend()\n",
    "# Show the plot\n",
    "plt.show()"
   ]
  },
  {
   "cell_type": "code",
   "execution_count": 80,
   "metadata": {},
   "outputs": [
    {
     "data": {
      "image/png": "[encoded data removed]",
      "text/plain": [
       "<Figure size 1500x600 with 1 Axes>"
      ]
     },
     "metadata": {},
     "output_type": "display_data"
    }
   ],
   "source": [
    "target_words = ['integridad','responsabilidad','empatía']\n",
    "vectors = get_word_topic_proportion(test_docs,model,target_words)\n",
    "\n",
    "vector_array = vectors\n",
    "\n",
    "# Get the number of vectors and number of dimensions\n",
    "num_vectors, num_dimensions = vector_array.shape\n",
    "color_list = ['tab:red', 'tab:green', 'tab:blue', 'tab:purple', 'tab:orange', 'tab:gray']\n",
    "\n",
    "\n",
    "# Create a horizontal bar plot with stacked bars\n",
    "plt.barh(range(num_vectors), vector_array[:, 0], color=color_list[0], label='Tópico 0')\n",
    "plt.barh(range(num_vectors), vector_array[:, 1], left=vector_array[:, 0], color=color_list[1], label='Tópico 1')\n",
    "plt.barh(range(num_vectors), vector_array[:, 2], left=vector_array[:, 0] + vector_array[:, 1], color=color_list[2], label='Tópico 2')\n",
    "plt.barh(range(num_vectors), vector_array[:, 3], left=vector_array[:, 0] + vector_array[:, 1] + vector_array[:, 2], color=color_list[3], label='Tópico 3')\n",
    "plt.barh(range(num_vectors), vector_array[:, 4], left=vector_array[:, 0] + vector_array[:, 1] + vector_array[:, 2] + vector_array[:, 3], color=color_list[4], label='Tópico 4')\n",
    "# plt.barh(range(num_vectors), vector_array[:, 5], left=vector_array[:, 0] + vector_array[:, 1] + vector_array[:, 2] + vector_array[:, 3] + vector_array[:, 4], color=color_list[5], label='Tópico 5')\n",
    "\n",
    "\n",
    "\n",
    "# for dim in range(num_dimensions):\n",
    "#     plt.barh(range(num_vectors), vector_array[:, dim], color=color_list[dim], label=f'Dim {dim+1}')\n",
    "\n",
    "# Set labels, title, and legend \n",
    "plt.xlabel('Proporción')\n",
    "plt.ylabel('Conceptos')\n",
    "plt.title('Proporción de palabras con tópicos')\n",
    "# plt.yticks(range(num_vectors), range(1, num_vectors + 1))\n",
    "plt.yticks(ticks = range(num_vectors) ,labels = target_words, rotation = 'horizontal')\n",
    "plt.legend()\n",
    "# Show the plot\n",
    "plt.show()"
   ]
  }
 ],
 "metadata": {
  "kernelspec": {
   "display_name": "ethics_env",
   "language": "python",
   "name": "ethics_env"
  },
  "language_info": {
   "codemirror_mode": {
    "name": "ipython",
    "version": 3
   },
   "file_extension": ".py",
   "mimetype": "text/x-python",
   "name": "python",
   "nbconvert_exporter": "python",
   "pygments_lexer": "ipython3",
   "version": "3.9.15"
  },
  "orig_nbformat": 4
 },
 "nbformat": 4,
 "nbformat_minor": 2
}
