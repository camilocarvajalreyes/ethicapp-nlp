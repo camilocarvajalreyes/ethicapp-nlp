{
 "cells": [
  {
   "cell_type": "markdown",
   "metadata": {},
   "source": [
    "# BERTopic"
   ]
  },
  {
   "cell_type": "code",
   "execution_count": 1,
   "metadata": {},
   "outputs": [],
   "source": [
    "import sys\n",
    "sys.path.insert(0, '..')\n",
    "from utils.preprocesamiento import df_to_list"
   ]
  },
  {
   "cell_type": "code",
   "execution_count": 2,
   "metadata": {},
   "outputs": [],
   "source": [
    "op_left, op_right = 'Producir el alimento', 'Resguardar tradiciones'"
   ]
  },
  {
   "cell_type": "code",
   "execution_count": 3,
   "metadata": {},
   "outputs": [
    {
     "name": "stdout",
     "output_type": "stream",
     "text": [
      "26 rows found with non string elements for column comment (0.40%)\n",
      "Deleting 685 columns for which max target value is over 7 (10.58%)\n",
      "5761 available rows after processing\n",
      "Partición train-test cargada\n"
     ]
    }
   ],
   "source": [
    "import pandas as pd\n",
    "from utils.cargar import df_caso\n",
    "from utils.preprocesamiento import process_df, procesar_adela\n",
    "\n",
    "caso = 'adela'\n",
    "df = df_caso(caso)\n",
    "\n",
    "df = procesar_adela(df)\n",
    "df = df[df['opt_left'] == 'Producir el alimento contra déficit vitamínico']\n",
    "\n",
    "df = process_df(df,'comment','sel',verbose=True)\n",
    "\n",
    "train_indices = pd.read_csv('../utils/splits/train_indices_{}.csv'.format(caso), header=None)[0].tolist()\n",
    "test_indices = pd.read_csv('../utils/splits/test_indices_{}.csv'.format(caso), header=None)[0].tolist()\n",
    "print(\"Partición train-test cargada\")\n",
    "\n",
    "df_train = df.iloc[train_indices]\n",
    "df_test = df.iloc[test_indices]"
   ]
  },
  {
   "cell_type": "markdown",
   "metadata": {},
   "source": [
    "Guardando la partición train-test"
   ]
  },
  {
   "cell_type": "code",
   "execution_count": 4,
   "metadata": {},
   "outputs": [],
   "source": [
    "from utils.preprocesamiento import StemmerTokenizer\n",
    "\n",
    "tokenizador = StemmerTokenizer(stem=False,rmv_punctuation=True)\n",
    "\n",
    "docs_train = df_to_list(df_train,'comment',tokenizador)\n",
    "docs_test = df_to_list(df_test, 'comment',tokenizador)"
   ]
  },
  {
   "cell_type": "markdown",
   "metadata": {},
   "source": [
    "## BERTopic algorithm"
   ]
  },
  {
   "cell_type": "code",
   "execution_count": 5,
   "metadata": {},
   "outputs": [
    {
     "data": {
      "text/html": [
       "<img src=\"https://maartengr.github.io/BERTopic/algorithm/modularity.svg\"/>"
      ],
      "text/plain": [
       "<IPython.core.display.Image object>"
      ]
     },
     "metadata": {},
     "output_type": "display_data"
    }
   ],
   "source": [
    "from IPython.display import Image, display\n",
    "display(Image(url='https://maartengr.github.io/BERTopic/algorithm/modularity.svg'))"
   ]
  },
  {
   "cell_type": "code",
   "execution_count": 6,
   "metadata": {},
   "outputs": [],
   "source": [
    "%%capture\n",
    "from bertopic import BERTopic"
   ]
  },
  {
   "cell_type": "code",
   "execution_count": 7,
   "metadata": {},
   "outputs": [],
   "source": [
    "model = BERTopic(language=\"spanish\",min_topic_size=10,nr_topics=25,calculate_probabilities=True)"
   ]
  },
  {
   "cell_type": "code",
   "execution_count": 8,
   "metadata": {},
   "outputs": [
    {
     "name": "stdout",
     "output_type": "stream",
     "text": [
      "CPU times: user 1min 5s, sys: 3.58 s, total: 1min 9s\n",
      "Wall time: 34.2 s\n"
     ]
    }
   ],
   "source": [
    "%%time\n",
    "topics, probs = model.fit_transform(docs_train)"
   ]
  },
  {
   "cell_type": "code",
   "execution_count": 9,
   "metadata": {},
   "outputs": [
    {
     "data": {
      "text/html": [
       "<div>\n",
       "<style scoped>\n",
       "    .dataframe tbody tr th:only-of-type {\n",
       "        vertical-align: middle;\n",
       "    }\n",
       "\n",
       "    .dataframe tbody tr th {\n",
       "        vertical-align: top;\n",
       "    }\n",
       "\n",
       "    .dataframe thead th {\n",
       "        text-align: right;\n",
       "    }\n",
       "</style>\n",
       "<table border=\"1\" class=\"dataframe\">\n",
       "  <thead>\n",
       "    <tr style=\"text-align: right;\">\n",
       "      <th></th>\n",
       "      <th>Topic</th>\n",
       "      <th>Count</th>\n",
       "    </tr>\n",
       "  </thead>\n",
       "  <tbody>\n",
       "    <tr>\n",
       "      <th>6</th>\n",
       "      <td>-1</td>\n",
       "      <td>1482</td>\n",
       "    </tr>\n",
       "    <tr>\n",
       "      <th>7</th>\n",
       "      <td>0</td>\n",
       "      <td>829</td>\n",
       "    </tr>\n",
       "    <tr>\n",
       "      <th>5</th>\n",
       "      <td>1</td>\n",
       "      <td>824</td>\n",
       "    </tr>\n",
       "    <tr>\n",
       "      <th>0</th>\n",
       "      <td>2</td>\n",
       "      <td>443</td>\n",
       "    </tr>\n",
       "    <tr>\n",
       "      <th>3</th>\n",
       "      <td>3</td>\n",
       "      <td>334</td>\n",
       "    </tr>\n",
       "  </tbody>\n",
       "</table>\n",
       "</div>"
      ],
      "text/plain": [
       "   Topic  Count\n",
       "6     -1   1482\n",
       "7      0    829\n",
       "5      1    824\n",
       "0      2    443\n",
       "3      3    334"
      ]
     },
     "execution_count": 9,
     "metadata": {},
     "output_type": "execute_result"
    }
   ],
   "source": [
    "model.get_topic_freq().head(5)"
   ]
  },
  {
   "cell_type": "code",
   "execution_count": 10,
   "metadata": {},
   "outputs": [
    {
     "data": {
      "text/plain": [
       "[('vitamina', 0.041939446669858105),\n",
       " ('déficit', 0.041582569992296085),\n",
       " ('vitamínico', 0.03744003189652333),\n",
       " ('alimento', 0.02592327151109369),\n",
       " ('tradiciones', 0.025364355095883973),\n",
       " ('importante', 0.024291218879156952),\n",
       " ('producir', 0.021920594233500443),\n",
       " ('deficit', 0.02116802164314391),\n",
       " ('vitaminas', 0.021004298225006646),\n",
       " ('personas', 0.018875275558153704)]"
      ]
     },
     "execution_count": 10,
     "metadata": {},
     "output_type": "execute_result"
    }
   ],
   "source": [
    "model.get_topic(0)[:10]"
   ]
  },
  {
   "cell_type": "markdown",
   "metadata": {},
   "source": [
    "Topicos para algunos documentos"
   ]
  },
  {
   "cell_type": "code",
   "execution_count": 11,
   "metadata": {},
   "outputs": [
    {
     "name": "stdout",
     "output_type": "stream",
     "text": [
      "Tópico 2:\ttexto: Adela debería priorizar salud personas alguna creencia grupo pequeño personas\n",
      "Tópico 2:\ttexto: Dado Adela quiere utilizar fruto tradicional pueblo originario cuál esforzado cultivar mantener vigente debería respetar condiciones pueblo originario acepta uso fruto encargados hacerlo subsistir\n",
      "Tópico 9:\ttexto: Si bien aún proyecto obligacion considerar opinión pueblos originarios demasía importante considerar opinión respeto cultura cosmovisión Lamenetablemente existe disgusto parte últimos proyecto existirá conflicto fututo hora producir producto Lo prudente realizar estudio baja escala implementando producción alimento compromiso incluir miembros comunidades indígenas llegar acuerdos conjunto\n",
      "Tópico 7:\ttexto: Debe priorizar producción alimento pues trata deficiencia salud puede llegar generar problemas graves si tratan todas formas seguiría tratando lograr acuerdo pueblo originario si logra terminaría priorizando producción alimento\n",
      "Tópico 3:\ttexto: Considero debería poder llegar acuerdo pueblos originarios aún así beneficio salud grupo debería ser importante priorizado solamente pensamientos ideologías grupo personas\n",
      "Tópico 8:\ttexto: Pues personas tradiciones antiguas cuales puede llegar pasarles encima No podemos ignorar creencias utilizarlas beneficiarnos base pocos siendo así sacrificarían preciado\n",
      "Tópico 1:\ttexto: Yo creo bueno resguardar tradiciones identitarias pues respetar cultura aquellos originales fruta tener acuerdo uso podría realizar alimento fruta pues igualmente necesario buena idea\n",
      "Tópico 2:\ttexto: Si bien proponiendo Adela pueblos afecta indirectamente pues considera probablemente consuman alimento creencias probablemente mas fuertes ademas haber pensado factor previo desarrollo proyecto\n",
      "Tópico -1:\ttexto: En caso postura anterior cambió debe comunidades Diaguitas trabajaban frutas hace tiempo ende pensaba quitarselas perjudicial embargo oposición respecto proyecto debido imagen comunidad necesidad Por ello creo ser objeción subjetiva relevancia necesidad datos vitamina D niños ancianos\n",
      "Tópico 0:\ttexto: A parecer correcto producir alimento falta vitaminas puede afectar salud causar problemas graves cambio ir creencias gente va morir\n"
     ]
    }
   ],
   "source": [
    "for i, t in enumerate(model.topics_[:10]):\n",
    "    print('Tópico {}:\\ttexto: {}'.format(t,docs_train[i]))"
   ]
  },
  {
   "cell_type": "markdown",
   "metadata": {},
   "source": [
    "### Inferencia en conjunto test"
   ]
  },
  {
   "cell_type": "code",
   "execution_count": 12,
   "metadata": {},
   "outputs": [
    {
     "data": {
      "text/plain": [
       "([-1],\n",
       " array([[1.44468667e-11, 1.85114105e-11, 2.03418283e-12, 1.62359322e-10,\n",
       "         6.72172308e-01, 4.00299428e-12, 3.55694563e-12, 1.34724613e-06,\n",
       "         4.76280113e-10, 1.49349680e-11, 1.57895396e-05, 3.27351938e-10,\n",
       "         1.72914754e-12, 9.08505803e-11, 8.29785930e-11, 7.49725155e-11,\n",
       "         9.32379804e-11, 9.72018188e-11, 9.79370398e-11, 8.16818614e-11,\n",
       "         2.22516257e-12, 7.87117753e-11, 7.50923079e-10, 1.03619256e-10]]))"
      ]
     },
     "execution_count": 12,
     "metadata": {},
     "output_type": "execute_result"
    }
   ],
   "source": [
    "string = 'Aun considero necesario resguardar mas tradiciones identitarias embargo producir alimento podría ayudar muchas personas entonces debería existir diálogo ambas partes llegar mejor solución'\n",
    "\n",
    "model.transform([string])"
   ]
  },
  {
   "cell_type": "code",
   "execution_count": 13,
   "metadata": {},
   "outputs": [],
   "source": [
    "output = model.transform(df_to_list(df_test.iloc[:3],'comment',tokenizador))"
   ]
  },
  {
   "cell_type": "markdown",
   "metadata": {},
   "source": [
    "Imprimiendo los embeddings"
   ]
  },
  {
   "cell_type": "code",
   "execution_count": 14,
   "metadata": {},
   "outputs": [
    {
     "data": {
      "text/plain": [
       "array([[8.53647149e-03, 2.42409435e-03, 8.26563183e-01, 1.69185028e-03,\n",
       "        7.51213716e-03, 2.22960718e-03, 2.27303930e-03, 2.80221579e-03,\n",
       "        4.45354843e-03, 1.12687700e-03, 4.88232059e-03, 2.67521883e-03,\n",
       "        1.46066038e-03, 8.44963103e-04, 8.29543371e-04, 7.96527331e-04,\n",
       "        9.09390255e-04, 8.84772679e-04, 8.79736748e-04, 8.85827628e-04,\n",
       "        1.37878694e-03, 8.12515449e-04, 9.19927622e-04, 8.71794695e-04],\n",
       "       [4.19043633e-02, 1.79366984e-01, 6.40052656e-03, 2.69203346e-02,\n",
       "        1.53533161e-01, 1.15153703e-02, 9.54673249e-03, 5.59185546e-02,\n",
       "        7.52468940e-02, 1.88520387e-02, 8.88165851e-02, 4.56047246e-02,\n",
       "        4.95434547e-03, 1.39213328e-02, 1.32974314e-02, 1.25245345e-02,\n",
       "        1.51063105e-02, 1.46936220e-02, 1.47860388e-02, 1.47463860e-02,\n",
       "        6.72163254e-03, 1.28957877e-02, 1.84997968e-02, 1.47065121e-02],\n",
       "       [8.10771103e-16, 1.86623125e-06, 1.26693702e-16, 1.89280668e-06,\n",
       "        1.31654217e-05, 2.37274903e-16, 1.94173568e-16, 4.56507930e-06,\n",
       "        5.33329399e-06, 3.27825722e-01, 6.76330065e-06, 3.31372583e-06,\n",
       "        9.60208717e-17, 9.75462427e-07, 9.21463320e-07, 8.54764951e-07,\n",
       "        1.07765269e-06, 1.04324767e-06, 1.07035842e-06, 1.06314766e-06,\n",
       "        1.40111915e-16, 8.86337190e-07, 1.51648404e-06, 1.05660223e-06]])"
      ]
     },
     "execution_count": 14,
     "metadata": {},
     "output_type": "execute_result"
    }
   ],
   "source": [
    "output[1]"
   ]
  },
  {
   "cell_type": "code",
   "execution_count": 15,
   "metadata": {},
   "outputs": [
    {
     "data": {
      "text/plain": [
       "[2, 1, -1]"
      ]
     },
     "execution_count": 15,
     "metadata": {},
     "output_type": "execute_result"
    }
   ],
   "source": [
    "output[0]"
   ]
  },
  {
   "cell_type": "markdown",
   "metadata": {},
   "source": [
    "Visualización"
   ]
  },
  {
   "cell_type": "code",
   "execution_count": 16,
   "metadata": {},
   "outputs": [
    {
     "data": {
      "application/vnd.plotly.v1+json": {
       "config": {
        "plotlyServerURL": "https://plot.ly"
       },
       "data": [
        {
         "customdata": [
          [
           0,
           "vitamina | déficit | vitamínico | alimento | tradiciones",
           829
          ],
          [
           1,
           "fruta | fruto | pueblo | si | puede",
           824
          ],
          [
           2,
           "adela | debería | priorizar | alimento | pueblo",
           443
          ],
          [
           3,
           "salud | personas | tradiciones | importante | población",
           334
          ],
          [
           4,
           "alimento | tradiciones | producir | producción | pueblo",
           221
          ],
          [
           5,
           "agua | escasez | hídrica | tradiciones | producción",
           187
          ],
          [
           6,
           "niños | ancianos | salud | importante | adultos",
           172
          ],
          [
           7,
           "alimento | producir | personas | población | salud",
           171
          ],
          [
           8,
           "tradiciones | proyecto | importante | resguardar | vida",
           165
          ],
          [
           9,
           "indígena | indígenas | comunidad | acuerdo | llegar",
           155
          ],
          [
           10,
           "identitarias | identidad | tradiciones | pueblos | resguardar",
           126
          ],
          [
           11,
           "proyecto | pueblo | acuerdo | buscar | startup",
           85
          ],
          [
           12,
           "chile | relleno | chilena | población | originarios",
           42
          ],
          [
           13,
           "ambas | partes | acuerdo | llegar | dos",
           40
          ],
          [
           14,
           "opinion | misma | mi | opinión | mantiene",
           33
          ],
          [
           15,
           "mitad | lo | esos | alimeto | promedios",
           32
          ],
          [
           16,
           "innovación | si | bien | respetar | avance",
           32
          ],
          [
           17,
           "minoría | grupo | mantengo | originario | postura",
           22
          ],
          [
           18,
           "religiosas | creencias | ciencia | avances | nunca",
           17
          ],
          [
           19,
           "ciencia | desarrollo | humano | camino | tecnológicamente",
           15
          ],
          [
           20,
           "adele | debería | originario | acuerdo | pueblo",
           14
          ],
          [
           21,
           "postura | mantengo | manteniendo | modifico | internet",
           12
          ],
          [
           22,
           "resolver | bajo | problema | objetivas | maduro",
           10
          ],
          [
           23,
           "salvar | acordarse | diagüita | personas | vida",
           10
          ]
         ],
         "hovertemplate": "<b>Topic %{customdata[0]}</b><br>%{customdata[1]}<br>Size: %{customdata[2]}",
         "legendgroup": "",
         "marker": {
          "color": "#B0BEC5",
          "line": {
           "color": "DarkSlateGrey",
           "width": 2
          },
          "size": [
           829,
           824,
           443,
           334,
           221,
           187,
           172,
           171,
           165,
           155,
           126,
           85,
           42,
           40,
           33,
           32,
           32,
           22,
           17,
           15,
           14,
           12,
           10,
           10
          ],
          "sizemode": "area",
          "sizeref": 0.518125,
          "symbol": "circle"
         },
         "mode": "markers",
         "name": "",
         "orientation": "v",
         "showlegend": false,
         "type": "scatter",
         "x": [
          8.521891593933105,
          -11.888046264648438,
          -12.093557357788086,
          3.137681245803833,
          8.094709396362305,
          -11.693550109863281,
          3.1233763694763184,
          8.362793922424316,
          -1.2848758697509766,
          -1.381935954093933,
          -1.5793719291687012,
          -12.11803150177002,
          -12.222053527832031,
          -11.940868377685547,
          -1.9147515296936035,
          5.70787239074707,
          -12.356119155883789,
          -1.8119227886199951,
          2.9202864170074463,
          -12.208292961120605,
          -11.54391098022461,
          5.79255485534668,
          7.789830207824707,
          -1.1789882183074951
         ],
         "xaxis": "x",
         "y": [
          -5.092370510101318,
          6.147975444793701,
          5.926878929138184,
          21.27240562438965,
          -4.665194988250732,
          6.346543788909912,
          21.256227493286133,
          -4.933261871337891,
          5.361989974975586,
          4.797728538513184,
          4.7711710929870605,
          -3.5470211505889893,
          5.797736167907715,
          -3.518019437789917,
          4.161864757537842,
          15.331212043762207,
          -3.196558952331543,
          4.290181636810303,
          21.053539276123047,
          -2.7848644256591797,
          6.493857383728027,
          15.247621536254883,
          -4.360419750213623,
          5.515496253967285
         ],
         "yaxis": "y"
        }
       ],
       "layout": {
        "annotations": [
         {
          "showarrow": false,
          "text": "D1",
          "x": -14.209537029266357,
          "y": 9.30352019071579,
          "yshift": 10
         },
         {
          "showarrow": false,
          "text": "D2",
          "x": -2.204680848121643,
          "xshift": 10,
          "y": 24.463266468048097
         }
        ],
        "height": 650,
        "hoverlabel": {
         "bgcolor": "white",
         "font": {
          "family": "Rockwell",
          "size": 16
         }
        },
        "legend": {
         "itemsizing": "constant",
         "tracegroupgap": 0
        },
        "margin": {
         "t": 60
        },
        "shapes": [
         {
          "line": {
           "color": "#CFD8DC",
           "width": 2
          },
          "type": "line",
          "x0": -2.204680848121643,
          "x1": -2.204680848121643,
          "y0": -5.856226086616516,
          "y1": 24.463266468048097
         },
         {
          "line": {
           "color": "#9E9E9E",
           "width": 2
          },
          "type": "line",
          "x0": -14.209537029266357,
          "x1": 9.800175333023072,
          "y0": 9.30352019071579,
          "y1": 9.30352019071579
         }
        ],
        "sliders": [
         {
          "active": 0,
          "pad": {
           "t": 50
          },
          "steps": [
           {
            "args": [
             {
              "marker.color": [
               [
                "red",
                "#B0BEC5",
                "#B0BEC5",
                "#B0BEC5",
                "#B0BEC5",
                "#B0BEC5",
                "#B0BEC5",
                "#B0BEC5",
                "#B0BEC5",
                "#B0BEC5",
                "#B0BEC5",
                "#B0BEC5",
                "#B0BEC5",
                "#B0BEC5",
                "#B0BEC5",
                "#B0BEC5",
                "#B0BEC5",
                "#B0BEC5",
                "#B0BEC5",
                "#B0BEC5",
                "#B0BEC5",
                "#B0BEC5",
                "#B0BEC5",
                "#B0BEC5"
               ]
              ]
             }
            ],
            "label": "Topic 0",
            "method": "update"
           },
           {
            "args": [
             {
              "marker.color": [
               [
                "#B0BEC5",
                "red",
                "#B0BEC5",
                "#B0BEC5",
                "#B0BEC5",
                "#B0BEC5",
                "#B0BEC5",
                "#B0BEC5",
                "#B0BEC5",
                "#B0BEC5",
                "#B0BEC5",
                "#B0BEC5",
                "#B0BEC5",
                "#B0BEC5",
                "#B0BEC5",
                "#B0BEC5",
                "#B0BEC5",
                "#B0BEC5",
                "#B0BEC5",
                "#B0BEC5",
                "#B0BEC5",
                "#B0BEC5",
                "#B0BEC5",
                "#B0BEC5"
               ]
              ]
             }
            ],
            "label": "Topic 1",
            "method": "update"
           },
           {
            "args": [
             {
              "marker.color": [
               [
                "#B0BEC5",
                "#B0BEC5",
                "red",
                "#B0BEC5",
                "#B0BEC5",
                "#B0BEC5",
                "#B0BEC5",
                "#B0BEC5",
                "#B0BEC5",
                "#B0BEC5",
                "#B0BEC5",
                "#B0BEC5",
                "#B0BEC5",
                "#B0BEC5",
                "#B0BEC5",
                "#B0BEC5",
                "#B0BEC5",
                "#B0BEC5",
                "#B0BEC5",
                "#B0BEC5",
                "#B0BEC5",
                "#B0BEC5",
                "#B0BEC5",
                "#B0BEC5"
               ]
              ]
             }
            ],
            "label": "Topic 2",
            "method": "update"
           },
           {
            "args": [
             {
              "marker.color": [
               [
                "#B0BEC5",
                "#B0BEC5",
                "#B0BEC5",
                "red",
                "#B0BEC5",
                "#B0BEC5",
                "#B0BEC5",
                "#B0BEC5",
                "#B0BEC5",
                "#B0BEC5",
                "#B0BEC5",
                "#B0BEC5",
                "#B0BEC5",
                "#B0BEC5",
                "#B0BEC5",
                "#B0BEC5",
                "#B0BEC5",
                "#B0BEC5",
                "#B0BEC5",
                "#B0BEC5",
                "#B0BEC5",
                "#B0BEC5",
                "#B0BEC5",
                "#B0BEC5"
               ]
              ]
             }
            ],
            "label": "Topic 3",
            "method": "update"
           },
           {
            "args": [
             {
              "marker.color": [
               [
                "#B0BEC5",
                "#B0BEC5",
                "#B0BEC5",
                "#B0BEC5",
                "red",
                "#B0BEC5",
                "#B0BEC5",
                "#B0BEC5",
                "#B0BEC5",
                "#B0BEC5",
                "#B0BEC5",
                "#B0BEC5",
                "#B0BEC5",
                "#B0BEC5",
                "#B0BEC5",
                "#B0BEC5",
                "#B0BEC5",
                "#B0BEC5",
                "#B0BEC5",
                "#B0BEC5",
                "#B0BEC5",
                "#B0BEC5",
                "#B0BEC5",
                "#B0BEC5"
               ]
              ]
             }
            ],
            "label": "Topic 4",
            "method": "update"
           },
           {
            "args": [
             {
              "marker.color": [
               [
                "#B0BEC5",
                "#B0BEC5",
                "#B0BEC5",
                "#B0BEC5",
                "#B0BEC5",
                "red",
                "#B0BEC5",
                "#B0BEC5",
                "#B0BEC5",
                "#B0BEC5",
                "#B0BEC5",
                "#B0BEC5",
                "#B0BEC5",
                "#B0BEC5",
                "#B0BEC5",
                "#B0BEC5",
                "#B0BEC5",
                "#B0BEC5",
                "#B0BEC5",
                "#B0BEC5",
                "#B0BEC5",
                "#B0BEC5",
                "#B0BEC5",
                "#B0BEC5"
               ]
              ]
             }
            ],
            "label": "Topic 5",
            "method": "update"
           },
           {
            "args": [
             {
              "marker.color": [
               [
                "#B0BEC5",
                "#B0BEC5",
                "#B0BEC5",
                "#B0BEC5",
                "#B0BEC5",
                "#B0BEC5",
                "red",
                "#B0BEC5",
                "#B0BEC5",
                "#B0BEC5",
                "#B0BEC5",
                "#B0BEC5",
                "#B0BEC5",
                "#B0BEC5",
                "#B0BEC5",
                "#B0BEC5",
                "#B0BEC5",
                "#B0BEC5",
                "#B0BEC5",
                "#B0BEC5",
                "#B0BEC5",
                "#B0BEC5",
                "#B0BEC5",
                "#B0BEC5"
               ]
              ]
             }
            ],
            "label": "Topic 6",
            "method": "update"
           },
           {
            "args": [
             {
              "marker.color": [
               [
                "#B0BEC5",
                "#B0BEC5",
                "#B0BEC5",
                "#B0BEC5",
                "#B0BEC5",
                "#B0BEC5",
                "#B0BEC5",
                "red",
                "#B0BEC5",
                "#B0BEC5",
                "#B0BEC5",
                "#B0BEC5",
                "#B0BEC5",
                "#B0BEC5",
                "#B0BEC5",
                "#B0BEC5",
                "#B0BEC5",
                "#B0BEC5",
                "#B0BEC5",
                "#B0BEC5",
                "#B0BEC5",
                "#B0BEC5",
                "#B0BEC5",
                "#B0BEC5"
               ]
              ]
             }
            ],
            "label": "Topic 7",
            "method": "update"
           },
           {
            "args": [
             {
              "marker.color": [
               [
                "#B0BEC5",
                "#B0BEC5",
                "#B0BEC5",
                "#B0BEC5",
                "#B0BEC5",
                "#B0BEC5",
                "#B0BEC5",
                "#B0BEC5",
                "red",
                "#B0BEC5",
                "#B0BEC5",
                "#B0BEC5",
                "#B0BEC5",
                "#B0BEC5",
                "#B0BEC5",
                "#B0BEC5",
                "#B0BEC5",
                "#B0BEC5",
                "#B0BEC5",
                "#B0BEC5",
                "#B0BEC5",
                "#B0BEC5",
                "#B0BEC5",
                "#B0BEC5"
               ]
              ]
             }
            ],
            "label": "Topic 8",
            "method": "update"
           },
           {
            "args": [
             {
              "marker.color": [
               [
                "#B0BEC5",
                "#B0BEC5",
                "#B0BEC5",
                "#B0BEC5",
                "#B0BEC5",
                "#B0BEC5",
                "#B0BEC5",
                "#B0BEC5",
                "#B0BEC5",
                "red",
                "#B0BEC5",
                "#B0BEC5",
                "#B0BEC5",
                "#B0BEC5",
                "#B0BEC5",
                "#B0BEC5",
                "#B0BEC5",
                "#B0BEC5",
                "#B0BEC5",
                "#B0BEC5",
                "#B0BEC5",
                "#B0BEC5",
                "#B0BEC5",
                "#B0BEC5"
               ]
              ]
             }
            ],
            "label": "Topic 9",
            "method": "update"
           },
           {
            "args": [
             {
              "marker.color": [
               [
                "#B0BEC5",
                "#B0BEC5",
                "#B0BEC5",
                "#B0BEC5",
                "#B0BEC5",
                "#B0BEC5",
                "#B0BEC5",
                "#B0BEC5",
                "#B0BEC5",
                "#B0BEC5",
                "red",
                "#B0BEC5",
                "#B0BEC5",
                "#B0BEC5",
                "#B0BEC5",
                "#B0BEC5",
                "#B0BEC5",
                "#B0BEC5",
                "#B0BEC5",
                "#B0BEC5",
                "#B0BEC5",
                "#B0BEC5",
                "#B0BEC5",
                "#B0BEC5"
               ]
              ]
             }
            ],
            "label": "Topic 10",
            "method": "update"
           },
           {
            "args": [
             {
              "marker.color": [
               [
                "#B0BEC5",
                "#B0BEC5",
                "#B0BEC5",
                "#B0BEC5",
                "#B0BEC5",
                "#B0BEC5",
                "#B0BEC5",
                "#B0BEC5",
                "#B0BEC5",
                "#B0BEC5",
                "#B0BEC5",
                "red",
                "#B0BEC5",
                "#B0BEC5",
                "#B0BEC5",
                "#B0BEC5",
                "#B0BEC5",
                "#B0BEC5",
                "#B0BEC5",
                "#B0BEC5",
                "#B0BEC5",
                "#B0BEC5",
                "#B0BEC5",
                "#B0BEC5"
               ]
              ]
             }
            ],
            "label": "Topic 11",
            "method": "update"
           },
           {
            "args": [
             {
              "marker.color": [
               [
                "#B0BEC5",
                "#B0BEC5",
                "#B0BEC5",
                "#B0BEC5",
                "#B0BEC5",
                "#B0BEC5",
                "#B0BEC5",
                "#B0BEC5",
                "#B0BEC5",
                "#B0BEC5",
                "#B0BEC5",
                "#B0BEC5",
                "red",
                "#B0BEC5",
                "#B0BEC5",
                "#B0BEC5",
                "#B0BEC5",
                "#B0BEC5",
                "#B0BEC5",
                "#B0BEC5",
                "#B0BEC5",
                "#B0BEC5",
                "#B0BEC5",
                "#B0BEC5"
               ]
              ]
             }
            ],
            "label": "Topic 12",
            "method": "update"
           },
           {
            "args": [
             {
              "marker.color": [
               [
                "#B0BEC5",
                "#B0BEC5",
                "#B0BEC5",
                "#B0BEC5",
                "#B0BEC5",
                "#B0BEC5",
                "#B0BEC5",
                "#B0BEC5",
                "#B0BEC5",
                "#B0BEC5",
                "#B0BEC5",
                "#B0BEC5",
                "#B0BEC5",
                "red",
                "#B0BEC5",
                "#B0BEC5",
                "#B0BEC5",
                "#B0BEC5",
                "#B0BEC5",
                "#B0BEC5",
                "#B0BEC5",
                "#B0BEC5",
                "#B0BEC5",
                "#B0BEC5"
               ]
              ]
             }
            ],
            "label": "Topic 13",
            "method": "update"
           },
           {
            "args": [
             {
              "marker.color": [
               [
                "#B0BEC5",
                "#B0BEC5",
                "#B0BEC5",
                "#B0BEC5",
                "#B0BEC5",
                "#B0BEC5",
                "#B0BEC5",
                "#B0BEC5",
                "#B0BEC5",
                "#B0BEC5",
                "#B0BEC5",
                "#B0BEC5",
                "#B0BEC5",
                "#B0BEC5",
                "red",
                "#B0BEC5",
                "#B0BEC5",
                "#B0BEC5",
                "#B0BEC5",
                "#B0BEC5",
                "#B0BEC5",
                "#B0BEC5",
                "#B0BEC5",
                "#B0BEC5"
               ]
              ]
             }
            ],
            "label": "Topic 14",
            "method": "update"
           },
           {
            "args": [
             {
              "marker.color": [
               [
                "#B0BEC5",
                "#B0BEC5",
                "#B0BEC5",
                "#B0BEC5",
                "#B0BEC5",
                "#B0BEC5",
                "#B0BEC5",
                "#B0BEC5",
                "#B0BEC5",
                "#B0BEC5",
                "#B0BEC5",
                "#B0BEC5",
                "#B0BEC5",
                "#B0BEC5",
                "#B0BEC5",
                "red",
                "#B0BEC5",
                "#B0BEC5",
                "#B0BEC5",
                "#B0BEC5",
                "#B0BEC5",
                "#B0BEC5",
                "#B0BEC5",
                "#B0BEC5"
               ]
              ]
             }
            ],
            "label": "Topic 15",
            "method": "update"
           },
           {
            "args": [
             {
              "marker.color": [
               [
                "#B0BEC5",
                "#B0BEC5",
                "#B0BEC5",
                "#B0BEC5",
                "#B0BEC5",
                "#B0BEC5",
                "#B0BEC5",
                "#B0BEC5",
                "#B0BEC5",
                "#B0BEC5",
                "#B0BEC5",
                "#B0BEC5",
                "#B0BEC5",
                "#B0BEC5",
                "#B0BEC5",
                "#B0BEC5",
                "red",
                "#B0BEC5",
                "#B0BEC5",
                "#B0BEC5",
                "#B0BEC5",
                "#B0BEC5",
                "#B0BEC5",
                "#B0BEC5"
               ]
              ]
             }
            ],
            "label": "Topic 16",
            "method": "update"
           },
           {
            "args": [
             {
              "marker.color": [
               [
                "#B0BEC5",
                "#B0BEC5",
                "#B0BEC5",
                "#B0BEC5",
                "#B0BEC5",
                "#B0BEC5",
                "#B0BEC5",
                "#B0BEC5",
                "#B0BEC5",
                "#B0BEC5",
                "#B0BEC5",
                "#B0BEC5",
                "#B0BEC5",
                "#B0BEC5",
                "#B0BEC5",
                "#B0BEC5",
                "#B0BEC5",
                "red",
                "#B0BEC5",
                "#B0BEC5",
                "#B0BEC5",
                "#B0BEC5",
                "#B0BEC5",
                "#B0BEC5"
               ]
              ]
             }
            ],
            "label": "Topic 17",
            "method": "update"
           },
           {
            "args": [
             {
              "marker.color": [
               [
                "#B0BEC5",
                "#B0BEC5",
                "#B0BEC5",
                "#B0BEC5",
                "#B0BEC5",
                "#B0BEC5",
                "#B0BEC5",
                "#B0BEC5",
                "#B0BEC5",
                "#B0BEC5",
                "#B0BEC5",
                "#B0BEC5",
                "#B0BEC5",
                "#B0BEC5",
                "#B0BEC5",
                "#B0BEC5",
                "#B0BEC5",
                "#B0BEC5",
                "red",
                "#B0BEC5",
                "#B0BEC5",
                "#B0BEC5",
                "#B0BEC5",
                "#B0BEC5"
               ]
              ]
             }
            ],
            "label": "Topic 18",
            "method": "update"
           },
           {
            "args": [
             {
              "marker.color": [
               [
                "#B0BEC5",
                "#B0BEC5",
                "#B0BEC5",
                "#B0BEC5",
                "#B0BEC5",
                "#B0BEC5",
                "#B0BEC5",
                "#B0BEC5",
                "#B0BEC5",
                "#B0BEC5",
                "#B0BEC5",
                "#B0BEC5",
                "#B0BEC5",
                "#B0BEC5",
                "#B0BEC5",
                "#B0BEC5",
                "#B0BEC5",
                "#B0BEC5",
                "#B0BEC5",
                "red",
                "#B0BEC5",
                "#B0BEC5",
                "#B0BEC5",
                "#B0BEC5"
               ]
              ]
             }
            ],
            "label": "Topic 19",
            "method": "update"
           },
           {
            "args": [
             {
              "marker.color": [
               [
                "#B0BEC5",
                "#B0BEC5",
                "#B0BEC5",
                "#B0BEC5",
                "#B0BEC5",
                "#B0BEC5",
                "#B0BEC5",
                "#B0BEC5",
                "#B0BEC5",
                "#B0BEC5",
                "#B0BEC5",
                "#B0BEC5",
                "#B0BEC5",
                "#B0BEC5",
                "#B0BEC5",
                "#B0BEC5",
                "#B0BEC5",
                "#B0BEC5",
                "#B0BEC5",
                "#B0BEC5",
                "red",
                "#B0BEC5",
                "#B0BEC5",
                "#B0BEC5"
               ]
              ]
             }
            ],
            "label": "Topic 20",
            "method": "update"
           },
           {
            "args": [
             {
              "marker.color": [
               [
                "#B0BEC5",
                "#B0BEC5",
                "#B0BEC5",
                "#B0BEC5",
                "#B0BEC5",
                "#B0BEC5",
                "#B0BEC5",
                "#B0BEC5",
                "#B0BEC5",
                "#B0BEC5",
                "#B0BEC5",
                "#B0BEC5",
                "#B0BEC5",
                "#B0BEC5",
                "#B0BEC5",
                "#B0BEC5",
                "#B0BEC5",
                "#B0BEC5",
                "#B0BEC5",
                "#B0BEC5",
                "#B0BEC5",
                "red",
                "#B0BEC5",
                "#B0BEC5"
               ]
              ]
             }
            ],
            "label": "Topic 21",
            "method": "update"
           },
           {
            "args": [
             {
              "marker.color": [
               [
                "#B0BEC5",
                "#B0BEC5",
                "#B0BEC5",
                "#B0BEC5",
                "#B0BEC5",
                "#B0BEC5",
                "#B0BEC5",
                "#B0BEC5",
                "#B0BEC5",
                "#B0BEC5",
                "#B0BEC5",
                "#B0BEC5",
                "#B0BEC5",
                "#B0BEC5",
                "#B0BEC5",
                "#B0BEC5",
                "#B0BEC5",
                "#B0BEC5",
                "#B0BEC5",
                "#B0BEC5",
                "#B0BEC5",
                "#B0BEC5",
                "red",
                "#B0BEC5"
               ]
              ]
             }
            ],
            "label": "Topic 22",
            "method": "update"
           },
           {
            "args": [
             {
              "marker.color": [
               [
                "#B0BEC5",
                "#B0BEC5",
                "#B0BEC5",
                "#B0BEC5",
                "#B0BEC5",
                "#B0BEC5",
                "#B0BEC5",
                "#B0BEC5",
                "#B0BEC5",
                "#B0BEC5",
                "#B0BEC5",
                "#B0BEC5",
                "#B0BEC5",
                "#B0BEC5",
                "#B0BEC5",
                "#B0BEC5",
                "#B0BEC5",
                "#B0BEC5",
                "#B0BEC5",
                "#B0BEC5",
                "#B0BEC5",
                "#B0BEC5",
                "#B0BEC5",
                "red"
               ]
              ]
             }
            ],
            "label": "Topic 23",
            "method": "update"
           }
          ]
         }
        ],
        "template": {
         "data": {
          "bar": [
           {
            "error_x": {
             "color": "rgb(36,36,36)"
            },
            "error_y": {
             "color": "rgb(36,36,36)"
            },
            "marker": {
             "line": {
              "color": "white",
              "width": 0.5
             },
             "pattern": {
              "fillmode": "overlay",
              "size": 10,
              "solidity": 0.2
             }
            },
            "type": "bar"
           }
          ],
          "barpolar": [
           {
            "marker": {
             "line": {
              "color": "white",
              "width": 0.5
             },
             "pattern": {
              "fillmode": "overlay",
              "size": 10,
              "solidity": 0.2
             }
            },
            "type": "barpolar"
           }
          ],
          "carpet": [
           {
            "aaxis": {
             "endlinecolor": "rgb(36,36,36)",
             "gridcolor": "white",
             "linecolor": "white",
             "minorgridcolor": "white",
             "startlinecolor": "rgb(36,36,36)"
            },
            "baxis": {
             "endlinecolor": "rgb(36,36,36)",
             "gridcolor": "white",
             "linecolor": "white",
             "minorgridcolor": "white",
             "startlinecolor": "rgb(36,36,36)"
            },
            "type": "carpet"
           }
          ],
          "choropleth": [
           {
            "colorbar": {
             "outlinewidth": 1,
             "tickcolor": "rgb(36,36,36)",
             "ticks": "outside"
            },
            "type": "choropleth"
           }
          ],
          "contour": [
           {
            "colorbar": {
             "outlinewidth": 1,
             "tickcolor": "rgb(36,36,36)",
             "ticks": "outside"
            },
            "colorscale": [
             [
              0,
              "#440154"
             ],
             [
              0.1111111111111111,
              "#482878"
             ],
             [
              0.2222222222222222,
              "#3e4989"
             ],
             [
              0.3333333333333333,
              "#31688e"
             ],
             [
              0.4444444444444444,
              "#26828e"
             ],
             [
              0.5555555555555556,
              "#1f9e89"
             ],
             [
              0.6666666666666666,
              "#35b779"
             ],
             [
              0.7777777777777778,
              "#6ece58"
             ],
             [
              0.8888888888888888,
              "#b5de2b"
             ],
             [
              1,
              "#fde725"
             ]
            ],
            "type": "contour"
           }
          ],
          "contourcarpet": [
           {
            "colorbar": {
             "outlinewidth": 1,
             "tickcolor": "rgb(36,36,36)",
             "ticks": "outside"
            },
            "type": "contourcarpet"
           }
          ],
          "heatmap": [
           {
            "colorbar": {
             "outlinewidth": 1,
             "tickcolor": "rgb(36,36,36)",
             "ticks": "outside"
            },
            "colorscale": [
             [
              0,
              "#440154"
             ],
             [
              0.1111111111111111,
              "#482878"
             ],
             [
              0.2222222222222222,
              "#3e4989"
             ],
             [
              0.3333333333333333,
              "#31688e"
             ],
             [
              0.4444444444444444,
              "#26828e"
             ],
             [
              0.5555555555555556,
              "#1f9e89"
             ],
             [
              0.6666666666666666,
              "#35b779"
             ],
             [
              0.7777777777777778,
              "#6ece58"
             ],
             [
              0.8888888888888888,
              "#b5de2b"
             ],
             [
              1,
              "#fde725"
             ]
            ],
            "type": "heatmap"
           }
          ],
          "heatmapgl": [
           {
            "colorbar": {
             "outlinewidth": 1,
             "tickcolor": "rgb(36,36,36)",
             "ticks": "outside"
            },
            "colorscale": [
             [
              0,
              "#440154"
             ],
             [
              0.1111111111111111,
              "#482878"
             ],
             [
              0.2222222222222222,
              "#3e4989"
             ],
             [
              0.3333333333333333,
              "#31688e"
             ],
             [
              0.4444444444444444,
              "#26828e"
             ],
             [
              0.5555555555555556,
              "#1f9e89"
             ],
             [
              0.6666666666666666,
              "#35b779"
             ],
             [
              0.7777777777777778,
              "#6ece58"
             ],
             [
              0.8888888888888888,
              "#b5de2b"
             ],
             [
              1,
              "#fde725"
             ]
            ],
            "type": "heatmapgl"
           }
          ],
          "histogram": [
           {
            "marker": {
             "line": {
              "color": "white",
              "width": 0.6
             }
            },
            "type": "histogram"
           }
          ],
          "histogram2d": [
           {
            "colorbar": {
             "outlinewidth": 1,
             "tickcolor": "rgb(36,36,36)",
             "ticks": "outside"
            },
            "colorscale": [
             [
              0,
              "#440154"
             ],
             [
              0.1111111111111111,
              "#482878"
             ],
             [
              0.2222222222222222,
              "#3e4989"
             ],
             [
              0.3333333333333333,
              "#31688e"
             ],
             [
              0.4444444444444444,
              "#26828e"
             ],
             [
              0.5555555555555556,
              "#1f9e89"
             ],
             [
              0.6666666666666666,
              "#35b779"
             ],
             [
              0.7777777777777778,
              "#6ece58"
             ],
             [
              0.8888888888888888,
              "#b5de2b"
             ],
             [
              1,
              "#fde725"
             ]
            ],
            "type": "histogram2d"
           }
          ],
          "histogram2dcontour": [
           {
            "colorbar": {
             "outlinewidth": 1,
             "tickcolor": "rgb(36,36,36)",
             "ticks": "outside"
            },
            "colorscale": [
             [
              0,
              "#440154"
             ],
             [
              0.1111111111111111,
              "#482878"
             ],
             [
              0.2222222222222222,
              "#3e4989"
             ],
             [
              0.3333333333333333,
              "#31688e"
             ],
             [
              0.4444444444444444,
              "#26828e"
             ],
             [
              0.5555555555555556,
              "#1f9e89"
             ],
             [
              0.6666666666666666,
              "#35b779"
             ],
             [
              0.7777777777777778,
              "#6ece58"
             ],
             [
              0.8888888888888888,
              "#b5de2b"
             ],
             [
              1,
              "#fde725"
             ]
            ],
            "type": "histogram2dcontour"
           }
          ],
          "mesh3d": [
           {
            "colorbar": {
             "outlinewidth": 1,
             "tickcolor": "rgb(36,36,36)",
             "ticks": "outside"
            },
            "type": "mesh3d"
           }
          ],
          "parcoords": [
           {
            "line": {
             "colorbar": {
              "outlinewidth": 1,
              "tickcolor": "rgb(36,36,36)",
              "ticks": "outside"
             }
            },
            "type": "parcoords"
           }
          ],
          "pie": [
           {
            "automargin": true,
            "type": "pie"
           }
          ],
          "scatter": [
           {
            "fillpattern": {
             "fillmode": "overlay",
             "size": 10,
             "solidity": 0.2
            },
            "type": "scatter"
           }
          ],
          "scatter3d": [
           {
            "line": {
             "colorbar": {
              "outlinewidth": 1,
              "tickcolor": "rgb(36,36,36)",
              "ticks": "outside"
             }
            },
            "marker": {
             "colorbar": {
              "outlinewidth": 1,
              "tickcolor": "rgb(36,36,36)",
              "ticks": "outside"
             }
            },
            "type": "scatter3d"
           }
          ],
          "scattercarpet": [
           {
            "marker": {
             "colorbar": {
              "outlinewidth": 1,
              "tickcolor": "rgb(36,36,36)",
              "ticks": "outside"
             }
            },
            "type": "scattercarpet"
           }
          ],
          "scattergeo": [
           {
            "marker": {
             "colorbar": {
              "outlinewidth": 1,
              "tickcolor": "rgb(36,36,36)",
              "ticks": "outside"
             }
            },
            "type": "scattergeo"
           }
          ],
          "scattergl": [
           {
            "marker": {
             "colorbar": {
              "outlinewidth": 1,
              "tickcolor": "rgb(36,36,36)",
              "ticks": "outside"
             }
            },
            "type": "scattergl"
           }
          ],
          "scattermapbox": [
           {
            "marker": {
             "colorbar": {
              "outlinewidth": 1,
              "tickcolor": "rgb(36,36,36)",
              "ticks": "outside"
             }
            },
            "type": "scattermapbox"
           }
          ],
          "scatterpolar": [
           {
            "marker": {
             "colorbar": {
              "outlinewidth": 1,
              "tickcolor": "rgb(36,36,36)",
              "ticks": "outside"
             }
            },
            "type": "scatterpolar"
           }
          ],
          "scatterpolargl": [
           {
            "marker": {
             "colorbar": {
              "outlinewidth": 1,
              "tickcolor": "rgb(36,36,36)",
              "ticks": "outside"
             }
            },
            "type": "scatterpolargl"
           }
          ],
          "scatterternary": [
           {
            "marker": {
             "colorbar": {
              "outlinewidth": 1,
              "tickcolor": "rgb(36,36,36)",
              "ticks": "outside"
             }
            },
            "type": "scatterternary"
           }
          ],
          "surface": [
           {
            "colorbar": {
             "outlinewidth": 1,
             "tickcolor": "rgb(36,36,36)",
             "ticks": "outside"
            },
            "colorscale": [
             [
              0,
              "#440154"
             ],
             [
              0.1111111111111111,
              "#482878"
             ],
             [
              0.2222222222222222,
              "#3e4989"
             ],
             [
              0.3333333333333333,
              "#31688e"
             ],
             [
              0.4444444444444444,
              "#26828e"
             ],
             [
              0.5555555555555556,
              "#1f9e89"
             ],
             [
              0.6666666666666666,
              "#35b779"
             ],
             [
              0.7777777777777778,
              "#6ece58"
             ],
             [
              0.8888888888888888,
              "#b5de2b"
             ],
             [
              1,
              "#fde725"
             ]
            ],
            "type": "surface"
           }
          ],
          "table": [
           {
            "cells": {
             "fill": {
              "color": "rgb(237,237,237)"
             },
             "line": {
              "color": "white"
             }
            },
            "header": {
             "fill": {
              "color": "rgb(217,217,217)"
             },
             "line": {
              "color": "white"
             }
            },
            "type": "table"
           }
          ]
         },
         "layout": {
          "annotationdefaults": {
           "arrowhead": 0,
           "arrowwidth": 1
          },
          "autotypenumbers": "strict",
          "coloraxis": {
           "colorbar": {
            "outlinewidth": 1,
            "tickcolor": "rgb(36,36,36)",
            "ticks": "outside"
           }
          },
          "colorscale": {
           "diverging": [
            [
             0,
             "rgb(103,0,31)"
            ],
            [
             0.1,
             "rgb(178,24,43)"
            ],
            [
             0.2,
             "rgb(214,96,77)"
            ],
            [
             0.3,
             "rgb(244,165,130)"
            ],
            [
             0.4,
             "rgb(253,219,199)"
            ],
            [
             0.5,
             "rgb(247,247,247)"
            ],
            [
             0.6,
             "rgb(209,229,240)"
            ],
            [
             0.7,
             "rgb(146,197,222)"
            ],
            [
             0.8,
             "rgb(67,147,195)"
            ],
            [
             0.9,
             "rgb(33,102,172)"
            ],
            [
             1,
             "rgb(5,48,97)"
            ]
           ],
           "sequential": [
            [
             0,
             "#440154"
            ],
            [
             0.1111111111111111,
             "#482878"
            ],
            [
             0.2222222222222222,
             "#3e4989"
            ],
            [
             0.3333333333333333,
             "#31688e"
            ],
            [
             0.4444444444444444,
             "#26828e"
            ],
            [
             0.5555555555555556,
             "#1f9e89"
            ],
            [
             0.6666666666666666,
             "#35b779"
            ],
            [
             0.7777777777777778,
             "#6ece58"
            ],
            [
             0.8888888888888888,
             "#b5de2b"
            ],
            [
             1,
             "#fde725"
            ]
           ],
           "sequentialminus": [
            [
             0,
             "#440154"
            ],
            [
             0.1111111111111111,
             "#482878"
            ],
            [
             0.2222222222222222,
             "#3e4989"
            ],
            [
             0.3333333333333333,
             "#31688e"
            ],
            [
             0.4444444444444444,
             "#26828e"
            ],
            [
             0.5555555555555556,
             "#1f9e89"
            ],
            [
             0.6666666666666666,
             "#35b779"
            ],
            [
             0.7777777777777778,
             "#6ece58"
            ],
            [
             0.8888888888888888,
             "#b5de2b"
            ],
            [
             1,
             "#fde725"
            ]
           ]
          },
          "colorway": [
           "#1F77B4",
           "#FF7F0E",
           "#2CA02C",
           "#D62728",
           "#9467BD",
           "#8C564B",
           "#E377C2",
           "#7F7F7F",
           "#BCBD22",
           "#17BECF"
          ],
          "font": {
           "color": "rgb(36,36,36)"
          },
          "geo": {
           "bgcolor": "white",
           "lakecolor": "white",
           "landcolor": "white",
           "showlakes": true,
           "showland": true,
           "subunitcolor": "white"
          },
          "hoverlabel": {
           "align": "left"
          },
          "hovermode": "closest",
          "mapbox": {
           "style": "light"
          },
          "paper_bgcolor": "white",
          "plot_bgcolor": "white",
          "polar": {
           "angularaxis": {
            "gridcolor": "rgb(232,232,232)",
            "linecolor": "rgb(36,36,36)",
            "showgrid": false,
            "showline": true,
            "ticks": "outside"
           },
           "bgcolor": "white",
           "radialaxis": {
            "gridcolor": "rgb(232,232,232)",
            "linecolor": "rgb(36,36,36)",
            "showgrid": false,
            "showline": true,
            "ticks": "outside"
           }
          },
          "scene": {
           "xaxis": {
            "backgroundcolor": "white",
            "gridcolor": "rgb(232,232,232)",
            "gridwidth": 2,
            "linecolor": "rgb(36,36,36)",
            "showbackground": true,
            "showgrid": false,
            "showline": true,
            "ticks": "outside",
            "zeroline": false,
            "zerolinecolor": "rgb(36,36,36)"
           },
           "yaxis": {
            "backgroundcolor": "white",
            "gridcolor": "rgb(232,232,232)",
            "gridwidth": 2,
            "linecolor": "rgb(36,36,36)",
            "showbackground": true,
            "showgrid": false,
            "showline": true,
            "ticks": "outside",
            "zeroline": false,
            "zerolinecolor": "rgb(36,36,36)"
           },
           "zaxis": {
            "backgroundcolor": "white",
            "gridcolor": "rgb(232,232,232)",
            "gridwidth": 2,
            "linecolor": "rgb(36,36,36)",
            "showbackground": true,
            "showgrid": false,
            "showline": true,
            "ticks": "outside",
            "zeroline": false,
            "zerolinecolor": "rgb(36,36,36)"
           }
          },
          "shapedefaults": {
           "fillcolor": "black",
           "line": {
            "width": 0
           },
           "opacity": 0.3
          },
          "ternary": {
           "aaxis": {
            "gridcolor": "rgb(232,232,232)",
            "linecolor": "rgb(36,36,36)",
            "showgrid": false,
            "showline": true,
            "ticks": "outside"
           },
           "baxis": {
            "gridcolor": "rgb(232,232,232)",
            "linecolor": "rgb(36,36,36)",
            "showgrid": false,
            "showline": true,
            "ticks": "outside"
           },
           "bgcolor": "white",
           "caxis": {
            "gridcolor": "rgb(232,232,232)",
            "linecolor": "rgb(36,36,36)",
            "showgrid": false,
            "showline": true,
            "ticks": "outside"
           }
          },
          "title": {
           "x": 0.05
          },
          "xaxis": {
           "automargin": true,
           "gridcolor": "rgb(232,232,232)",
           "linecolor": "rgb(36,36,36)",
           "showgrid": false,
           "showline": true,
           "ticks": "outside",
           "title": {
            "standoff": 15
           },
           "zeroline": false,
           "zerolinecolor": "rgb(36,36,36)"
          },
          "yaxis": {
           "automargin": true,
           "gridcolor": "rgb(232,232,232)",
           "linecolor": "rgb(36,36,36)",
           "showgrid": false,
           "showline": true,
           "ticks": "outside",
           "title": {
            "standoff": 15
           },
           "zeroline": false,
           "zerolinecolor": "rgb(36,36,36)"
          }
         }
        },
        "title": {
         "font": {
          "color": "Black",
          "size": 22
         },
         "text": "<b>Intertopic Distance Map</b>",
         "x": 0.5,
         "xanchor": "center",
         "y": 0.95,
         "yanchor": "top"
        },
        "width": 650,
        "xaxis": {
         "anchor": "y",
         "domain": [
          0,
          1
         ],
         "range": [
          -14.209537029266357,
          9.800175333023072
         ],
         "title": {
          "text": ""
         },
         "visible": false
        },
        "yaxis": {
         "anchor": "x",
         "domain": [
          0,
          1
         ],
         "range": [
          -5.856226086616516,
          24.463266468048097
         ],
         "title": {
          "text": ""
         },
         "visible": false
        }
       }
      }
     },
     "metadata": {},
     "output_type": "display_data"
    }
   ],
   "source": [
    "model.visualize_topics()"
   ]
  },
  {
   "cell_type": "markdown",
   "metadata": {},
   "source": [
    "Podemos relacionar tópicos con palabras en específico"
   ]
  },
  {
   "cell_type": "code",
   "execution_count": 17,
   "metadata": {},
   "outputs": [
    {
     "data": {
      "text/plain": [
       "[15, 21, 17, 13, 23]"
      ]
     },
     "execution_count": 17,
     "metadata": {},
     "output_type": "execute_result"
    }
   ],
   "source": [
    "target = 'integridad'\n",
    "\n",
    "topic_num = 5\n",
    "\n",
    "similar_topics, similarity = model.find_topics(target, top_n=topic_num)\n",
    "similar_topics"
   ]
  },
  {
   "cell_type": "code",
   "execution_count": 18,
   "metadata": {},
   "outputs": [
    {
     "data": {
      "text/plain": [
       "[0.5107682012327632,\n",
       " 0.4270844639994257,\n",
       " 0.32707688070107876,\n",
       " 0.3246548228205115,\n",
       " 0.3211775754349786]"
      ]
     },
     "execution_count": 18,
     "metadata": {},
     "output_type": "execute_result"
    }
   ],
   "source": [
    "similarity"
   ]
  },
  {
   "cell_type": "code",
   "execution_count": 19,
   "metadata": {},
   "outputs": [
    {
     "name": "stdout",
     "output_type": "stream",
     "text": [
      "Tópicos relevantes para concepto: integridad\n"
     ]
    },
    {
     "data": {
      "text/markdown": [
       "| Tópico | Probabilidad | Palabra 1 | Palabra 2 | Palabra 3 | Palabra 4 | Palabra 5 |\n",
       "| --- | --- | --- | --- | --- | --- | --- |\n",
       "| 15 | 0.5107682012327632 | mitad | lo | esos | alimeto | promedios |\n",
       "| 21 | 0.4270844639994257 | postura | mantengo | manteniendo | modifico | internet |\n",
       "| 17 | 0.32707688070107876 | minoría | grupo | mantengo | originario | postura |\n",
       "| 13 | 0.3246548228205115 | ambas | partes | acuerdo | llegar | dos |\n",
       "| 23 | 0.3211775754349786 | salvar | acordarse | diagüita | personas | vida |\n"
      ],
      "text/plain": [
       "<IPython.core.display.Markdown object>"
      ]
     },
     "metadata": {},
     "output_type": "display_data"
    }
   ],
   "source": [
    "from TM_utils import get_table_top_topics\n",
    "from utils.exploracion import print_table_md\n",
    "\n",
    "print(\"Tópicos relevantes para concepto: {}\".format(target))\n",
    "\n",
    "headers, data = get_table_top_topics(model,similar_topics,similarity,max_w=5)\n",
    "print_table_md(headers, data)"
   ]
  },
  {
   "cell_type": "markdown",
   "metadata": {},
   "source": [
    "Distribución de tópicos en test set"
   ]
  },
  {
   "cell_type": "code",
   "execution_count": 20,
   "metadata": {},
   "outputs": [
    {
     "data": {
      "image/png": "[encoded data removed]",
      "text/plain": [
       "<Figure size 640x480 with 1 Axes>"
      ]
     },
     "metadata": {},
     "output_type": "display_data"
    }
   ],
   "source": [
    "from TM_utils import plot_frecuencies, get_top_k_topics, get_table_top_topics\n",
    "from utils.exploracion import print_table_md\n",
    "from utils.preprocesamiento import StemmerTokenizer\n",
    "\n",
    "tokenizador = StemmerTokenizer(stem=False,rmv_punctuation=True)\n",
    "\n",
    "output_test = model.transform(df_to_list(df_test,'comment',tokenizador))\n",
    "\n",
    "plot_frecuencies(output_test[0],label='test set')"
   ]
  },
  {
   "cell_type": "code",
   "execution_count": 21,
   "metadata": {},
   "outputs": [
    {
     "name": "stdout",
     "output_type": "stream",
     "text": [
      "Tópicos relevantes en test set\n"
     ]
    },
    {
     "data": {
      "text/markdown": [
       "| Tópico | Probabilidad | Palabra 1 | Palabra 2 | Palabra 3 | Palabra 4 | Palabra 5 |\n",
       "| --- | --- | --- | --- | --- | --- | --- |\n",
       "| -1 | 0.39655172413793105 | tradiciones | alimento | pueblo | si | importante |\n",
       "| 0 | 0.1206896551724138 | vitamina | déficit | vitamínico | alimento | tradiciones |\n",
       "| 1 | 0.11724137931034483 | fruta | fruto | pueblo | si | puede |\n",
       "| 2 | 0.08275862068965517 | adela | debería | priorizar | alimento | pueblo |\n",
       "| 3 | 0.05517241379310345 | salud | personas | tradiciones | importante | población |\n"
      ],
      "text/plain": [
       "<IPython.core.display.Markdown object>"
      ]
     },
     "metadata": {},
     "output_type": "display_data"
    }
   ],
   "source": [
    "top_5_keys, top_5_values = get_top_k_topics(output_test[0],k=5)\n",
    "print(\"Tópicos relevantes en test set\")\n",
    "\n",
    "headers, data = get_table_top_topics(model,top_5_keys,top_5_values,max_w=5)\n",
    "print_table_md(headers, data)"
   ]
  },
  {
   "cell_type": "code",
   "execution_count": 22,
   "metadata": {},
   "outputs": [
    {
     "name": "stdout",
     "output_type": "stream",
     "text": [
      "Samples for topic  -1\n",
      "Certainty: 0.042991070485915606 Text: por el bien común, la comunidad diaguita deberia comprender el beneficio que el proceso generaría para tanta población afectada de niñ@s y ancian@s. Igualmente creo que se podría llegar a un acuerdo donde el impacto cultural de la tradición diaguita sea compensado de alguna forma\n",
      "Certainty: 0.005707200899375408 Text: En este caso si es una solución para un problema que tiene la gran parte de chile como el déficit de vitamina d , y se tiene una solución se debería llevar a cabo para arreglar un problema de salud que ayude a varios que lo necesitan\n",
      "Certainty: 0.0008258889269059982 Text: Las tradiciones se respetan, pero en este caso se juega con la salud de las personas, por lo que pienso que se debe priorizar la producción del alimento vitaminico\n",
      "Certainty: 3.072848580005748e-11 Text: Si bien el proyecto en ayuda de la ancianos y niños en el sur es clave para solucionar esa problemática, lo que significa ir en contra de las tradiciones de un pueblo originario que vive ahí es mucho más grave. Además, existen muchas más frutas (mucho más plantadas) que otorgan la vitamina d.\n",
      "Certainty: 1.374754088222777e-05 Text: Entiendo por un lado la elección del grupo de elegir el número 3. En este caso, es mejor producir el alimento contra el déficit vitamínico antes que preservar las tradiciones del pueblo originario, ya que este alimento podría salvar muchas vidas. Sin embargo, personalmente encuentro que se debe tomar en cuenta que la producción de esta fruta conlleva el consumo de mucha agua, y quizás las tradiciones del pueblo surge debido al impacto que tiene el cultivo de esta fruta en el agua. Entonces, cambio mi respuesta a 4 en vez de 5.\n",
      "\n",
      "\n",
      "Samples for topic  0\n",
      "Certainty: 0.06092781491447763 Text: Las tradiciones identitarias del pueblo originario no son excusa para denegar la fabricación de alimento. Los niños y adultos, sobretodo los niños, han de recibir buena fuente de vitamina. Las tradiciones no son excusa para rechazaron el proyecto de el alimento.\n",
      "Certainty: 0.9750000243871283 Text: Sigo considerando que es mas importante combatir el deficit vitaminico, pero quizas ahora me di cuenta de que es un problema a considerar y que es importante percatarce de que hay gente que si le molesta esto\n",
      "Certainty: 0.15476915427230764 Text: porque estos recursos pueden ser sintetizados artificialmente, es importante resguardar las tradiciones de los pueblos originarios, no somos quien para desprestigiar estos solo por solucionar un deficit de vitaminas del cual existe solucion solo que un poco mas cara, pienso que no lo vale solo porque los niños no salen a la calle\n",
      "Certainty: 0.47190480709185983 Text: Es mas importante el déficit vitamínico de las personas que las tradiciones.\n",
      "Certainty: 0.6628245307148454 Text: Considero muy importante la salud de la poblacion y por lo tanto producir el alimento contra el deficit vitaminico . Sin embargo es importante mantener las tradiciones y respetar a los grupos que se ven afectados. Por lo tanto, hay que encontrar un conseso.\n",
      "\n",
      "\n",
      "Samples for topic  1\n",
      "Certainty: 0.9999847948079049 Text: Producir el alimento contra el déficit, pero sin quitar las tradiciones, es decir, cultivar esta fruta sagrada con el único objetivo de ser para el nuevo alimento, sería como pedir las semillas de esta fruta sagrada y cultivarla/reproducirla para obtener más de este tipo de fruta y con ellas crear el alimento contra el déficit.\n",
      "Certainty: 0.7047750903520675 Text: Se debe priorizar respetar a la gente del pueblo, pero insistir en la cantidad de gente que se beneficiaria con  la fruta para llegar a otro acuerdo que beneficie a más bandos en el problema.\n",
      "Certainty: 0.5507879783384984 Text: Mantengo mi postura, ya que de todas formas es lo mismo que decía el enunciado. Mantener la salud de las personas es prioridad, manteniendo el respeto por las tradiciones lo más que se pueda. Vale decir, priorizar el alimento y no usar innecesariamente la fruta, sólo lo requerido.\n",
      "Certainty: 0.6909853663561112 Text: Cambio mi postura a un 6 ya que es importante resguardar las tradiciones identitarias de las comunidades porque les da una identidad que no tiene que ser pasada a llevar. Además el problema que se presentaba con esta comunidad es la del riego y cultivo de la fruta, respecto a eso se puede llegar a un consenso para que no se pase a llevar esto\n",
      "Certainty: 0.9999449452338148 Text: Debería haber un equilibrio entre ambos, priorizando a los pueblos ya que son ellos los que se han encargado de cultivar y preservar el fruto\n",
      "\n",
      "\n",
      "Samples for topic  2\n",
      "Certainty: 0.9858045665692416 Text: Considero que Adela debería priorizar el déficit vitaminico porque de esto depende la salud de muchas personas y en especial de niños que son las próximas generaciones que por lo tanto, deben mantenerse sanas para proteger el futuro de nuestro país\n",
      "Certainty: 0.894847064195223 Text: Es sumamente importante escuchar a los pueblos originarios, pues ellos han vivido en esta tierra más tiempo que los demás, sin embargo, si hay algo que pueda generar un aporte a la sociedad se debería hacer, llegando a un consenso con los pueblos. En el caso de Adela, se podría utilizar la fruta pero con la certeza de que se utilizará de forma sustentable y sin utilizar todo el recurso.\n",
      "Certainty: 0.36899680829574605 Text: Como grupo, llegamos al conseso de que Adela debería priorizar resguardar las tradiciones identitarias de los pueblos indígenas. Puesto que, si bien tiene beneficios producir alimentos contra el déficit de la vitamina D, se debe resguardar y respetar la identidad cultural y las visiones distintas de cada grupo humano. Debido a esto, se debería buscar nuevos métodos de cultivo con los cuáles los diaguitas se sientan cómodas, con los cuáles se pueda producir este alimento y los pueblos originarios estén felices al mismo tiempo.\n",
      "Certainty: 0.9424268221582045 Text: Adela deberia mantenerse relativamente neutral entre ambas opciones, pero priorizando la producción del alimento contra el déficit vitamínico. El uso del fruto en las comunidades diaguitas puede ser ciertamente bastante importante y parte de su identidad cultural, pero mediante un uso responsable por parte del proyecto no deberían tener mayores problemas. Además negarle una solución a tantas personas por unas visiones religiosas que no todos comparten es bastante drástico.\n",
      "Certainty: 0.1604267749773769 Text: Resguardar las tradiciones identitarias, pero intentar a partir del diálogo llevar a un consenso que sea no invasivo para la comunidad diaguita. Mi valoración cambió muy levemente pues un argumento de otro compañero dice que el recurso natural no debe ser un bien privado, pero a mi parecer, si tal recurso tiene un transfondo cultural se debe tratar con mucho respeto. Adela tiene que reconocer la labor de los diaguitas en la subsistencia de la fruta y respetar su opinión, pues si no fuera por los cuidados dados generación tras generación, esa fruta probablemente no existiría hoy en día (debido a que se encuentra en un área muy seca y requiere de mucha agua).\n",
      "\n",
      "\n",
      "Samples for topic  3\n",
      "Certainty: 0.9999999987458583 Text: La salud de las personas me sigue pareciendo lo más importante, estuve de acuerdo con mi compañero en mayor parte así que ni mis argumentos o valoración cambiaron, sigo creyendo que puede haber mayor dialogo entre las partes\n",
      "Certainty: 0.5772148896621966 Text: Una tradición no tiene el peso suficiente en comparación con la salud\n",
      "Certainty: 0.9999999989669965 Text: Se debe priorizar el bienestar y la salud de una gran parte de la población por sobre las tradiciones identitarias\n",
      "Certainty: 0.9993538724182524 Text: Mi opinion no cambio ya que 3/4 personas eligieron la misma opcion, y los argumentos compartidos me sirvieron para asentar aun mas mi decision, sigo creyendo que por resguardar estas tradiciones no se puede poner en peligro la salud de la poblacion\n",
      "Certainty: 0.835027672293398 Text: Opino que ambas posturas son razonables, sin embargo mi postura es que prima la salud de las personas y animales por sobre la identidad y las tradicciones. Si no fuese así estaría de acuerdo con la tortura de toros y caballos a favor de la diversión de los expectadores gracias a las tradiciones\n",
      "\n",
      "\n"
     ]
    }
   ],
   "source": [
    "from TM_utils import get_k_random_samples_from_topic\n",
    "\n",
    "for topic in top_5_keys:\n",
    "    df_samples, certainties = get_k_random_samples_from_topic(df_test,output_test,topic)\n",
    "\n",
    "    print(\"Samples for topic \", topic)\n",
    "    for i in range(len(df_samples)):\n",
    "        print(\"Certainty:\",certainties[i],\"Text:\", df_samples.iloc[i]['comment'])\n",
    "    print('\\n')"
   ]
  },
  {
   "cell_type": "markdown",
   "metadata": {},
   "source": [
    "### Analizando correlaciones con selección de postura\n",
    "\n",
    "Por el momento binarizando la postura"
   ]
  },
  {
   "cell_type": "code",
   "execution_count": 23,
   "metadata": {},
   "outputs": [],
   "source": [
    "df_test.loc[(df_test['sel']==2) | (df_test['sel']==3),'sel'] = 1\n",
    "df_test.loc[(df_test['sel']==4) | (df_test['sel']==5),'sel'] = 6"
   ]
  },
  {
   "cell_type": "code",
   "execution_count": 24,
   "metadata": {},
   "outputs": [],
   "source": [
    "output_sel1 = model.transform(df_to_list(df_test[df_test['sel']==1],'comment',tokenizador))"
   ]
  },
  {
   "cell_type": "code",
   "execution_count": 25,
   "metadata": {},
   "outputs": [],
   "source": [
    "output_sel6 = model.transform(df_to_list(df_test[df_test['sel']==6],'comment',tokenizador))"
   ]
  },
  {
   "cell_type": "code",
   "execution_count": 26,
   "metadata": {},
   "outputs": [
    {
     "data": {
      "image/png": "[encoded data removed]",
      "text/plain": [
       "<Figure size 640x480 with 1 Axes>"
      ]
     },
     "metadata": {},
     "output_type": "display_data"
    }
   ],
   "source": [
    "import matplotlib.pyplot as plt\n",
    "\n",
    "def plot_frecuencies(input_list,label):\n",
    "    frequency_dict = {}\n",
    "    for element in input_list:\n",
    "        if element in frequency_dict:\n",
    "            frequency_dict[element] += 1\n",
    "        else:\n",
    "            frequency_dict[element] = 1\n",
    "    counts = frequency_dict\n",
    "\n",
    "    # Switching to the OO-interface. You can do all of this with \"plt\" as well.\n",
    "    fig, ax = plt.subplots()\n",
    "\n",
    "    keys = counts.keys()\n",
    "    values = counts.values()\n",
    "\n",
    "    plt.bar(keys, values)\n",
    "\n",
    "    custom_ticks = list(range(-1,max(input_list)))\n",
    "    plt.xticks(custom_ticks)\n",
    "\n",
    "    plt.xlabel('Tópicos')\n",
    "    plt.ylabel('Frecuencia')\n",
    "    plt.title('Tópicos postura: {}'.format(label))\n",
    "\n",
    "    plt.show()\n",
    "\n",
    "plot_frecuencies(output_sel1[0],label=op_left)"
   ]
  },
  {
   "cell_type": "code",
   "execution_count": 27,
   "metadata": {},
   "outputs": [
    {
     "name": "stdout",
     "output_type": "stream",
     "text": [
      "Tópicos relevantes para postura: Producir el alimento\n"
     ]
    },
    {
     "data": {
      "text/markdown": [
       "| Tópico | Probabilidad | Palabra 1 | Palabra 2 | Palabra 3 | Palabra 4 | Palabra 5 |\n",
       "| --- | --- | --- | --- | --- | --- | --- |\n",
       "| -1 | 0.3489583333333333 | tradiciones | alimento | pueblo | si | importante |\n",
       "| 0 | 0.140625 | vitamina | déficit | vitamínico | alimento | tradiciones |\n",
       "| 2 | 0.09375 | adela | debería | priorizar | alimento | pueblo |\n",
       "| 1 | 0.09375 | fruta | fruto | pueblo | si | puede |\n",
       "| 3 | 0.08333333333333333 | salud | personas | tradiciones | importante | población |\n"
      ],
      "text/plain": [
       "<IPython.core.display.Markdown object>"
      ]
     },
     "metadata": {},
     "output_type": "display_data"
    }
   ],
   "source": [
    "def get_top_k_topics(input_list,k=5):\n",
    "\n",
    "    frequency_dict = {}\n",
    "    for element in input_list:\n",
    "        if element in frequency_dict:\n",
    "            frequency_dict[element] += 1\n",
    "        else:\n",
    "            frequency_dict[element] = 1\n",
    "\n",
    "    # Sort the dictionary items by their values in descending order\n",
    "    sorted_items = sorted(frequency_dict.items(), key=lambda x: x[1], reverse=True)\n",
    "\n",
    "    # Get the top 5 keys with the largest values\n",
    "    top_k_keys = [item[0] for item in sorted_items[:k]]\n",
    "    top_k_values = [item[1] for item in sorted_items[:k]]\n",
    "\n",
    "    top_k_values = [elem/len(input_list) for elem in top_k_values]\n",
    "\n",
    "    return top_k_keys, top_k_values\n",
    "\n",
    "top_5_keys, top_5_values = get_top_k_topics(output_sel1[0])\n",
    "\n",
    "print(\"Tópicos relevantes para postura: {}\".format(op_left))\n",
    "\n",
    "headers, data = get_table_top_topics(model,top_5_keys,top_5_values,max_w=5)\n",
    "print_table_md(headers, data)"
   ]
  },
  {
   "cell_type": "code",
   "execution_count": 28,
   "metadata": {},
   "outputs": [
    {
     "data": {
      "image/png": "[encoded data removed]",
      "text/plain": [
       "<Figure size 640x480 with 1 Axes>"
      ]
     },
     "metadata": {},
     "output_type": "display_data"
    }
   ],
   "source": [
    "plot_frecuencies(output_sel6[0],label=op_right)"
   ]
  },
  {
   "cell_type": "code",
   "execution_count": 29,
   "metadata": {},
   "outputs": [
    {
     "name": "stdout",
     "output_type": "stream",
     "text": [
      "Tópicos relevantes para postura: Resguardar tradiciones\n"
     ]
    },
    {
     "data": {
      "text/markdown": [
       "| Tópico | Probabilidad | Palabra 1 | Palabra 2 | Palabra 3 | Palabra 4 | Palabra 5 |\n",
       "| --- | --- | --- | --- | --- | --- | --- |\n",
       "| -1 | 0.40816326530612246 | tradiciones | alimento | pueblo | si | importante |\n",
       "| 1 | 0.16326530612244897 | fruta | fruto | pueblo | si | puede |\n",
       "| 0 | 0.14285714285714285 | vitamina | déficit | vitamínico | alimento | tradiciones |\n",
       "| 2 | 0.061224489795918366 | adela | debería | priorizar | alimento | pueblo |\n",
       "| 5 | 0.04081632653061224 | agua | escasez | hídrica | tradiciones | producción |\n"
      ],
      "text/plain": [
       "<IPython.core.display.Markdown object>"
      ]
     },
     "metadata": {},
     "output_type": "display_data"
    }
   ],
   "source": [
    "top_5_keys, top_5_values = get_top_k_topics(output_sel6[0])\n",
    "\n",
    "print(\"Tópicos relevantes para postura: {}\".format(op_right))\n",
    "\n",
    "headers, data = get_table_top_topics(model,top_5_keys,top_5_values,max_w=5)\n",
    "print_table_md(headers, data)"
   ]
  },
  {
   "cell_type": "markdown",
   "metadata": {},
   "source": [
    "### Correlaciones"
   ]
  },
  {
   "cell_type": "code",
   "execution_count": 30,
   "metadata": {},
   "outputs": [
    {
     "data": {
      "text/plain": [
       "sel\n",
       "3    87\n",
       "2    74\n",
       "4    51\n",
       "5    35\n",
       "1    31\n",
       "6    12\n",
       "Name: count, dtype: int64"
      ]
     },
     "execution_count": 30,
     "metadata": {},
     "output_type": "execute_result"
    }
   ],
   "source": [
    "df_test = df.iloc[test_indices]\n",
    "df_test['sel'].value_counts()"
   ]
  },
  {
   "cell_type": "code",
   "execution_count": 31,
   "metadata": {},
   "outputs": [],
   "source": [
    "import pandas as pd\n",
    "\n",
    "arr_test = model.transform(df_to_list(df_test,'comment',tokenizador))[1]\n",
    "df_topics = pd.DataFrame(arr_test, columns=['Topic{}'.format(i+1) for i in range(24)])\n",
    "\n",
    "df_topics['sel'] = df_test['sel'].values"
   ]
  },
  {
   "cell_type": "code",
   "execution_count": 32,
   "metadata": {},
   "outputs": [
    {
     "name": "stdout",
     "output_type": "stream",
     "text": [
      "Feature-Target Correlations\n",
      "Topic1_sel: -0.02147101426810395\n",
      "Topic2_sel: 0.10525824452447627\n",
      "Topic3_sel: -0.026665205833900318\n",
      "Topic4_sel: -0.12813319030369694\n",
      "Topic5_sel: -0.0772629542006842\n",
      "Topic6_sel: 0.06067187038470812\n",
      "Topic7_sel: -0.2038410026765787\n",
      "Topic8_sel: -0.020657809416492444\n",
      "Topic9_sel: 0.12011769770163479\n",
      "Topic10_sel: -0.0046517697387105095\n",
      "Topic11_sel: -0.020089582513511083\n",
      "Topic12_sel: -0.03735243998640856\n",
      "Topic13_sel: 0.08155779923140968\n",
      "Topic14_sel: 0.020197846762651468\n",
      "Topic15_sel: 0.0212504223163427\n",
      "Topic16_sel: -0.04503666686875467\n",
      "Topic17_sel: 0.026494605020155697\n",
      "Topic18_sel: 0.001228035814890084\n",
      "Topic19_sel: 0.03461437344950799\n",
      "Topic20_sel: -0.051365775502984795\n",
      "Topic21_sel: -0.04688767998865991\n",
      "Topic22_sel: 0.017241924602713458\n",
      "Topic23_sel: -0.044134511942501675\n",
      "Topic24_sel: 0.09609055901517766\n"
     ]
    }
   ],
   "source": [
    "from scipy.stats import pearsonr\n",
    "\n",
    "# Only compute pearson prod-moment correlations between feature\n",
    "# columns and target column\n",
    "target_col_name = 'sel'\n",
    "feature_target_corr = {}\n",
    "for col in df_topics:\n",
    "    if target_col_name != col:\n",
    "        feature_target_corr[col + '_' + target_col_name] = \\\n",
    "            pearsonr(df_topics[col], df_topics[target_col_name])[0]\n",
    "print(\"Feature-Target Correlations\")\n",
    "\n",
    "for k in feature_target_corr.keys():\n",
    "    print(k+': '+str(feature_target_corr[k]))"
   ]
  },
  {
   "cell_type": "markdown",
   "metadata": {},
   "source": [
    "Guardando el modelo"
   ]
  },
  {
   "cell_type": "code",
   "execution_count": 33,
   "metadata": {},
   "outputs": [],
   "source": [
    "model.save(\"modelos/BT-{}.bertopic\".format(caso))"
   ]
  },
  {
   "cell_type": "markdown",
   "metadata": {},
   "source": [
    "Para cargar:\n",
    "\n",
    "`my_model = BERTopic.load(\"modelos/BT-caso\")`"
   ]
  }
 ],
 "metadata": {
  "kernelspec": {
   "display_name": "ethics_env",
   "language": "python",
   "name": "ethics_env"
  },
  "language_info": {
   "codemirror_mode": {
    "name": "ipython",
    "version": 3
   },
   "file_extension": ".py",
   "mimetype": "text/x-python",
   "name": "python",
   "nbconvert_exporter": "python",
   "pygments_lexer": "ipython3",
   "version": "3.9.15"
  },
  "orig_nbformat": 4
 },
 "nbformat": 4,
 "nbformat_minor": 2
}
