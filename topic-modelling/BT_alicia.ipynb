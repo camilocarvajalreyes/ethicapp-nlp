{
 "cells": [
  {
   "cell_type": "markdown",
   "metadata": {},
   "source": [
    "# BERTopic"
   ]
  },
  {
   "cell_type": "code",
   "execution_count": 1,
   "metadata": {},
   "outputs": [],
   "source": [
    "import sys\n",
    "sys.path.insert(0, '..')\n",
    "from utils.preprocesamiento import df_to_list"
   ]
  },
  {
   "cell_type": "code",
   "execution_count": 2,
   "metadata": {},
   "outputs": [
    {
     "name": "stdout",
     "output_type": "stream",
     "text": [
      "80 rows found with non string elements for column comment (0.65%)\n",
      "Deleting 2326 columns for which max target value is over 7 (18.76%)\n",
      "9991 available rows after processing\n",
      "Partición train-test cargada\n"
     ]
    }
   ],
   "source": [
    "import pandas as pd\n",
    "from utils.cargar import df_caso\n",
    "from utils.preprocesamiento import process_df\n",
    "\n",
    "op_left, op_right = 'Priorizar criterios técnicos', 'Priorizar plazos'\n",
    "\n",
    "caso = 'alicia'\n",
    "df = df_caso(caso)\n",
    "\n",
    "df = process_df(df,'comment','sel',verbose=True)\n",
    "\n",
    "train_indices = pd.read_csv('../utils/splits/train_indices_{}.csv'.format(caso), header=None)[0].tolist()\n",
    "test_indices = pd.read_csv('../utils/splits/test_indices_{}.csv'.format(caso), header=None)[0].tolist()\n",
    "print(\"Partición train-test cargada\")\n",
    "\n",
    "df_train = df.iloc[train_indices]\n",
    "df_test = df.iloc[test_indices]"
   ]
  },
  {
   "cell_type": "markdown",
   "metadata": {},
   "source": [
    "Guardando la partición train-test"
   ]
  },
  {
   "cell_type": "code",
   "execution_count": 3,
   "metadata": {},
   "outputs": [],
   "source": [
    "from utils.preprocesamiento import StemmerTokenizer\n",
    "\n",
    "tokenizador = StemmerTokenizer(stem=False,rmv_punctuation=True)\n",
    "\n",
    "docs_train = df_to_list(df_train,'comment',tokenizador)\n",
    "docs_test = df_to_list(df_test, 'comment',tokenizador)"
   ]
  },
  {
   "cell_type": "markdown",
   "metadata": {},
   "source": [
    "## BERTopic algorithm"
   ]
  },
  {
   "cell_type": "code",
   "execution_count": 4,
   "metadata": {},
   "outputs": [
    {
     "data": {
      "text/html": [
       "<img src=\"https://maartengr.github.io/BERTopic/algorithm/modularity.svg\"/>"
      ],
      "text/plain": [
       "<IPython.core.display.Image object>"
      ]
     },
     "metadata": {},
     "output_type": "display_data"
    }
   ],
   "source": [
    "from IPython.display import Image, display\n",
    "display(Image(url='https://maartengr.github.io/BERTopic/algorithm/modularity.svg'))"
   ]
  },
  {
   "cell_type": "code",
   "execution_count": 5,
   "metadata": {},
   "outputs": [],
   "source": [
    "%%capture\n",
    "from bertopic import BERTopic"
   ]
  },
  {
   "cell_type": "code",
   "execution_count": 6,
   "metadata": {},
   "outputs": [],
   "source": [
    "model = BERTopic(language=\"spanish\",min_topic_size=10,nr_topics=25,calculate_probabilities=True)"
   ]
  },
  {
   "cell_type": "code",
   "execution_count": 7,
   "metadata": {},
   "outputs": [
    {
     "name": "stdout",
     "output_type": "stream",
     "text": [
      "CPU times: user 1min 42s, sys: 3.48 s, total: 1min 46s\n",
      "Wall time: 42.9 s\n"
     ]
    }
   ],
   "source": [
    "%%time\n",
    "topics, probs = model.fit_transform(docs_train)"
   ]
  },
  {
   "cell_type": "code",
   "execution_count": 8,
   "metadata": {},
   "outputs": [
    {
     "data": {
      "text/html": [
       "<div>\n",
       "<style scoped>\n",
       "    .dataframe tbody tr th:only-of-type {\n",
       "        vertical-align: middle;\n",
       "    }\n",
       "\n",
       "    .dataframe tbody tr th {\n",
       "        vertical-align: top;\n",
       "    }\n",
       "\n",
       "    .dataframe thead th {\n",
       "        text-align: right;\n",
       "    }\n",
       "</style>\n",
       "<table border=\"1\" class=\"dataframe\">\n",
       "  <thead>\n",
       "    <tr style=\"text-align: right;\">\n",
       "      <th></th>\n",
       "      <th>Topic</th>\n",
       "      <th>Count</th>\n",
       "    </tr>\n",
       "  </thead>\n",
       "  <tbody>\n",
       "    <tr>\n",
       "      <th>2</th>\n",
       "      <td>-1</td>\n",
       "      <td>2619</td>\n",
       "    </tr>\n",
       "    <tr>\n",
       "      <th>1</th>\n",
       "      <td>0</td>\n",
       "      <td>2204</td>\n",
       "    </tr>\n",
       "    <tr>\n",
       "      <th>0</th>\n",
       "      <td>1</td>\n",
       "      <td>1619</td>\n",
       "    </tr>\n",
       "    <tr>\n",
       "      <th>11</th>\n",
       "      <td>2</td>\n",
       "      <td>527</td>\n",
       "    </tr>\n",
       "    <tr>\n",
       "      <th>10</th>\n",
       "      <td>3</td>\n",
       "      <td>360</td>\n",
       "    </tr>\n",
       "  </tbody>\n",
       "</table>\n",
       "</div>"
      ],
      "text/plain": [
       "    Topic  Count\n",
       "2      -1   2619\n",
       "1       0   2204\n",
       "0       1   1619\n",
       "11      2    527\n",
       "10      3    360"
      ]
     },
     "execution_count": 8,
     "metadata": {},
     "output_type": "execute_result"
    }
   ],
   "source": [
    "model.get_topic_freq().head(5)"
   ]
  },
  {
   "cell_type": "code",
   "execution_count": 9,
   "metadata": {},
   "outputs": [
    {
     "data": {
      "text/plain": [
       "[('alicia', 0.05611952956351237),\n",
       " ('proyecto', 0.02757794562857878),\n",
       " ('debería', 0.024787733646290326),\n",
       " ('debe', 0.021328654913866627),\n",
       " ('si', 0.01967600292216638),\n",
       " ('usuarios', 0.01846164771283158),\n",
       " ('priorizar', 0.017487576575556534),\n",
       " ('ser', 0.01662153142177055),\n",
       " ('cumplir', 0.01599434454836954),\n",
       " ('entregar', 0.015757024054962345)]"
      ]
     },
     "execution_count": 9,
     "metadata": {},
     "output_type": "execute_result"
    }
   ],
   "source": [
    "model.get_topic(0)[:10]"
   ]
  },
  {
   "cell_type": "markdown",
   "metadata": {},
   "source": [
    "Topicos para algunos documentos"
   ]
  },
  {
   "cell_type": "code",
   "execution_count": 10,
   "metadata": {},
   "outputs": [
    {
     "name": "stdout",
     "output_type": "stream",
     "text": [
      "Tópico 1:\ttexto: entrega producto defectuoso cumple ética ingeniero\n",
      "Tópico 1:\ttexto: Creo reputación manchada ser transparente sino contrario podría ser mejor solución\n",
      "Tópico 0:\ttexto: Alicia debería ser transparente dicho anteriormente ser transparente parte personalidad además puede justificar buena manera salir éxito\n",
      "Tópico 1:\ttexto: especificaciones técnicas deberían ser transparentes evitar problemas largo plazo\n",
      "Tópico -1:\ttexto: Si finalizó proyecto entregado falencias importante ser responsable riesgos pueda generar largo plazo pesar seguros impedirán funcionalidad si alguien va usar producto final debe consciente acabado pensó principio conozca contexto globalmente sepa cómo reaccionar caso próximos errores capaz discernir cuenta próximas mejorar producto necesita vista terminado criterios requerían principio A parte punto vista ocultar verdad consecuente valores trabajadora enseñó años formación profesional conscientes contingencia mundial importante ser responsable consecuente actos asumir consecuencias poder mejorar próximos trabajos\n",
      "Tópico 6:\ttexto: debido contigencia culpa debe hacer trabajo mas eficiente posible\n",
      "Tópico 0:\ttexto: Para problema pusimos lugar Alicia consideramos pidiendo demasiado contexto encuentran inclinamos condiciones contextuales\n",
      "Tópico 7:\ttexto: La calidad producto necesaria sustenta funcionamiento integridad empresa\n",
      "Tópico 9:\ttexto: En opinión alicia debería priorizar plazos manera podrá evadir sanciones igual manera entregar funcional\n",
      "Tópico -1:\ttexto: Debería satisfacer requerimientos técnicos proyecto puesto importante garantizar seguridad usuarios\n"
     ]
    }
   ],
   "source": [
    "for i, t in enumerate(model.topics_[:10]):\n",
    "    print('Tópico {}:\\ttexto: {}'.format(t,docs_train[i]))"
   ]
  },
  {
   "cell_type": "markdown",
   "metadata": {},
   "source": [
    "### Inferencia en conjunto test"
   ]
  },
  {
   "cell_type": "code",
   "execution_count": 11,
   "metadata": {},
   "outputs": [
    {
     "data": {
      "text/plain": [
       "([11],\n",
       " array([[7.69229170e-39, 6.44327631e-39, 4.57928368e-37, 2.25861022e-37,\n",
       "         1.77549951e-37, 8.23752945e-39, 1.62891500e-37, 9.41283565e-38,\n",
       "         3.61781712e-37, 1.30205389e-37, 1.27366840e-37, 9.77256288e-01,\n",
       "         1.48323155e-38, 8.30250348e-38, 4.32248383e-38, 5.30729359e-38,\n",
       "         1.56840880e-35, 6.33932852e-37, 5.67676136e-38, 9.59558582e-39,\n",
       "         5.78142768e-37, 2.17520189e-38, 8.15779565e-39, 1.95902972e-38]]))"
      ]
     },
     "execution_count": 11,
     "metadata": {},
     "output_type": "execute_result"
    }
   ],
   "source": [
    "string = 'Aun considero necesario resguardar mas tradiciones identitarias embargo producir alimento podría ayudar muchas personas entonces debería existir diálogo ambas partes llegar mejor solución'\n",
    "\n",
    "model.transform([string])"
   ]
  },
  {
   "cell_type": "code",
   "execution_count": 12,
   "metadata": {},
   "outputs": [],
   "source": [
    "output = model.transform(df_to_list(df_test.iloc[:3],'comment',tokenizador))"
   ]
  },
  {
   "cell_type": "markdown",
   "metadata": {},
   "source": [
    "Imprimiendo los embeddings"
   ]
  },
  {
   "cell_type": "code",
   "execution_count": 13,
   "metadata": {},
   "outputs": [
    {
     "data": {
      "text/plain": [
       "array([[0.00672482, 0.16383261, 0.06127071, 0.02005259, 0.03805146,\n",
       "        0.00496062, 0.01732934, 0.01127731, 0.04133247, 0.01719676,\n",
       "        0.01005304, 0.01015466, 0.09114773, 0.01863648, 0.00466238,\n",
       "        0.00584245, 0.00527474, 0.00489766, 0.00547197, 0.00467804,\n",
       "        0.0048228 , 0.00583755, 0.00713483, 0.00591226],\n",
       "       [0.00104119, 0.00096731, 0.04413027, 0.01281296, 0.01864438,\n",
       "        0.00092213, 0.01392894, 0.51644057, 0.03593289, 0.01387422,\n",
       "        0.00654977, 0.0059433 , 0.00230354, 0.01041493, 0.00225007,\n",
       "        0.0049964 , 0.00337494, 0.00266805, 0.00571192, 0.00127167,\n",
       "        0.00256826, 0.00346244, 0.00142867, 0.00293094],\n",
       "       [0.18087628, 0.01231951, 0.14339083, 0.04882821, 0.08423556,\n",
       "        0.0143059 , 0.03547332, 0.02286616, 0.09204843, 0.03661317,\n",
       "        0.02396394, 0.02317908, 0.02501759, 0.03660954, 0.01096961,\n",
       "        0.01216117, 0.0115873 , 0.01130964, 0.01144043, 0.01130801,\n",
       "        0.01126406, 0.01193805, 0.01221274, 0.0118379 ]])"
      ]
     },
     "execution_count": 13,
     "metadata": {},
     "output_type": "execute_result"
    }
   ],
   "source": [
    "output[1]"
   ]
  },
  {
   "cell_type": "code",
   "execution_count": 14,
   "metadata": {},
   "outputs": [
    {
     "data": {
      "text/plain": [
       "[1, 7, 0]"
      ]
     },
     "execution_count": 14,
     "metadata": {},
     "output_type": "execute_result"
    }
   ],
   "source": [
    "output[0]"
   ]
  },
  {
   "cell_type": "markdown",
   "metadata": {},
   "source": [
    "Visualización"
   ]
  },
  {
   "cell_type": "code",
   "execution_count": 15,
   "metadata": {},
   "outputs": [
    {
     "data": {
      "application/vnd.plotly.v1+json": {
       "config": {
        "plotlyServerURL": "https://plot.ly"
       },
       "data": [
        {
         "customdata": [
          [
           0,
           "alicia | proyecto | debería | debe | si",
           2204
          ],
          [
           1,
           "reputación | transparencia | ser | transparente | mantener",
           1619
          ],
          [
           2,
           "proyecto | plazos | entregar | importante | bien",
           527
          ],
          [
           3,
           "acuerdos | cumplir | condiciones | contexto | acuerdo",
           360
          ],
          [
           4,
           "usuario | usuarios | proyecto | necesidades | criterios",
           348
          ],
          [
           5,
           "pandemia | contexto | condiciones | acuerdos | proyecto",
           306
          ],
          [
           6,
           "trabajo | entregar | bien | hecho | mejor",
           261
          ],
          [
           7,
           "producto | calidad | entregar | importante | tiempo",
           235
          ],
          [
           8,
           "plazos | cumplir | plazo | criterios | importante",
           208
          ],
          [
           9,
           "multas | multa | pagar | entregar | proyecto",
           196
          ],
          [
           10,
           "contexto | condiciones | contextuales | proyecto | importante",
           186
          ],
          [
           11,
           "grupo | opinión | argumentos | compañeros | postura",
           107
          ],
          [
           12,
           "ética | éticos | ético | hecho | bien",
           70
          ],
          [
           13,
           "usuarios | producto | consecuencias | usuario | si",
           52
          ],
          [
           14,
           "idem | sorry | lo | alcance | mismo",
           43
          ],
          [
           15,
           "vida | riesgo | consecuencias | importantes | cosas",
           27
          ],
          [
           16,
           "ambas | cumplir | debe | ocurrio | responsabilidaded",
           21
          ],
          [
           17,
           "mantengo | opinión | anteriores | mencionado | anterior",
           21
          ],
          [
           18,
           "rápido | mejor | hecho | tarde | bien",
           20
          ],
          [
           19,
           "100 | tarea | funcional | pidieron | hecha",
           14
          ],
          [
           20,
           "mantengo | postura | fase | mejorada | posicion",
           14
          ],
          [
           21,
           "cliente | tomar | decisión | llegar | hablar",
           13
          ],
          [
           22,
           "presentarle | decirle | hablarlo | faltan | estría",
           11
          ],
          [
           23,
           "seguridad | estándares | va | inlcuyendo | ingeniería",
           10
          ]
         ],
         "hovertemplate": "<b>Topic %{customdata[0]}</b><br>%{customdata[1]}<br>Size: %{customdata[2]}",
         "legendgroup": "",
         "marker": {
          "color": "#B0BEC5",
          "line": {
           "color": "DarkSlateGrey",
           "width": 2
          },
          "size": [
           2204,
           1619,
           527,
           360,
           348,
           306,
           261,
           235,
           208,
           196,
           186,
           107,
           70,
           52,
           43,
           27,
           21,
           21,
           20,
           14,
           14,
           13,
           11,
           10
          ],
          "sizemode": "area",
          "sizeref": 1.3775,
          "symbol": "circle"
         },
         "mode": "markers",
         "name": "",
         "orientation": "v",
         "showlegend": false,
         "type": "scatter",
         "x": [
          17.220258712768555,
          2.17826771736145,
          15.739514350891113,
          16.25105094909668,
          3.4348232746124268,
          16.28292465209961,
          16.11501693725586,
          16.15886116027832,
          15.937074661254883,
          15.88199520111084,
          15.678983688354492,
          -1.1374105215072632,
          1.9536010026931763,
          2.5928308963775635,
          -0.899053156375885,
          2.8573668003082275,
          -1.4048941135406494,
          -1.0492615699768066,
          16.13935089111328,
          16.27468490600586,
          -0.643970787525177,
          2.7070024013519287,
          16.510618209838867,
          1.8492823839187622
         ],
         "xaxis": "x",
         "y": [
          16.0141658782959,
          7.691396713256836,
          17.366710662841797,
          16.585294723510742,
          7.265544891357422,
          17.139387130737305,
          12.86318302154541,
          13.631084442138672,
          13.359553337097168,
          17.083314895629883,
          16.847442626953125,
          23.484777450561523,
          7.939316272735596,
          7.304290771484375,
          23.246675491333008,
          7.516567230224609,
          23.75304412841797,
          23.39693832397461,
          12.65285587310791,
          15.810737609863281,
          22.99228286743164,
          6.979409217834473,
          17.24405860900879,
          7.503985404968262
         ],
         "yaxis": "y"
        }
       ],
       "layout": {
        "annotations": [
         {
          "showarrow": false,
          "text": "D1",
          "x": -1.6156282305717469,
          "y": 16.624249291419982,
          "yshift": 10
         },
         {
          "showarrow": false,
          "text": "D2",
          "x": 9.093834644556045,
          "xshift": 10,
          "y": 27.316000747680665
         }
        ],
        "height": 650,
        "hoverlabel": {
         "bgcolor": "white",
         "font": {
          "family": "Rockwell",
          "size": 16
         }
        },
        "legend": {
         "itemsizing": "constant",
         "tracegroupgap": 0
        },
        "margin": {
         "t": 60
        },
        "shapes": [
         {
          "line": {
           "color": "#CFD8DC",
           "width": 2
          },
          "type": "line",
          "x0": 9.093834644556045,
          "x1": 9.093834644556045,
          "y0": 5.932497835159301,
          "y1": 27.316000747680665
         },
         {
          "line": {
           "color": "#9E9E9E",
           "width": 2
          },
          "type": "line",
          "x0": -1.6156282305717469,
          "x1": 19.803297519683838,
          "y0": 16.624249291419982,
          "y1": 16.624249291419982
         }
        ],
        "sliders": [
         {
          "active": 0,
          "pad": {
           "t": 50
          },
          "steps": [
           {
            "args": [
             {
              "marker.color": [
               [
                "red",
                "#B0BEC5",
                "#B0BEC5",
                "#B0BEC5",
                "#B0BEC5",
                "#B0BEC5",
                "#B0BEC5",
                "#B0BEC5",
                "#B0BEC5",
                "#B0BEC5",
                "#B0BEC5",
                "#B0BEC5",
                "#B0BEC5",
                "#B0BEC5",
                "#B0BEC5",
                "#B0BEC5",
                "#B0BEC5",
                "#B0BEC5",
                "#B0BEC5",
                "#B0BEC5",
                "#B0BEC5",
                "#B0BEC5",
                "#B0BEC5",
                "#B0BEC5"
               ]
              ]
             }
            ],
            "label": "Topic 0",
            "method": "update"
           },
           {
            "args": [
             {
              "marker.color": [
               [
                "#B0BEC5",
                "red",
                "#B0BEC5",
                "#B0BEC5",
                "#B0BEC5",
                "#B0BEC5",
                "#B0BEC5",
                "#B0BEC5",
                "#B0BEC5",
                "#B0BEC5",
                "#B0BEC5",
                "#B0BEC5",
                "#B0BEC5",
                "#B0BEC5",
                "#B0BEC5",
                "#B0BEC5",
                "#B0BEC5",
                "#B0BEC5",
                "#B0BEC5",
                "#B0BEC5",
                "#B0BEC5",
                "#B0BEC5",
                "#B0BEC5",
                "#B0BEC5"
               ]
              ]
             }
            ],
            "label": "Topic 1",
            "method": "update"
           },
           {
            "args": [
             {
              "marker.color": [
               [
                "#B0BEC5",
                "#B0BEC5",
                "red",
                "#B0BEC5",
                "#B0BEC5",
                "#B0BEC5",
                "#B0BEC5",
                "#B0BEC5",
                "#B0BEC5",
                "#B0BEC5",
                "#B0BEC5",
                "#B0BEC5",
                "#B0BEC5",
                "#B0BEC5",
                "#B0BEC5",
                "#B0BEC5",
                "#B0BEC5",
                "#B0BEC5",
                "#B0BEC5",
                "#B0BEC5",
                "#B0BEC5",
                "#B0BEC5",
                "#B0BEC5",
                "#B0BEC5"
               ]
              ]
             }
            ],
            "label": "Topic 2",
            "method": "update"
           },
           {
            "args": [
             {
              "marker.color": [
               [
                "#B0BEC5",
                "#B0BEC5",
                "#B0BEC5",
                "red",
                "#B0BEC5",
                "#B0BEC5",
                "#B0BEC5",
                "#B0BEC5",
                "#B0BEC5",
                "#B0BEC5",
                "#B0BEC5",
                "#B0BEC5",
                "#B0BEC5",
                "#B0BEC5",
                "#B0BEC5",
                "#B0BEC5",
                "#B0BEC5",
                "#B0BEC5",
                "#B0BEC5",
                "#B0BEC5",
                "#B0BEC5",
                "#B0BEC5",
                "#B0BEC5",
                "#B0BEC5"
               ]
              ]
             }
            ],
            "label": "Topic 3",
            "method": "update"
           },
           {
            "args": [
             {
              "marker.color": [
               [
                "#B0BEC5",
                "#B0BEC5",
                "#B0BEC5",
                "#B0BEC5",
                "red",
                "#B0BEC5",
                "#B0BEC5",
                "#B0BEC5",
                "#B0BEC5",
                "#B0BEC5",
                "#B0BEC5",
                "#B0BEC5",
                "#B0BEC5",
                "#B0BEC5",
                "#B0BEC5",
                "#B0BEC5",
                "#B0BEC5",
                "#B0BEC5",
                "#B0BEC5",
                "#B0BEC5",
                "#B0BEC5",
                "#B0BEC5",
                "#B0BEC5",
                "#B0BEC5"
               ]
              ]
             }
            ],
            "label": "Topic 4",
            "method": "update"
           },
           {
            "args": [
             {
              "marker.color": [
               [
                "#B0BEC5",
                "#B0BEC5",
                "#B0BEC5",
                "#B0BEC5",
                "#B0BEC5",
                "red",
                "#B0BEC5",
                "#B0BEC5",
                "#B0BEC5",
                "#B0BEC5",
                "#B0BEC5",
                "#B0BEC5",
                "#B0BEC5",
                "#B0BEC5",
                "#B0BEC5",
                "#B0BEC5",
                "#B0BEC5",
                "#B0BEC5",
                "#B0BEC5",
                "#B0BEC5",
                "#B0BEC5",
                "#B0BEC5",
                "#B0BEC5",
                "#B0BEC5"
               ]
              ]
             }
            ],
            "label": "Topic 5",
            "method": "update"
           },
           {
            "args": [
             {
              "marker.color": [
               [
                "#B0BEC5",
                "#B0BEC5",
                "#B0BEC5",
                "#B0BEC5",
                "#B0BEC5",
                "#B0BEC5",
                "red",
                "#B0BEC5",
                "#B0BEC5",
                "#B0BEC5",
                "#B0BEC5",
                "#B0BEC5",
                "#B0BEC5",
                "#B0BEC5",
                "#B0BEC5",
                "#B0BEC5",
                "#B0BEC5",
                "#B0BEC5",
                "#B0BEC5",
                "#B0BEC5",
                "#B0BEC5",
                "#B0BEC5",
                "#B0BEC5",
                "#B0BEC5"
               ]
              ]
             }
            ],
            "label": "Topic 6",
            "method": "update"
           },
           {
            "args": [
             {
              "marker.color": [
               [
                "#B0BEC5",
                "#B0BEC5",
                "#B0BEC5",
                "#B0BEC5",
                "#B0BEC5",
                "#B0BEC5",
                "#B0BEC5",
                "red",
                "#B0BEC5",
                "#B0BEC5",
                "#B0BEC5",
                "#B0BEC5",
                "#B0BEC5",
                "#B0BEC5",
                "#B0BEC5",
                "#B0BEC5",
                "#B0BEC5",
                "#B0BEC5",
                "#B0BEC5",
                "#B0BEC5",
                "#B0BEC5",
                "#B0BEC5",
                "#B0BEC5",
                "#B0BEC5"
               ]
              ]
             }
            ],
            "label": "Topic 7",
            "method": "update"
           },
           {
            "args": [
             {
              "marker.color": [
               [
                "#B0BEC5",
                "#B0BEC5",
                "#B0BEC5",
                "#B0BEC5",
                "#B0BEC5",
                "#B0BEC5",
                "#B0BEC5",
                "#B0BEC5",
                "red",
                "#B0BEC5",
                "#B0BEC5",
                "#B0BEC5",
                "#B0BEC5",
                "#B0BEC5",
                "#B0BEC5",
                "#B0BEC5",
                "#B0BEC5",
                "#B0BEC5",
                "#B0BEC5",
                "#B0BEC5",
                "#B0BEC5",
                "#B0BEC5",
                "#B0BEC5",
                "#B0BEC5"
               ]
              ]
             }
            ],
            "label": "Topic 8",
            "method": "update"
           },
           {
            "args": [
             {
              "marker.color": [
               [
                "#B0BEC5",
                "#B0BEC5",
                "#B0BEC5",
                "#B0BEC5",
                "#B0BEC5",
                "#B0BEC5",
                "#B0BEC5",
                "#B0BEC5",
                "#B0BEC5",
                "red",
                "#B0BEC5",
                "#B0BEC5",
                "#B0BEC5",
                "#B0BEC5",
                "#B0BEC5",
                "#B0BEC5",
                "#B0BEC5",
                "#B0BEC5",
                "#B0BEC5",
                "#B0BEC5",
                "#B0BEC5",
                "#B0BEC5",
                "#B0BEC5",
                "#B0BEC5"
               ]
              ]
             }
            ],
            "label": "Topic 9",
            "method": "update"
           },
           {
            "args": [
             {
              "marker.color": [
               [
                "#B0BEC5",
                "#B0BEC5",
                "#B0BEC5",
                "#B0BEC5",
                "#B0BEC5",
                "#B0BEC5",
                "#B0BEC5",
                "#B0BEC5",
                "#B0BEC5",
                "#B0BEC5",
                "red",
                "#B0BEC5",
                "#B0BEC5",
                "#B0BEC5",
                "#B0BEC5",
                "#B0BEC5",
                "#B0BEC5",
                "#B0BEC5",
                "#B0BEC5",
                "#B0BEC5",
                "#B0BEC5",
                "#B0BEC5",
                "#B0BEC5",
                "#B0BEC5"
               ]
              ]
             }
            ],
            "label": "Topic 10",
            "method": "update"
           },
           {
            "args": [
             {
              "marker.color": [
               [
                "#B0BEC5",
                "#B0BEC5",
                "#B0BEC5",
                "#B0BEC5",
                "#B0BEC5",
                "#B0BEC5",
                "#B0BEC5",
                "#B0BEC5",
                "#B0BEC5",
                "#B0BEC5",
                "#B0BEC5",
                "red",
                "#B0BEC5",
                "#B0BEC5",
                "#B0BEC5",
                "#B0BEC5",
                "#B0BEC5",
                "#B0BEC5",
                "#B0BEC5",
                "#B0BEC5",
                "#B0BEC5",
                "#B0BEC5",
                "#B0BEC5",
                "#B0BEC5"
               ]
              ]
             }
            ],
            "label": "Topic 11",
            "method": "update"
           },
           {
            "args": [
             {
              "marker.color": [
               [
                "#B0BEC5",
                "#B0BEC5",
                "#B0BEC5",
                "#B0BEC5",
                "#B0BEC5",
                "#B0BEC5",
                "#B0BEC5",
                "#B0BEC5",
                "#B0BEC5",
                "#B0BEC5",
                "#B0BEC5",
                "#B0BEC5",
                "red",
                "#B0BEC5",
                "#B0BEC5",
                "#B0BEC5",
                "#B0BEC5",
                "#B0BEC5",
                "#B0BEC5",
                "#B0BEC5",
                "#B0BEC5",
                "#B0BEC5",
                "#B0BEC5",
                "#B0BEC5"
               ]
              ]
             }
            ],
            "label": "Topic 12",
            "method": "update"
           },
           {
            "args": [
             {
              "marker.color": [
               [
                "#B0BEC5",
                "#B0BEC5",
                "#B0BEC5",
                "#B0BEC5",
                "#B0BEC5",
                "#B0BEC5",
                "#B0BEC5",
                "#B0BEC5",
                "#B0BEC5",
                "#B0BEC5",
                "#B0BEC5",
                "#B0BEC5",
                "#B0BEC5",
                "red",
                "#B0BEC5",
                "#B0BEC5",
                "#B0BEC5",
                "#B0BEC5",
                "#B0BEC5",
                "#B0BEC5",
                "#B0BEC5",
                "#B0BEC5",
                "#B0BEC5",
                "#B0BEC5"
               ]
              ]
             }
            ],
            "label": "Topic 13",
            "method": "update"
           },
           {
            "args": [
             {
              "marker.color": [
               [
                "#B0BEC5",
                "#B0BEC5",
                "#B0BEC5",
                "#B0BEC5",
                "#B0BEC5",
                "#B0BEC5",
                "#B0BEC5",
                "#B0BEC5",
                "#B0BEC5",
                "#B0BEC5",
                "#B0BEC5",
                "#B0BEC5",
                "#B0BEC5",
                "#B0BEC5",
                "red",
                "#B0BEC5",
                "#B0BEC5",
                "#B0BEC5",
                "#B0BEC5",
                "#B0BEC5",
                "#B0BEC5",
                "#B0BEC5",
                "#B0BEC5",
                "#B0BEC5"
               ]
              ]
             }
            ],
            "label": "Topic 14",
            "method": "update"
           },
           {
            "args": [
             {
              "marker.color": [
               [
                "#B0BEC5",
                "#B0BEC5",
                "#B0BEC5",
                "#B0BEC5",
                "#B0BEC5",
                "#B0BEC5",
                "#B0BEC5",
                "#B0BEC5",
                "#B0BEC5",
                "#B0BEC5",
                "#B0BEC5",
                "#B0BEC5",
                "#B0BEC5",
                "#B0BEC5",
                "#B0BEC5",
                "red",
                "#B0BEC5",
                "#B0BEC5",
                "#B0BEC5",
                "#B0BEC5",
                "#B0BEC5",
                "#B0BEC5",
                "#B0BEC5",
                "#B0BEC5"
               ]
              ]
             }
            ],
            "label": "Topic 15",
            "method": "update"
           },
           {
            "args": [
             {
              "marker.color": [
               [
                "#B0BEC5",
                "#B0BEC5",
                "#B0BEC5",
                "#B0BEC5",
                "#B0BEC5",
                "#B0BEC5",
                "#B0BEC5",
                "#B0BEC5",
                "#B0BEC5",
                "#B0BEC5",
                "#B0BEC5",
                "#B0BEC5",
                "#B0BEC5",
                "#B0BEC5",
                "#B0BEC5",
                "#B0BEC5",
                "red",
                "#B0BEC5",
                "#B0BEC5",
                "#B0BEC5",
                "#B0BEC5",
                "#B0BEC5",
                "#B0BEC5",
                "#B0BEC5"
               ]
              ]
             }
            ],
            "label": "Topic 16",
            "method": "update"
           },
           {
            "args": [
             {
              "marker.color": [
               [
                "#B0BEC5",
                "#B0BEC5",
                "#B0BEC5",
                "#B0BEC5",
                "#B0BEC5",
                "#B0BEC5",
                "#B0BEC5",
                "#B0BEC5",
                "#B0BEC5",
                "#B0BEC5",
                "#B0BEC5",
                "#B0BEC5",
                "#B0BEC5",
                "#B0BEC5",
                "#B0BEC5",
                "#B0BEC5",
                "#B0BEC5",
                "red",
                "#B0BEC5",
                "#B0BEC5",
                "#B0BEC5",
                "#B0BEC5",
                "#B0BEC5",
                "#B0BEC5"
               ]
              ]
             }
            ],
            "label": "Topic 17",
            "method": "update"
           },
           {
            "args": [
             {
              "marker.color": [
               [
                "#B0BEC5",
                "#B0BEC5",
                "#B0BEC5",
                "#B0BEC5",
                "#B0BEC5",
                "#B0BEC5",
                "#B0BEC5",
                "#B0BEC5",
                "#B0BEC5",
                "#B0BEC5",
                "#B0BEC5",
                "#B0BEC5",
                "#B0BEC5",
                "#B0BEC5",
                "#B0BEC5",
                "#B0BEC5",
                "#B0BEC5",
                "#B0BEC5",
                "red",
                "#B0BEC5",
                "#B0BEC5",
                "#B0BEC5",
                "#B0BEC5",
                "#B0BEC5"
               ]
              ]
             }
            ],
            "label": "Topic 18",
            "method": "update"
           },
           {
            "args": [
             {
              "marker.color": [
               [
                "#B0BEC5",
                "#B0BEC5",
                "#B0BEC5",
                "#B0BEC5",
                "#B0BEC5",
                "#B0BEC5",
                "#B0BEC5",
                "#B0BEC5",
                "#B0BEC5",
                "#B0BEC5",
                "#B0BEC5",
                "#B0BEC5",
                "#B0BEC5",
                "#B0BEC5",
                "#B0BEC5",
                "#B0BEC5",
                "#B0BEC5",
                "#B0BEC5",
                "#B0BEC5",
                "red",
                "#B0BEC5",
                "#B0BEC5",
                "#B0BEC5",
                "#B0BEC5"
               ]
              ]
             }
            ],
            "label": "Topic 19",
            "method": "update"
           },
           {
            "args": [
             {
              "marker.color": [
               [
                "#B0BEC5",
                "#B0BEC5",
                "#B0BEC5",
                "#B0BEC5",
                "#B0BEC5",
                "#B0BEC5",
                "#B0BEC5",
                "#B0BEC5",
                "#B0BEC5",
                "#B0BEC5",
                "#B0BEC5",
                "#B0BEC5",
                "#B0BEC5",
                "#B0BEC5",
                "#B0BEC5",
                "#B0BEC5",
                "#B0BEC5",
                "#B0BEC5",
                "#B0BEC5",
                "#B0BEC5",
                "red",
                "#B0BEC5",
                "#B0BEC5",
                "#B0BEC5"
               ]
              ]
             }
            ],
            "label": "Topic 20",
            "method": "update"
           },
           {
            "args": [
             {
              "marker.color": [
               [
                "#B0BEC5",
                "#B0BEC5",
                "#B0BEC5",
                "#B0BEC5",
                "#B0BEC5",
                "#B0BEC5",
                "#B0BEC5",
                "#B0BEC5",
                "#B0BEC5",
                "#B0BEC5",
                "#B0BEC5",
                "#B0BEC5",
                "#B0BEC5",
                "#B0BEC5",
                "#B0BEC5",
                "#B0BEC5",
                "#B0BEC5",
                "#B0BEC5",
                "#B0BEC5",
                "#B0BEC5",
                "#B0BEC5",
                "red",
                "#B0BEC5",
                "#B0BEC5"
               ]
              ]
             }
            ],
            "label": "Topic 21",
            "method": "update"
           },
           {
            "args": [
             {
              "marker.color": [
               [
                "#B0BEC5",
                "#B0BEC5",
                "#B0BEC5",
                "#B0BEC5",
                "#B0BEC5",
                "#B0BEC5",
                "#B0BEC5",
                "#B0BEC5",
                "#B0BEC5",
                "#B0BEC5",
                "#B0BEC5",
                "#B0BEC5",
                "#B0BEC5",
                "#B0BEC5",
                "#B0BEC5",
                "#B0BEC5",
                "#B0BEC5",
                "#B0BEC5",
                "#B0BEC5",
                "#B0BEC5",
                "#B0BEC5",
                "#B0BEC5",
                "red",
                "#B0BEC5"
               ]
              ]
             }
            ],
            "label": "Topic 22",
            "method": "update"
           },
           {
            "args": [
             {
              "marker.color": [
               [
                "#B0BEC5",
                "#B0BEC5",
                "#B0BEC5",
                "#B0BEC5",
                "#B0BEC5",
                "#B0BEC5",
                "#B0BEC5",
                "#B0BEC5",
                "#B0BEC5",
                "#B0BEC5",
                "#B0BEC5",
                "#B0BEC5",
                "#B0BEC5",
                "#B0BEC5",
                "#B0BEC5",
                "#B0BEC5",
                "#B0BEC5",
                "#B0BEC5",
                "#B0BEC5",
                "#B0BEC5",
                "#B0BEC5",
                "#B0BEC5",
                "#B0BEC5",
                "red"
               ]
              ]
             }
            ],
            "label": "Topic 23",
            "method": "update"
           }
          ]
         }
        ],
        "template": {
         "data": {
          "bar": [
           {
            "error_x": {
             "color": "rgb(36,36,36)"
            },
            "error_y": {
             "color": "rgb(36,36,36)"
            },
            "marker": {
             "line": {
              "color": "white",
              "width": 0.5
             },
             "pattern": {
              "fillmode": "overlay",
              "size": 10,
              "solidity": 0.2
             }
            },
            "type": "bar"
           }
          ],
          "barpolar": [
           {
            "marker": {
             "line": {
              "color": "white",
              "width": 0.5
             },
             "pattern": {
              "fillmode": "overlay",
              "size": 10,
              "solidity": 0.2
             }
            },
            "type": "barpolar"
           }
          ],
          "carpet": [
           {
            "aaxis": {
             "endlinecolor": "rgb(36,36,36)",
             "gridcolor": "white",
             "linecolor": "white",
             "minorgridcolor": "white",
             "startlinecolor": "rgb(36,36,36)"
            },
            "baxis": {
             "endlinecolor": "rgb(36,36,36)",
             "gridcolor": "white",
             "linecolor": "white",
             "minorgridcolor": "white",
             "startlinecolor": "rgb(36,36,36)"
            },
            "type": "carpet"
           }
          ],
          "choropleth": [
           {
            "colorbar": {
             "outlinewidth": 1,
             "tickcolor": "rgb(36,36,36)",
             "ticks": "outside"
            },
            "type": "choropleth"
           }
          ],
          "contour": [
           {
            "colorbar": {
             "outlinewidth": 1,
             "tickcolor": "rgb(36,36,36)",
             "ticks": "outside"
            },
            "colorscale": [
             [
              0,
              "#440154"
             ],
             [
              0.1111111111111111,
              "#482878"
             ],
             [
              0.2222222222222222,
              "#3e4989"
             ],
             [
              0.3333333333333333,
              "#31688e"
             ],
             [
              0.4444444444444444,
              "#26828e"
             ],
             [
              0.5555555555555556,
              "#1f9e89"
             ],
             [
              0.6666666666666666,
              "#35b779"
             ],
             [
              0.7777777777777778,
              "#6ece58"
             ],
             [
              0.8888888888888888,
              "#b5de2b"
             ],
             [
              1,
              "#fde725"
             ]
            ],
            "type": "contour"
           }
          ],
          "contourcarpet": [
           {
            "colorbar": {
             "outlinewidth": 1,
             "tickcolor": "rgb(36,36,36)",
             "ticks": "outside"
            },
            "type": "contourcarpet"
           }
          ],
          "heatmap": [
           {
            "colorbar": {
             "outlinewidth": 1,
             "tickcolor": "rgb(36,36,36)",
             "ticks": "outside"
            },
            "colorscale": [
             [
              0,
              "#440154"
             ],
             [
              0.1111111111111111,
              "#482878"
             ],
             [
              0.2222222222222222,
              "#3e4989"
             ],
             [
              0.3333333333333333,
              "#31688e"
             ],
             [
              0.4444444444444444,
              "#26828e"
             ],
             [
              0.5555555555555556,
              "#1f9e89"
             ],
             [
              0.6666666666666666,
              "#35b779"
             ],
             [
              0.7777777777777778,
              "#6ece58"
             ],
             [
              0.8888888888888888,
              "#b5de2b"
             ],
             [
              1,
              "#fde725"
             ]
            ],
            "type": "heatmap"
           }
          ],
          "heatmapgl": [
           {
            "colorbar": {
             "outlinewidth": 1,
             "tickcolor": "rgb(36,36,36)",
             "ticks": "outside"
            },
            "colorscale": [
             [
              0,
              "#440154"
             ],
             [
              0.1111111111111111,
              "#482878"
             ],
             [
              0.2222222222222222,
              "#3e4989"
             ],
             [
              0.3333333333333333,
              "#31688e"
             ],
             [
              0.4444444444444444,
              "#26828e"
             ],
             [
              0.5555555555555556,
              "#1f9e89"
             ],
             [
              0.6666666666666666,
              "#35b779"
             ],
             [
              0.7777777777777778,
              "#6ece58"
             ],
             [
              0.8888888888888888,
              "#b5de2b"
             ],
             [
              1,
              "#fde725"
             ]
            ],
            "type": "heatmapgl"
           }
          ],
          "histogram": [
           {
            "marker": {
             "line": {
              "color": "white",
              "width": 0.6
             }
            },
            "type": "histogram"
           }
          ],
          "histogram2d": [
           {
            "colorbar": {
             "outlinewidth": 1,
             "tickcolor": "rgb(36,36,36)",
             "ticks": "outside"
            },
            "colorscale": [
             [
              0,
              "#440154"
             ],
             [
              0.1111111111111111,
              "#482878"
             ],
             [
              0.2222222222222222,
              "#3e4989"
             ],
             [
              0.3333333333333333,
              "#31688e"
             ],
             [
              0.4444444444444444,
              "#26828e"
             ],
             [
              0.5555555555555556,
              "#1f9e89"
             ],
             [
              0.6666666666666666,
              "#35b779"
             ],
             [
              0.7777777777777778,
              "#6ece58"
             ],
             [
              0.8888888888888888,
              "#b5de2b"
             ],
             [
              1,
              "#fde725"
             ]
            ],
            "type": "histogram2d"
           }
          ],
          "histogram2dcontour": [
           {
            "colorbar": {
             "outlinewidth": 1,
             "tickcolor": "rgb(36,36,36)",
             "ticks": "outside"
            },
            "colorscale": [
             [
              0,
              "#440154"
             ],
             [
              0.1111111111111111,
              "#482878"
             ],
             [
              0.2222222222222222,
              "#3e4989"
             ],
             [
              0.3333333333333333,
              "#31688e"
             ],
             [
              0.4444444444444444,
              "#26828e"
             ],
             [
              0.5555555555555556,
              "#1f9e89"
             ],
             [
              0.6666666666666666,
              "#35b779"
             ],
             [
              0.7777777777777778,
              "#6ece58"
             ],
             [
              0.8888888888888888,
              "#b5de2b"
             ],
             [
              1,
              "#fde725"
             ]
            ],
            "type": "histogram2dcontour"
           }
          ],
          "mesh3d": [
           {
            "colorbar": {
             "outlinewidth": 1,
             "tickcolor": "rgb(36,36,36)",
             "ticks": "outside"
            },
            "type": "mesh3d"
           }
          ],
          "parcoords": [
           {
            "line": {
             "colorbar": {
              "outlinewidth": 1,
              "tickcolor": "rgb(36,36,36)",
              "ticks": "outside"
             }
            },
            "type": "parcoords"
           }
          ],
          "pie": [
           {
            "automargin": true,
            "type": "pie"
           }
          ],
          "scatter": [
           {
            "fillpattern": {
             "fillmode": "overlay",
             "size": 10,
             "solidity": 0.2
            },
            "type": "scatter"
           }
          ],
          "scatter3d": [
           {
            "line": {
             "colorbar": {
              "outlinewidth": 1,
              "tickcolor": "rgb(36,36,36)",
              "ticks": "outside"
             }
            },
            "marker": {
             "colorbar": {
              "outlinewidth": 1,
              "tickcolor": "rgb(36,36,36)",
              "ticks": "outside"
             }
            },
            "type": "scatter3d"
           }
          ],
          "scattercarpet": [
           {
            "marker": {
             "colorbar": {
              "outlinewidth": 1,
              "tickcolor": "rgb(36,36,36)",
              "ticks": "outside"
             }
            },
            "type": "scattercarpet"
           }
          ],
          "scattergeo": [
           {
            "marker": {
             "colorbar": {
              "outlinewidth": 1,
              "tickcolor": "rgb(36,36,36)",
              "ticks": "outside"
             }
            },
            "type": "scattergeo"
           }
          ],
          "scattergl": [
           {
            "marker": {
             "colorbar": {
              "outlinewidth": 1,
              "tickcolor": "rgb(36,36,36)",
              "ticks": "outside"
             }
            },
            "type": "scattergl"
           }
          ],
          "scattermapbox": [
           {
            "marker": {
             "colorbar": {
              "outlinewidth": 1,
              "tickcolor": "rgb(36,36,36)",
              "ticks": "outside"
             }
            },
            "type": "scattermapbox"
           }
          ],
          "scatterpolar": [
           {
            "marker": {
             "colorbar": {
              "outlinewidth": 1,
              "tickcolor": "rgb(36,36,36)",
              "ticks": "outside"
             }
            },
            "type": "scatterpolar"
           }
          ],
          "scatterpolargl": [
           {
            "marker": {
             "colorbar": {
              "outlinewidth": 1,
              "tickcolor": "rgb(36,36,36)",
              "ticks": "outside"
             }
            },
            "type": "scatterpolargl"
           }
          ],
          "scatterternary": [
           {
            "marker": {
             "colorbar": {
              "outlinewidth": 1,
              "tickcolor": "rgb(36,36,36)",
              "ticks": "outside"
             }
            },
            "type": "scatterternary"
           }
          ],
          "surface": [
           {
            "colorbar": {
             "outlinewidth": 1,
             "tickcolor": "rgb(36,36,36)",
             "ticks": "outside"
            },
            "colorscale": [
             [
              0,
              "#440154"
             ],
             [
              0.1111111111111111,
              "#482878"
             ],
             [
              0.2222222222222222,
              "#3e4989"
             ],
             [
              0.3333333333333333,
              "#31688e"
             ],
             [
              0.4444444444444444,
              "#26828e"
             ],
             [
              0.5555555555555556,
              "#1f9e89"
             ],
             [
              0.6666666666666666,
              "#35b779"
             ],
             [
              0.7777777777777778,
              "#6ece58"
             ],
             [
              0.8888888888888888,
              "#b5de2b"
             ],
             [
              1,
              "#fde725"
             ]
            ],
            "type": "surface"
           }
          ],
          "table": [
           {
            "cells": {
             "fill": {
              "color": "rgb(237,237,237)"
             },
             "line": {
              "color": "white"
             }
            },
            "header": {
             "fill": {
              "color": "rgb(217,217,217)"
             },
             "line": {
              "color": "white"
             }
            },
            "type": "table"
           }
          ]
         },
         "layout": {
          "annotationdefaults": {
           "arrowhead": 0,
           "arrowwidth": 1
          },
          "autotypenumbers": "strict",
          "coloraxis": {
           "colorbar": {
            "outlinewidth": 1,
            "tickcolor": "rgb(36,36,36)",
            "ticks": "outside"
           }
          },
          "colorscale": {
           "diverging": [
            [
             0,
             "rgb(103,0,31)"
            ],
            [
             0.1,
             "rgb(178,24,43)"
            ],
            [
             0.2,
             "rgb(214,96,77)"
            ],
            [
             0.3,
             "rgb(244,165,130)"
            ],
            [
             0.4,
             "rgb(253,219,199)"
            ],
            [
             0.5,
             "rgb(247,247,247)"
            ],
            [
             0.6,
             "rgb(209,229,240)"
            ],
            [
             0.7,
             "rgb(146,197,222)"
            ],
            [
             0.8,
             "rgb(67,147,195)"
            ],
            [
             0.9,
             "rgb(33,102,172)"
            ],
            [
             1,
             "rgb(5,48,97)"
            ]
           ],
           "sequential": [
            [
             0,
             "#440154"
            ],
            [
             0.1111111111111111,
             "#482878"
            ],
            [
             0.2222222222222222,
             "#3e4989"
            ],
            [
             0.3333333333333333,
             "#31688e"
            ],
            [
             0.4444444444444444,
             "#26828e"
            ],
            [
             0.5555555555555556,
             "#1f9e89"
            ],
            [
             0.6666666666666666,
             "#35b779"
            ],
            [
             0.7777777777777778,
             "#6ece58"
            ],
            [
             0.8888888888888888,
             "#b5de2b"
            ],
            [
             1,
             "#fde725"
            ]
           ],
           "sequentialminus": [
            [
             0,
             "#440154"
            ],
            [
             0.1111111111111111,
             "#482878"
            ],
            [
             0.2222222222222222,
             "#3e4989"
            ],
            [
             0.3333333333333333,
             "#31688e"
            ],
            [
             0.4444444444444444,
             "#26828e"
            ],
            [
             0.5555555555555556,
             "#1f9e89"
            ],
            [
             0.6666666666666666,
             "#35b779"
            ],
            [
             0.7777777777777778,
             "#6ece58"
            ],
            [
             0.8888888888888888,
             "#b5de2b"
            ],
            [
             1,
             "#fde725"
            ]
           ]
          },
          "colorway": [
           "#1F77B4",
           "#FF7F0E",
           "#2CA02C",
           "#D62728",
           "#9467BD",
           "#8C564B",
           "#E377C2",
           "#7F7F7F",
           "#BCBD22",
           "#17BECF"
          ],
          "font": {
           "color": "rgb(36,36,36)"
          },
          "geo": {
           "bgcolor": "white",
           "lakecolor": "white",
           "landcolor": "white",
           "showlakes": true,
           "showland": true,
           "subunitcolor": "white"
          },
          "hoverlabel": {
           "align": "left"
          },
          "hovermode": "closest",
          "mapbox": {
           "style": "light"
          },
          "paper_bgcolor": "white",
          "plot_bgcolor": "white",
          "polar": {
           "angularaxis": {
            "gridcolor": "rgb(232,232,232)",
            "linecolor": "rgb(36,36,36)",
            "showgrid": false,
            "showline": true,
            "ticks": "outside"
           },
           "bgcolor": "white",
           "radialaxis": {
            "gridcolor": "rgb(232,232,232)",
            "linecolor": "rgb(36,36,36)",
            "showgrid": false,
            "showline": true,
            "ticks": "outside"
           }
          },
          "scene": {
           "xaxis": {
            "backgroundcolor": "white",
            "gridcolor": "rgb(232,232,232)",
            "gridwidth": 2,
            "linecolor": "rgb(36,36,36)",
            "showbackground": true,
            "showgrid": false,
            "showline": true,
            "ticks": "outside",
            "zeroline": false,
            "zerolinecolor": "rgb(36,36,36)"
           },
           "yaxis": {
            "backgroundcolor": "white",
            "gridcolor": "rgb(232,232,232)",
            "gridwidth": 2,
            "linecolor": "rgb(36,36,36)",
            "showbackground": true,
            "showgrid": false,
            "showline": true,
            "ticks": "outside",
            "zeroline": false,
            "zerolinecolor": "rgb(36,36,36)"
           },
           "zaxis": {
            "backgroundcolor": "white",
            "gridcolor": "rgb(232,232,232)",
            "gridwidth": 2,
            "linecolor": "rgb(36,36,36)",
            "showbackground": true,
            "showgrid": false,
            "showline": true,
            "ticks": "outside",
            "zeroline": false,
            "zerolinecolor": "rgb(36,36,36)"
           }
          },
          "shapedefaults": {
           "fillcolor": "black",
           "line": {
            "width": 0
           },
           "opacity": 0.3
          },
          "ternary": {
           "aaxis": {
            "gridcolor": "rgb(232,232,232)",
            "linecolor": "rgb(36,36,36)",
            "showgrid": false,
            "showline": true,
            "ticks": "outside"
           },
           "baxis": {
            "gridcolor": "rgb(232,232,232)",
            "linecolor": "rgb(36,36,36)",
            "showgrid": false,
            "showline": true,
            "ticks": "outside"
           },
           "bgcolor": "white",
           "caxis": {
            "gridcolor": "rgb(232,232,232)",
            "linecolor": "rgb(36,36,36)",
            "showgrid": false,
            "showline": true,
            "ticks": "outside"
           }
          },
          "title": {
           "x": 0.05
          },
          "xaxis": {
           "automargin": true,
           "gridcolor": "rgb(232,232,232)",
           "linecolor": "rgb(36,36,36)",
           "showgrid": false,
           "showline": true,
           "ticks": "outside",
           "title": {
            "standoff": 15
           },
           "zeroline": false,
           "zerolinecolor": "rgb(36,36,36)"
          },
          "yaxis": {
           "automargin": true,
           "gridcolor": "rgb(232,232,232)",
           "linecolor": "rgb(36,36,36)",
           "showgrid": false,
           "showline": true,
           "ticks": "outside",
           "title": {
            "standoff": 15
           },
           "zeroline": false,
           "zerolinecolor": "rgb(36,36,36)"
          }
         }
        },
        "title": {
         "font": {
          "color": "Black",
          "size": 22
         },
         "text": "<b>Intertopic Distance Map</b>",
         "x": 0.5,
         "xanchor": "center",
         "y": 0.95,
         "yanchor": "top"
        },
        "width": 650,
        "xaxis": {
         "anchor": "y",
         "domain": [
          0,
          1
         ],
         "range": [
          -1.6156282305717469,
          19.803297519683838
         ],
         "title": {
          "text": ""
         },
         "visible": false
        },
        "yaxis": {
         "anchor": "x",
         "domain": [
          0,
          1
         ],
         "range": [
          5.932497835159301,
          27.316000747680665
         ],
         "title": {
          "text": ""
         },
         "visible": false
        }
       }
      }
     },
     "metadata": {},
     "output_type": "display_data"
    }
   ],
   "source": [
    "model.visualize_topics()"
   ]
  },
  {
   "cell_type": "markdown",
   "metadata": {},
   "source": [
    "Podemos relacionar tópicos con palabras en específico"
   ]
  },
  {
   "cell_type": "code",
   "execution_count": 16,
   "metadata": {},
   "outputs": [
    {
     "data": {
      "text/plain": [
       "[23, 16, 14, 12, 1]"
      ]
     },
     "execution_count": 16,
     "metadata": {},
     "output_type": "execute_result"
    }
   ],
   "source": [
    "target = 'integridad'\n",
    "\n",
    "topic_num = 5\n",
    "\n",
    "similar_topics, similarity = model.find_topics(target, top_n=topic_num)\n",
    "similar_topics"
   ]
  },
  {
   "cell_type": "code",
   "execution_count": 17,
   "metadata": {},
   "outputs": [
    {
     "data": {
      "text/plain": [
       "[0.6150635646667274,\n",
       " 0.5894751090043417,\n",
       " 0.5311439861401046,\n",
       " 0.5172437787309745,\n",
       " 0.5037999837043818]"
      ]
     },
     "execution_count": 17,
     "metadata": {},
     "output_type": "execute_result"
    }
   ],
   "source": [
    "similarity"
   ]
  },
  {
   "cell_type": "code",
   "execution_count": 18,
   "metadata": {},
   "outputs": [
    {
     "name": "stdout",
     "output_type": "stream",
     "text": [
      "Tópicos relevantes para concepto: integridad\n"
     ]
    },
    {
     "data": {
      "text/markdown": [
       "| Tópico | Probabilidad | Palabra 1 | Palabra 2 | Palabra 3 | Palabra 4 | Palabra 5 |\n",
       "| --- | --- | --- | --- | --- | --- | --- |\n",
       "| 23 | 0.6150635646667274 | seguridad | estándares | va | inlcuyendo | ingeniería |\n",
       "| 16 | 0.5894751090043417 | ambas | cumplir | debe | ocurrio | responsabilidaded |\n",
       "| 14 | 0.5311439861401046 | idem | sorry | lo | alcance | mismo |\n",
       "| 12 | 0.5172437787309745 | ética | éticos | ético | hecho | bien |\n",
       "| 1 | 0.5037999837043818 | reputación | transparencia | ser | transparente | mantener |\n"
      ],
      "text/plain": [
       "<IPython.core.display.Markdown object>"
      ]
     },
     "metadata": {},
     "output_type": "display_data"
    }
   ],
   "source": [
    "from TM_utils import get_table_top_topics\n",
    "from utils.exploracion import print_table_md\n",
    "\n",
    "print(\"Tópicos relevantes para concepto: {}\".format(target))\n",
    "\n",
    "headers, data = get_table_top_topics(model,similar_topics,similarity,max_w=5)\n",
    "print_table_md(headers, data)"
   ]
  },
  {
   "cell_type": "markdown",
   "metadata": {},
   "source": [
    "Distribución de tópicos en test set"
   ]
  },
  {
   "cell_type": "code",
   "execution_count": 20,
   "metadata": {},
   "outputs": [
    {
     "data": {
      "image/png": "[encoded data removed]",
      "text/plain": [
       "<Figure size 640x480 with 1 Axes>"
      ]
     },
     "metadata": {},
     "output_type": "display_data"
    }
   ],
   "source": [
    "from TM_utils import plot_frecuencies, get_top_k_topics, get_table_top_topics\n",
    "from utils.exploracion import print_table_md\n",
    "from utils.preprocesamiento import StemmerTokenizer\n",
    "\n",
    "tokenizador = StemmerTokenizer(stem=False,rmv_punctuation=True)\n",
    "\n",
    "output_test = model.transform(df_to_list(df_test,'comment',tokenizador))\n",
    "\n",
    "plot_frecuencies(output_test[0],label='test set')"
   ]
  },
  {
   "cell_type": "code",
   "execution_count": 21,
   "metadata": {},
   "outputs": [
    {
     "name": "stdout",
     "output_type": "stream",
     "text": [
      "Tópicos relevantes en test set\n"
     ]
    },
    {
     "data": {
      "text/markdown": [
       "| Tópico | Probabilidad | Palabra 1 | Palabra 2 | Palabra 3 | Palabra 4 | Palabra 5 |\n",
       "| --- | --- | --- | --- | --- | --- | --- |\n",
       "| -1 | 0.35528942115768464 | proyecto | criterios | plazos | si | técnicos |\n",
       "| 0 | 0.22954091816367264 | alicia | proyecto | debería | debe | si |\n",
       "| 1 | 0.1596806387225549 | reputación | transparencia | ser | transparente | mantener |\n",
       "| 5 | 0.04790419161676647 | pandemia | contexto | condiciones | acuerdos | proyecto |\n",
       "| 2 | 0.041916167664670656 | proyecto | plazos | entregar | importante | bien |\n"
      ],
      "text/plain": [
       "<IPython.core.display.Markdown object>"
      ]
     },
     "metadata": {},
     "output_type": "display_data"
    }
   ],
   "source": [
    "top_5_keys, top_5_values = get_top_k_topics(output_test[0],k=5)\n",
    "print(\"Tópicos relevantes en test set\")\n",
    "\n",
    "headers, data = get_table_top_topics(model,top_5_keys,top_5_values,max_w=5)\n",
    "print_table_md(headers, data)"
   ]
  },
  {
   "cell_type": "code",
   "execution_count": 23,
   "metadata": {},
   "outputs": [
    {
     "name": "stdout",
     "output_type": "stream",
     "text": [
      "Samples for topic  -1\n",
      "Certainty: 6.800650820867992e-11 Text: Aquí debe cumplir con lo elemental con el usuario, pero tratar de apegarse más a los plazos, para así poder no sentirse sometida a tanta presión y rendir como es debido\n",
      "Certainty: 7.751935378870992e-10 Text: debe cumplir con los acuerdos acorde al contexto ya que es preferible que se demore un poco más el proyecto y finalizado este, se entregue un producto completamente funcional y que no afecte a los usuarios.\n",
      "Certainty: 4.953213646386584e-183 Text: Deberia priorizar los criterios tecnicos para que el producto este en su maximo funcionamiento y genere la mayor satisfacción a sus usuarios.\n",
      "Certainty: 8.731025165310957e-11 Text: Se debe a que los plazos tampoco se deben extender tanto, porque las consecuencias económicas pueden perjudicar en el proyecto, pero siempre respetando las etapas de producción del producto y del proyecto en general, para lograr algo bien hecho.\n",
      "Certainty: 0.00047573644479022607 Text: Es de mayor prioridad los requerimientos técnicos del proyecto y de sus usuarios, ya que, se debe velar antes que todo por la seguridad de los usuarios y con ello velar por un correcto funcionamiento técnico y no conformarse con su funcionalidad solamente.\n",
      "\n",
      "\n",
      "Samples for topic  0\n",
      "Certainty: 0.6347612986651999 Text: Alicia debe priorizar los criterios técnicos antes que los plazos. Un producto mal diseñado puede traer consecuencias catastróficas y costar vidas humanas.\n",
      "Certainty: 0.27722444553346065 Text: Debería tener transparencia, ya que al ser transparente, deja a Alicia como una persona ética, que asume sus errores, y se muestra como una persona profesional que prefiere hacer el trabajo completo antes de tener la mejor reputación. Aparte, si el dispositivo falla, podría herir gente, por lo que Alicia aparte de llevarse multas y un 'mal nombre', podría irse detenida por negligencia.\n",
      "Certainty: 0.27330333777665 Text: Nuevamente, mis compañeros estan de acuerdo con lo dicho, ya que estamos hablando de una pandemia, lo cual es claramente 'externo' a Alicia y su poder. por lo tanto, se mantiene mi argumento . Si ya los acuerdos establecidos en el proyecto han sido difíciles de cumplir, deberían considera el hecho de porque ocurrió, ya que son hechos que no involucran el poder Alicia sino son acontecimientos de fuerza mayor (va todo en pro de la calidad del proyecto)\n",
      "Certainty: 0.9999999987767237 Text: Alicia debería priorizar los criterios técnicos del proyecto y de los usuarios, pues a mi parecer el resultado final del producto debe debe tener lo pedido por las empresas que lo exigían en vez de dar un producto mal hecho. Además Alicia se caracteriza por su compromiso con los proyectos, por lo tanto creo que no debería ser perjudicial teniendo en cuenta su historial\n",
      "Certainty: 0.16555891914436152 Text: En forma resumida, una gran parte de la reputación de Alicia es su transparencia y rigurosidad. entonces dejar claras las falencias no sería un golpe duro a su reputación. Además que se tiene que priorizar mostrar las falencias por temas de responsabilidad, para que aunque no se cumpla el plazo eventualmente se pueda alcanzar un producto satisfactorio\n",
      "\n",
      "\n",
      "Samples for topic  1\n",
      "Certainty: 0.9999999990573586 Text: Mientras que es cierto que podrá recibir represalias, a través de la transparencia se pueden llevar a futuro proyectos que implementen medidas de seguridad y reforzamiento al proyecto original. Si la empresa se ve afectada, que así sea, forzar que no hayan problemas aparentes en ningún lugar termina siendo a detrimento del futuro.\n",
      "Certainty: 0.9999999669257732 Text: No se difiere de la opinión del grupoSe debe reconocer las falencias del productor final y comprometerse a que se terminará en un futuro próximo, de esta forma se perderá reputación al principio, pero se logrará recuperar, en cambio si se oculta y en un futuro ocurre un accidente la reputación será irrecuperable. Además los valores que entrega la universidad lo entrega ya que así se evitan accidentes y se evitar soluciones incompleta, por esto los valores deben respetarse a rajatabla\n",
      "Certainty: 0.39610885400792745 Text: Dado que ahora sabemos q pueden haber fallas técnicas no se puede permitir omitir cosas dado que puede tener una con ve ciencia grave por lo que escogimos 2. No elegimos el 1 dado que ella debe tratar de ser totalmente transparente intentando salvar Al menos un poco igualmente la reputación\n",
      "Certainty: 0.6536236154378168 Text: Mantengo mi posición anterior, de comentar las faltas y trabajar para mejorarlas en un próximo proyecto, pero np revelar en exceso de modo que no se genere una desconfianza y existan las posibilidades de beneficiar a la comunidad en el futuro.\n",
      "Certainty: 0.954226371715139 Text: Se busca la transparencia respecto lo pedido y posibles faltas en el proyecto sin embargo el como se comunique y la anterior reputación de la empresa puede salvar (en la teoría) de las consecuencias.\n",
      "\n",
      "\n",
      "Samples for topic  5\n",
      "Certainty: 0.9980598590454259 Text: Trate de negociar argumentando que la pandemia es una situacion excepcional\n",
      "Certainty: 0.233484044225021 Text: Se nos olvida que estamos hablando de un contexto de pandemia, en donde la gran parte de los eventos se atrasan, no se nos puede olvidar lo complicado que es esta situación. También pesa más las consecuencias de no haber tenido tiempo, implicando baja efectividad y luego una supuesta mala capacidad para proyectos de Alicia.\n",
      "Certainty: 0.20344701004436444 Text: Debido a que se necesita tener flexibilidad con respecto a la pandemia, para no terminar con un mal producto\n",
      "Certainty: 0.32795169002206975 Text: Una pandemia es un imprevisto el  cual no es 'solucionable' a corto plazo, por lo tanto ese tiempo debería ser recuperado aunque implique atrasar el plazo\n",
      "Certainty: 0.9353997811463567 Text: Deberían tener en cuenta que hay un contexto de pandemia, por lo que no pueden esperar que cumpla con los plazos\n",
      "\n",
      "\n",
      "Samples for topic  2\n",
      "Certainty: 0.8374673270645298 Text: Es importante realizar un proyecto que satisfaga todos los requisitos acordados, de esta manera podrá ser duradero y eficiente a través del tiempo, sin embargo, es necesario tomar en cuenta los plazos dada l urgencia de ciertos proyectos\n",
      "Certainty: 0.9427625619946561 Text: Si bien, respetar los plazos es algo esencial en todo aspecto, un proyecto de mala calidad no traería beneficios para nadie, por lo que siento que debería haber un término medio entre ambos parámetros.\n",
      "Certainty: 0.8584368567813666 Text: los plazos acordados deben ser la prioridad en los proyectos, incluyendo todo lo que se pueda mientras haya tiempo\n",
      "Certainty: 0.8348756195468414 Text: Encuentro que es una pregunta muy ambigua, ya que depende mucho de distintos factores como: que tanto tiempo más demoraría entregarlo bien, que tan posible es que haya una sanción contractual y que tan grave sería esta, que tan deficiente sería la calidad del proyecto en caso de entregarlo a tiempo y que tan grave es pasarse del plazo. No es lo mismo pasarse del plazo con un proyecto que mientras se construye afecta la vida de miles o millones de personas (debido a un cambio en su vida de una u otra forma) a un proyecto que pasa desapercibido en su construcción, como ejemplo. De todas formas encuentro importante respetar los plazos del proyecto ya que este nunca puede estar 100% perfecto.\n",
      "Certainty: 0.9080841971899679 Text: En vez de un 1, mejor un 2 ya que no podría perjudicar al proyecto, pero aún así me queda la espina de que puede suceder algo en un futuro y crearse un nuevo problema.\n",
      "\n",
      "\n"
     ]
    }
   ],
   "source": [
    "from TM_utils import get_k_random_samples_from_topic\n",
    "\n",
    "for topic in top_5_keys:\n",
    "    df_samples, certainties = get_k_random_samples_from_topic(df_test,output_test,topic)\n",
    "\n",
    "    print(\"Samples for topic \", topic)\n",
    "    for i in range(len(df_samples)):\n",
    "        print(\"Certainty:\",certainties[i],\"Text:\", df_samples.iloc[i]['comment'])\n",
    "    print('\\n')"
   ]
  },
  {
   "cell_type": "markdown",
   "metadata": {},
   "source": [
    "### Analizando correlaciones con selección de postura\n",
    "\n",
    "Por el momento binarizando la postura"
   ]
  },
  {
   "cell_type": "code",
   "execution_count": 24,
   "metadata": {},
   "outputs": [],
   "source": [
    "df_test.loc[(df_test['sel']==2) | (df_test['sel']==3),'sel'] = 1\n",
    "df_test.loc[(df_test['sel']==4) | (df_test['sel']==5),'sel'] = 6"
   ]
  },
  {
   "cell_type": "code",
   "execution_count": 25,
   "metadata": {},
   "outputs": [],
   "source": [
    "output_sel1 = model.transform(df_to_list(df_test[df_test['sel']==1],'comment',tokenizador))"
   ]
  },
  {
   "cell_type": "code",
   "execution_count": 26,
   "metadata": {},
   "outputs": [],
   "source": [
    "output_sel6 = model.transform(df_to_list(df_test[df_test['sel']==6],'comment',tokenizador))"
   ]
  },
  {
   "cell_type": "code",
   "execution_count": 27,
   "metadata": {},
   "outputs": [
    {
     "data": {
      "image/png": "[encoded data removed]",
      "text/plain": [
       "<Figure size 640x480 with 1 Axes>"
      ]
     },
     "metadata": {},
     "output_type": "display_data"
    }
   ],
   "source": [
    "plot_frecuencies(output_sel1[0],label=op_left)"
   ]
  },
  {
   "cell_type": "code",
   "execution_count": 28,
   "metadata": {},
   "outputs": [
    {
     "name": "stdout",
     "output_type": "stream",
     "text": [
      "Tópicos relevantes para postura: Priorizar criterios técnicos\n"
     ]
    },
    {
     "data": {
      "text/markdown": [
       "| Tópico | Probabilidad | Palabra 1 | Palabra 2 | Palabra 3 | Palabra 4 | Palabra 5 |\n",
       "| --- | --- | --- | --- | --- | --- | --- |\n",
       "| -1 | 0.36074270557029176 | proyecto | criterios | plazos | si | técnicos |\n",
       "| 0 | 0.21485411140583555 | alicia | proyecto | debería | debe | si |\n",
       "| 1 | 0.20424403183023873 | reputación | transparencia | ser | transparente | mantener |\n",
       "| 4 | 0.042440318302387266 | usuario | usuarios | proyecto | necesidades | criterios |\n",
       "| 2 | 0.034482758620689655 | proyecto | plazos | entregar | importante | bien |\n"
      ],
      "text/plain": [
       "<IPython.core.display.Markdown object>"
      ]
     },
     "metadata": {},
     "output_type": "display_data"
    }
   ],
   "source": [
    "top_5_keys, top_5_values = get_top_k_topics(output_sel1[0])\n",
    "\n",
    "print(\"Tópicos relevantes para postura: {}\".format(op_left))\n",
    "\n",
    "headers, data = get_table_top_topics(model,top_5_keys,top_5_values,max_w=5)\n",
    "print_table_md(headers, data)"
   ]
  },
  {
   "cell_type": "code",
   "execution_count": 29,
   "metadata": {},
   "outputs": [
    {
     "data": {
      "image/png": "[encoded data removed]",
      "text/plain": [
       "<Figure size 640x480 with 1 Axes>"
      ]
     },
     "metadata": {},
     "output_type": "display_data"
    }
   ],
   "source": [
    "plot_frecuencies(output_sel6[0],label=op_right)"
   ]
  },
  {
   "cell_type": "code",
   "execution_count": 30,
   "metadata": {},
   "outputs": [
    {
     "name": "stdout",
     "output_type": "stream",
     "text": [
      "Tópicos relevantes para postura: Priorizar plazos\n"
     ]
    },
    {
     "data": {
      "text/markdown": [
       "| Tópico | Probabilidad | Palabra 1 | Palabra 2 | Palabra 3 | Palabra 4 | Palabra 5 |\n",
       "| --- | --- | --- | --- | --- | --- | --- |\n",
       "| -1 | 0.3709677419354839 | proyecto | criterios | plazos | si | técnicos |\n",
       "| 0 | 0.27419354838709675 | alicia | proyecto | debería | debe | si |\n",
       "| 5 | 0.12903225806451613 | pandemia | contexto | condiciones | acuerdos | proyecto |\n",
       "| 10 | 0.06451612903225806 | contexto | condiciones | contextuales | proyecto | importante |\n",
       "| 3 | 0.056451612903225805 | acuerdos | cumplir | condiciones | contexto | acuerdo |\n"
      ],
      "text/plain": [
       "<IPython.core.display.Markdown object>"
      ]
     },
     "metadata": {},
     "output_type": "display_data"
    }
   ],
   "source": [
    "top_5_keys, top_5_values = get_top_k_topics(output_sel6[0])\n",
    "\n",
    "print(\"Tópicos relevantes para postura: {}\".format(op_right))\n",
    "\n",
    "headers, data = get_table_top_topics(model,top_5_keys,top_5_values,max_w=5)\n",
    "print_table_md(headers, data)"
   ]
  },
  {
   "cell_type": "markdown",
   "metadata": {},
   "source": [
    "### Correlaciones"
   ]
  },
  {
   "cell_type": "code",
   "execution_count": 31,
   "metadata": {},
   "outputs": [],
   "source": [
    "import pandas as pd\n",
    "\n",
    "df_test = df.iloc[test_indices]\n",
    "df_test['sel'].value_counts()\n",
    "\n",
    "arr_test = model.transform(df_to_list(df_test,'comment',tokenizador))[1]\n",
    "df_topics = pd.DataFrame(arr_test, columns=['Topic{}'.format(i+1) for i in range(24)])\n",
    "\n",
    "df_topics['sel'] = df_test['sel'].values"
   ]
  },
  {
   "cell_type": "code",
   "execution_count": 32,
   "metadata": {},
   "outputs": [
    {
     "name": "stdout",
     "output_type": "stream",
     "text": [
      "Feature-Target Correlations\n",
      "Topic1_sel: 0.015756397572885706\n",
      "Topic2_sel: -0.23783405620204057\n",
      "Topic3_sel: 0.010790238046978342\n",
      "Topic4_sel: 0.1505629038186321\n",
      "Topic5_sel: -0.046031705333791396\n",
      "Topic6_sel: 0.24077511417332315\n",
      "Topic7_sel: -0.0694392271061921\n",
      "Topic8_sel: -0.013750693039842363\n",
      "Topic9_sel: 0.012856463421820185\n",
      "Topic10_sel: 0.006937712979479507\n",
      "Topic11_sel: 0.21026512830057403\n",
      "Topic12_sel: 0.07115611333110283\n",
      "Topic13_sel: -0.0482335619294286\n",
      "Topic14_sel: -0.056543532390170057\n",
      "Topic15_sel: 0.11624411212609925\n",
      "Topic16_sel: -0.01963149489859377\n",
      "Topic17_sel: 0.002246047800889267\n",
      "Topic18_sel: 0.0445950075310119\n",
      "Topic19_sel: -0.009663928319222087\n",
      "Topic20_sel: -0.015312170470469956\n",
      "Topic21_sel: 0.04795442236089221\n",
      "Topic22_sel: 0.022075590619253578\n",
      "Topic23_sel: 0.04257558452799318\n",
      "Topic24_sel: 0.04880900690197362\n"
     ]
    }
   ],
   "source": [
    "from scipy.stats import pearsonr\n",
    "\n",
    "# Only compute pearson prod-moment correlations between feature\n",
    "# columns and target column\n",
    "target_col_name = 'sel'\n",
    "feature_target_corr = {}\n",
    "for col in df_topics:\n",
    "    if target_col_name != col:\n",
    "        feature_target_corr[col + '_' + target_col_name] = \\\n",
    "            pearsonr(df_topics[col], df_topics[target_col_name])[0]\n",
    "print(\"Feature-Target Correlations\")\n",
    "\n",
    "for k in feature_target_corr.keys():\n",
    "    print(k+': '+str(feature_target_corr[k]))"
   ]
  },
  {
   "cell_type": "markdown",
   "metadata": {},
   "source": [
    "Guardando el modelo"
   ]
  },
  {
   "cell_type": "code",
   "execution_count": 33,
   "metadata": {},
   "outputs": [],
   "source": [
    "model.save(\"modelos/BT-{}.bertopic\".format(caso))"
   ]
  },
  {
   "cell_type": "markdown",
   "metadata": {},
   "source": [
    "Para cargar:\n",
    "\n",
    "`my_model = BERTopic.load(\"modelos/BT-caso.bertopic\")`"
   ]
  }
 ],
 "metadata": {
  "kernelspec": {
   "display_name": "ethics_env",
   "language": "python",
   "name": "ethics_env"
  },
  "language_info": {
   "codemirror_mode": {
    "name": "ipython",
    "version": 3
   },
   "file_extension": ".py",
   "mimetype": "text/x-python",
   "name": "python",
   "nbconvert_exporter": "python",
   "pygments_lexer": "ipython3",
   "version": "3.9.15"
  },
  "orig_nbformat": 4
 },
 "nbformat": 4,
 "nbformat_minor": 2
}
