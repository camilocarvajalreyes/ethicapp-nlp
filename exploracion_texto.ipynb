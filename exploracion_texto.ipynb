{
 "cells": [
  {
   "cell_type": "markdown",
   "metadata": {},
   "source": [
    "# Exploración de archivos"
   ]
  },
  {
   "cell_type": "code",
   "execution_count": 1,
   "metadata": {},
   "outputs": [],
   "source": [
    "import pandas as pd"
   ]
  },
  {
   "cell_type": "code",
   "execution_count": 8,
   "metadata": {},
   "outputs": [
    {
     "data": {
      "text/html": [
       "<div>\n",
       "<style scoped>\n",
       "    .dataframe tbody tr th:only-of-type {\n",
       "        vertical-align: middle;\n",
       "    }\n",
       "\n",
       "    .dataframe tbody tr th {\n",
       "        vertical-align: top;\n",
       "    }\n",
       "\n",
       "    .dataframe thead th {\n",
       "        text-align: right;\n",
       "    }\n",
       "</style>\n",
       "<table border=\"1\" class=\"dataframe\">\n",
       "  <thead>\n",
       "    <tr style=\"text-align: right;\">\n",
       "      <th></th>\n",
       "      <th>user_id</th>\n",
       "      <th>team_id</th>\n",
       "      <th>gender</th>\n",
       "      <th>df</th>\n",
       "      <th>title</th>\n",
       "      <th>opt_left</th>\n",
       "      <th>opt_right</th>\n",
       "      <th>max_num</th>\n",
       "      <th>sel</th>\n",
       "      <th>comment</th>\n",
       "      <th>phase</th>\n",
       "      <th>time</th>\n",
       "    </tr>\n",
       "    <tr>\n",
       "      <th>id</th>\n",
       "      <th></th>\n",
       "      <th></th>\n",
       "      <th></th>\n",
       "      <th></th>\n",
       "      <th></th>\n",
       "      <th></th>\n",
       "      <th></th>\n",
       "      <th></th>\n",
       "      <th></th>\n",
       "      <th></th>\n",
       "      <th></th>\n",
       "      <th></th>\n",
       "    </tr>\n",
       "  </thead>\n",
       "  <tbody>\n",
       "    <tr>\n",
       "      <th>5055</th>\n",
       "      <td>1510</td>\n",
       "      <td>NaN</td>\n",
       "      <td>F</td>\n",
       "      <td>1</td>\n",
       "      <td>Es adecuado que Laura le dedique paulatinament...</td>\n",
       "      <td>Ajustar dedicación</td>\n",
       "      <td>Mantener dedicación</td>\n",
       "      <td>6</td>\n",
       "      <td>2</td>\n",
       "      <td>NaN</td>\n",
       "      <td>1</td>\n",
       "      <td>2020-09-26T21:20:21.703Z</td>\n",
       "    </tr>\n",
       "    <tr>\n",
       "      <th>5058</th>\n",
       "      <td>1462</td>\n",
       "      <td>NaN</td>\n",
       "      <td>F</td>\n",
       "      <td>1</td>\n",
       "      <td>Es adecuado que Laura le dedique paulatinament...</td>\n",
       "      <td>Ajustar dedicación</td>\n",
       "      <td>Mantener dedicación</td>\n",
       "      <td>6</td>\n",
       "      <td>4</td>\n",
       "      <td>NaN</td>\n",
       "      <td>1</td>\n",
       "      <td>2020-09-26T21:20:24.146Z</td>\n",
       "    </tr>\n",
       "    <tr>\n",
       "      <th>5059</th>\n",
       "      <td>1587</td>\n",
       "      <td>NaN</td>\n",
       "      <td>F</td>\n",
       "      <td>1</td>\n",
       "      <td>Es adecuado que Laura le dedique paulatinament...</td>\n",
       "      <td>Ajustar dedicación</td>\n",
       "      <td>Mantener dedicación</td>\n",
       "      <td>6</td>\n",
       "      <td>3</td>\n",
       "      <td>NaN</td>\n",
       "      <td>1</td>\n",
       "      <td>2020-09-26T21:20:25.389Z</td>\n",
       "    </tr>\n",
       "    <tr>\n",
       "      <th>5070</th>\n",
       "      <td>1517</td>\n",
       "      <td>NaN</td>\n",
       "      <td>F</td>\n",
       "      <td>1</td>\n",
       "      <td>Es adecuado que Laura le dedique paulatinament...</td>\n",
       "      <td>Ajustar dedicación</td>\n",
       "      <td>Mantener dedicación</td>\n",
       "      <td>6</td>\n",
       "      <td>3</td>\n",
       "      <td>NaN</td>\n",
       "      <td>1</td>\n",
       "      <td>2020-09-26T21:20:34.430Z</td>\n",
       "    </tr>\n",
       "    <tr>\n",
       "      <th>5074</th>\n",
       "      <td>1510</td>\n",
       "      <td>NaN</td>\n",
       "      <td>F</td>\n",
       "      <td>2</td>\n",
       "      <td>Respecto de los ingenieros que renuncian al pr...</td>\n",
       "      <td>Renunciar al proyecto</td>\n",
       "      <td>Quedarse en el proyecto</td>\n",
       "      <td>6</td>\n",
       "      <td>1</td>\n",
       "      <td>Ya que cada persona es libre de decidir si con...</td>\n",
       "      <td>1</td>\n",
       "      <td>2020-09-26T21:20:45.437Z</td>\n",
       "    </tr>\n",
       "  </tbody>\n",
       "</table>\n",
       "</div>"
      ],
      "text/plain": [
       "      user_id  team_id gender  df  \\\n",
       "id                                  \n",
       "5055     1510      NaN      F   1   \n",
       "5058     1462      NaN      F   1   \n",
       "5059     1587      NaN      F   1   \n",
       "5070     1517      NaN      F   1   \n",
       "5074     1510      NaN      F   2   \n",
       "\n",
       "                                                  title  \\\n",
       "id                                                        \n",
       "5055  Es adecuado que Laura le dedique paulatinament...   \n",
       "5058  Es adecuado que Laura le dedique paulatinament...   \n",
       "5059  Es adecuado que Laura le dedique paulatinament...   \n",
       "5070  Es adecuado que Laura le dedique paulatinament...   \n",
       "5074  Respecto de los ingenieros que renuncian al pr...   \n",
       "\n",
       "                   opt_left                opt_right  max_num  sel  \\\n",
       "id                                                                   \n",
       "5055     Ajustar dedicación      Mantener dedicación        6    2   \n",
       "5058     Ajustar dedicación      Mantener dedicación        6    4   \n",
       "5059     Ajustar dedicación      Mantener dedicación        6    3   \n",
       "5070     Ajustar dedicación      Mantener dedicación        6    3   \n",
       "5074  Renunciar al proyecto  Quedarse en el proyecto        6    1   \n",
       "\n",
       "                                                comment  phase  \\\n",
       "id                                                               \n",
       "5055                                                NaN      1   \n",
       "5058                                                NaN      1   \n",
       "5059                                                NaN      1   \n",
       "5070                                                NaN      1   \n",
       "5074  Ya que cada persona es libre de decidir si con...      1   \n",
       "\n",
       "                          time  \n",
       "id                              \n",
       "5055  2020-09-26T21:20:21.703Z  \n",
       "5058  2020-09-26T21:20:24.146Z  \n",
       "5059  2020-09-26T21:20:25.389Z  \n",
       "5070  2020-09-26T21:20:34.430Z  \n",
       "5074  2020-09-26T21:20:45.437Z  "
      ]
     },
     "execution_count": 8,
     "metadata": {},
     "output_type": "execute_result"
    }
   ],
   "source": [
    "folder = 'datos_EthicApp/2020.CD2201/'\n",
    "ejemplo = '2020.CD2201.04.A2.csv'\n",
    "\n",
    "df = pd.read_csv(folder + ejemplo, delimiter=';',index_col='id')\n",
    "df = df.drop(columns=['name','rut'])\n",
    "df.head()"
   ]
  },
  {
   "cell_type": "code",
   "execution_count": 15,
   "metadata": {},
   "outputs": [
    {
     "name": "stdout",
     "output_type": "stream",
     "text": [
      "Es adecuado que Laura le dedique paulatinamente más tiempo al trabajo y su desarrollo profesional que a la familia y las otras dimensiones de su vida.\n",
      "\n",
      "Respecto de los ingenieros que renuncian al proyecto debido al impacto generado, ¿qué decisión le parece más correcta?\n",
      "\n",
      "Fue adecuado que Laura ante al error cometido en su anterior trabajo haya renunciado.\n",
      "\n"
     ]
    }
   ],
   "source": [
    "for title in df['title'].unique():\n",
    "    print(title+'\\n')"
   ]
  },
  {
   "cell_type": "code",
   "execution_count": 9,
   "metadata": {},
   "outputs": [
    {
     "name": "stdout",
     "output_type": "stream",
     "text": [
      "Cantidad de respuestas: 815\n"
     ]
    }
   ],
   "source": [
    "print(\"Cantidad de respuestas: {}\".format(len(df)))"
   ]
  },
  {
   "cell_type": "code",
   "execution_count": 10,
   "metadata": {},
   "outputs": [
    {
     "name": "stdout",
     "output_type": "stream",
     "text": [
      "Cantidad de valores nulos por columna:\n"
     ]
    },
    {
     "data": {
      "text/plain": [
       "user_id        0\n",
       "team_id      261\n",
       "gender         0\n",
       "df             0\n",
       "title          0\n",
       "opt_left       0\n",
       "opt_right      0\n",
       "max_num        0\n",
       "sel            0\n",
       "comment      225\n",
       "phase          0\n",
       "time           0\n",
       "dtype: int64"
      ]
     },
     "metadata": {},
     "output_type": "display_data"
    },
    {
     "name": "stdout",
     "output_type": "stream",
     "text": [
      "Cantidad de valores únicos por columna:\n"
     ]
    },
    {
     "data": {
      "text/plain": [
       "user_id      102\n",
       "team_id       68\n",
       "gender         3\n",
       "df             3\n",
       "title          3\n",
       "opt_left       3\n",
       "opt_right      3\n",
       "max_num        2\n",
       "sel            7\n",
       "comment      394\n",
       "phase          3\n",
       "time         815\n",
       "dtype: int64"
      ]
     },
     "metadata": {},
     "output_type": "display_data"
    }
   ],
   "source": [
    "print('Cantidad de valores nulos por columna:')\n",
    "display(df.isna().sum())\n",
    "print('Cantidad de valores únicos por columna:')\n",
    "display(df.nunique())"
   ]
  },
  {
   "cell_type": "code",
   "execution_count": 11,
   "metadata": {},
   "outputs": [
    {
     "name": "stdout",
     "output_type": "stream",
     "text": [
      "Cantidad de respuestas con texto: 395\n"
     ]
    }
   ],
   "source": [
    "df = df.drop_duplicates('comment')\n",
    "print(\"Cantidad de respuestas con texto: {}\".format(len(df)))"
   ]
  }
 ],
 "metadata": {
  "kernelspec": {
   "display_name": "Python 3.9.15 ('ethics_env')",
   "language": "python",
   "name": "python3"
  },
  "language_info": {
   "codemirror_mode": {
    "name": "ipython",
    "version": 3
   },
   "file_extension": ".py",
   "mimetype": "text/x-python",
   "name": "python",
   "nbconvert_exporter": "python",
   "pygments_lexer": "ipython3",
   "version": "3.9.15"
  },
  "orig_nbformat": 4,
  "vscode": {
   "interpreter": {
    "hash": "08272ed7d124a6c15383313cf85567b7b0b2ce20f677d16e1617f2c90fdfff36"
   }
  }
 },
 "nbformat": 4,
 "nbformat_minor": 2
}
