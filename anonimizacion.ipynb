{
 "cells": [
  {
   "cell_type": "code",
   "execution_count": 1,
   "metadata": {},
   "outputs": [
    {
     "name": "stdout",
     "output_type": "stream",
     "text": [
      "75 rows found with non string elements for column comment (0.58%)\n",
      "Deleting 1055 columns for which max target value is over 7 (8.16%)\n",
      "11803 available rows after processing\n"
     ]
    },
    {
     "data": {
      "text/html": [
       "<div>\n",
       "<style scoped>\n",
       "    .dataframe tbody tr th:only-of-type {\n",
       "        vertical-align: middle;\n",
       "    }\n",
       "\n",
       "    .dataframe tbody tr th {\n",
       "        vertical-align: top;\n",
       "    }\n",
       "\n",
       "    .dataframe thead th {\n",
       "        text-align: right;\n",
       "    }\n",
       "</style>\n",
       "<table border=\"1\" class=\"dataframe\">\n",
       "  <thead>\n",
       "    <tr style=\"text-align: right;\">\n",
       "      <th></th>\n",
       "      <th>user_id</th>\n",
       "      <th>team_id</th>\n",
       "      <th>gender</th>\n",
       "      <th>df</th>\n",
       "      <th>title</th>\n",
       "      <th>opt_left</th>\n",
       "      <th>opt_right</th>\n",
       "      <th>max_num</th>\n",
       "      <th>sel</th>\n",
       "      <th>comment</th>\n",
       "      <th>phase</th>\n",
       "      <th>time</th>\n",
       "      <th>curso</th>\n",
       "    </tr>\n",
       "    <tr>\n",
       "      <th>id</th>\n",
       "      <th></th>\n",
       "      <th></th>\n",
       "      <th></th>\n",
       "      <th></th>\n",
       "      <th></th>\n",
       "      <th></th>\n",
       "      <th></th>\n",
       "      <th></th>\n",
       "      <th></th>\n",
       "      <th></th>\n",
       "      <th></th>\n",
       "      <th></th>\n",
       "      <th></th>\n",
       "    </tr>\n",
       "  </thead>\n",
       "  <tbody>\n",
       "    <tr>\n",
       "      <th>26261</th>\n",
       "      <td>4238</td>\n",
       "      <td>NaN</td>\n",
       "      <td>M</td>\n",
       "      <td>1</td>\n",
       "      <td>Adela es una ingeniera que es parte de una sta...</td>\n",
       "      <td>Preservar el recurso natural escaso</td>\n",
       "      <td>Beneficiar la salud de niños y ancianos</td>\n",
       "      <td>6</td>\n",
       "      <td>3</td>\n",
       "      <td>A pesar de que es importante la salud de esa p...</td>\n",
       "      <td>1</td>\n",
       "      <td>2021-11-10T21:00:31.008Z</td>\n",
       "      <td>2021.CD2201</td>\n",
       "    </tr>\n",
       "    <tr>\n",
       "      <th>26262</th>\n",
       "      <td>4227</td>\n",
       "      <td>NaN</td>\n",
       "      <td>F</td>\n",
       "      <td>1</td>\n",
       "      <td>Adela es una ingeniera que es parte de una sta...</td>\n",
       "      <td>Preservar el recurso natural escaso</td>\n",
       "      <td>Beneficiar la salud de niños y ancianos</td>\n",
       "      <td>6</td>\n",
       "      <td>1</td>\n",
       "      <td>Creo que debería priorizar totalmente preserva...</td>\n",
       "      <td>1</td>\n",
       "      <td>2021-11-10T21:03:04.192Z</td>\n",
       "      <td>2021.CD2201</td>\n",
       "    </tr>\n",
       "    <tr>\n",
       "      <th>26264</th>\n",
       "      <td>4232</td>\n",
       "      <td>NaN</td>\n",
       "      <td>F</td>\n",
       "      <td>1</td>\n",
       "      <td>Adela es una ingeniera que es parte de una sta...</td>\n",
       "      <td>Preservar el recurso natural escaso</td>\n",
       "      <td>Beneficiar la salud de niños y ancianos</td>\n",
       "      <td>6</td>\n",
       "      <td>1</td>\n",
       "      <td>Existen otras fuentes de vitamina D o podrían ...</td>\n",
       "      <td>1</td>\n",
       "      <td>2021-11-10T21:03:31.124Z</td>\n",
       "      <td>2021.CD2201</td>\n",
       "    </tr>\n",
       "    <tr>\n",
       "      <th>26265</th>\n",
       "      <td>4239</td>\n",
       "      <td>NaN</td>\n",
       "      <td>M</td>\n",
       "      <td>1</td>\n",
       "      <td>Adela es una ingeniera que es parte de una sta...</td>\n",
       "      <td>Preservar el recurso natural escaso</td>\n",
       "      <td>Beneficiar la salud de niños y ancianos</td>\n",
       "      <td>6</td>\n",
       "      <td>2</td>\n",
       "      <td>dañar una localidad completa limitándoles el u...</td>\n",
       "      <td>1</td>\n",
       "      <td>2021-11-10T21:03:36.038Z</td>\n",
       "      <td>2021.CD2201</td>\n",
       "    </tr>\n",
       "    <tr>\n",
       "      <th>26267</th>\n",
       "      <td>4231</td>\n",
       "      <td>NaN</td>\n",
       "      <td>M</td>\n",
       "      <td>1</td>\n",
       "      <td>Adela es una ingeniera que es parte de una sta...</td>\n",
       "      <td>Preservar el recurso natural escaso</td>\n",
       "      <td>Beneficiar la salud de niños y ancianos</td>\n",
       "      <td>6</td>\n",
       "      <td>2</td>\n",
       "      <td>A mi modo de ver preservar el recurso natural ...</td>\n",
       "      <td>1</td>\n",
       "      <td>2021-11-10T21:04:14.600Z</td>\n",
       "      <td>2021.CD2201</td>\n",
       "    </tr>\n",
       "  </tbody>\n",
       "</table>\n",
       "</div>"
      ],
      "text/plain": [
       "       user_id  team_id gender  df  \\\n",
       "id                                   \n",
       "26261     4238      NaN      M   1   \n",
       "26262     4227      NaN      F   1   \n",
       "26264     4232      NaN      F   1   \n",
       "26265     4239      NaN      M   1   \n",
       "26267     4231      NaN      M   1   \n",
       "\n",
       "                                                   title  \\\n",
       "id                                                         \n",
       "26261  Adela es una ingeniera que es parte de una sta...   \n",
       "26262  Adela es una ingeniera que es parte de una sta...   \n",
       "26264  Adela es una ingeniera que es parte de una sta...   \n",
       "26265  Adela es una ingeniera que es parte de una sta...   \n",
       "26267  Adela es una ingeniera que es parte de una sta...   \n",
       "\n",
       "                                  opt_left  \\\n",
       "id                                           \n",
       "26261  Preservar el recurso natural escaso   \n",
       "26262  Preservar el recurso natural escaso   \n",
       "26264  Preservar el recurso natural escaso   \n",
       "26265  Preservar el recurso natural escaso   \n",
       "26267  Preservar el recurso natural escaso   \n",
       "\n",
       "                                     opt_right  max_num  sel  \\\n",
       "id                                                             \n",
       "26261  Beneficiar la salud de niños y ancianos        6    3   \n",
       "26262  Beneficiar la salud de niños y ancianos        6    1   \n",
       "26264  Beneficiar la salud de niños y ancianos        6    1   \n",
       "26265  Beneficiar la salud de niños y ancianos        6    2   \n",
       "26267  Beneficiar la salud de niños y ancianos        6    2   \n",
       "\n",
       "                                                 comment  phase  \\\n",
       "id                                                                \n",
       "26261  A pesar de que es importante la salud de esa p...      1   \n",
       "26262  Creo que debería priorizar totalmente preserva...      1   \n",
       "26264  Existen otras fuentes de vitamina D o podrían ...      1   \n",
       "26265  dañar una localidad completa limitándoles el u...      1   \n",
       "26267  A mi modo de ver preservar el recurso natural ...      1   \n",
       "\n",
       "                           time        curso  \n",
       "id                                            \n",
       "26261  2021-11-10T21:00:31.008Z  2021.CD2201  \n",
       "26262  2021-11-10T21:03:04.192Z  2021.CD2201  \n",
       "26264  2021-11-10T21:03:31.124Z  2021.CD2201  \n",
       "26265  2021-11-10T21:03:36.038Z  2021.CD2201  \n",
       "26267  2021-11-10T21:04:14.600Z  2021.CD2201  "
      ]
     },
     "execution_count": 1,
     "metadata": {},
     "output_type": "execute_result"
    }
   ],
   "source": [
    "import sys\n",
    "sys.path.insert(0, '..')\n",
    "from utils.cargar import df_caso\n",
    "from utils.preprocesamiento import process_df, procesar_adela\n",
    "\n",
    "caso = 'adela'\n",
    "df = df_caso(caso)\n",
    "\n",
    "df = procesar_adela(df)\n",
    "df = process_df(df,'comment','sel')\n",
    "# df = df[df['opt_left'] == 'Producir el alimento contra déficit vitamínico']\n",
    "\n",
    "df.head()"
   ]
  },
  {
   "cell_type": "code",
   "execution_count": 2,
   "metadata": {},
   "outputs": [
    {
     "data": {
      "text/plain": [
       "phase\n",
       "3    3238\n",
       "2    3017\n",
       "4    3015\n",
       "1    2123\n",
       "5     180\n",
       "6     180\n",
       "7      50\n",
       "Name: count, dtype: int64"
      ]
     },
     "execution_count": 2,
     "metadata": {},
     "output_type": "execute_result"
    }
   ],
   "source": [
    "df['phase'].value_counts()"
   ]
  },
  {
   "cell_type": "code",
   "execution_count": 2,
   "metadata": {},
   "outputs": [
    {
     "name": "stdout",
     "output_type": "stream",
     "text": [
      "[Acordar entre todas/os la respuesta, discutiendo vía chat de forma anónima, aspectos ya considerados u otros no considerados en las preguntas anteriores. Es decir, todos deben elegir el mismo valor numérico en la respuesta, aun cuando cada uno pueda proporcionar argumentos de justificación diferentes] [Justificación de mínimo 40 palabras] Considerando la futura población beneficiada por este nuevo alimento y los efectos generados a las tradiciones identitarias del pueblo originario del caso, Adela debería priorizar... :\n",
      "1\tProducir el alimento contra déficit vitamínico\n",
      "6\tResguardar las tradiciones identitarias\n"
     ]
    }
   ],
   "source": [
    "print(df['title'].unique()[-1])\n",
    "print('1\\t'+df['opt_left'].unique()[-1])\n",
    "print(str(df['max_num'].unique()[-1])+'\\t'+df['opt_right'].unique()[-1])"
   ]
  },
  {
   "cell_type": "code",
   "execution_count": 4,
   "metadata": {},
   "outputs": [],
   "source": [
    "df.to_csv(\"datos_EthicApp/MDS7201/{}.csv\".format(caso))"
   ]
  },
  {
   "cell_type": "code",
   "execution_count": 5,
   "metadata": {},
   "outputs": [
    {
     "data": {
      "text/plain": [
       "opt_left\n",
       "Preservar el recurso natural escaso               6042\n",
       "Producir el alimento contra déficit vitamínico    5761\n",
       "Name: count, dtype: int64"
      ]
     },
     "execution_count": 5,
     "metadata": {},
     "output_type": "execute_result"
    }
   ],
   "source": [
    "df['opt_left'].value_counts()"
   ]
  },
  {
   "cell_type": "markdown",
   "metadata": {},
   "source": [
    "---"
   ]
  },
  {
   "cell_type": "code",
   "execution_count": null,
   "metadata": {},
   "outputs": [],
   "source": [
    "caso = 'alicia'\n",
    "df = df_caso(caso)\n",
    "\n",
    "df = process_df(df)\n",
    "df = df[df['opt_left'] == 'Producir el alimento contra déficit vitamínico']\n",
    "\n",
    "df.head()"
   ]
  }
 ],
 "metadata": {
  "kernelspec": {
   "display_name": "ethics_env",
   "language": "python",
   "name": "ethics_env"
  },
  "language_info": {
   "codemirror_mode": {
    "name": "ipython",
    "version": 3
   },
   "file_extension": ".py",
   "mimetype": "text/x-python",
   "name": "python",
   "nbconvert_exporter": "python",
   "pygments_lexer": "ipython3",
   "version": "3.9.15"
  },
  "orig_nbformat": 4
 },
 "nbformat": 4,
 "nbformat_minor": 2
}
