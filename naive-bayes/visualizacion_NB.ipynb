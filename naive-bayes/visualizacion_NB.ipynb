{
 "cells": [
  {
   "cell_type": "markdown",
   "metadata": {},
   "source": [
    "# Ejemplo de visualización usando Naive-Bayes\n",
    "\n",
    "## Preliminar"
   ]
  },
  {
   "cell_type": "code",
   "execution_count": 1,
   "metadata": {},
   "outputs": [
    {
     "name": "stderr",
     "output_type": "stream",
     "text": [
      "/home/camilo/miniconda3/envs/ethics_env/lib/python3.9/site-packages/sklearn/feature_extraction/text.py:528: UserWarning: The parameter 'token_pattern' will not be used since 'tokenizer' is not None'\n",
      "  warnings.warn(\n"
     ]
    },
    {
     "data": {
      "text/html": [
       "<style>#sk-container-id-1 {color: black;background-color: white;}#sk-container-id-1 pre{padding: 0;}#sk-container-id-1 div.sk-toggleable {background-color: white;}#sk-container-id-1 label.sk-toggleable__label {cursor: pointer;display: block;width: 100%;margin-bottom: 0;padding: 0.3em;box-sizing: border-box;text-align: center;}#sk-container-id-1 label.sk-toggleable__label-arrow:before {content: \"▸\";float: left;margin-right: 0.25em;color: #696969;}#sk-container-id-1 label.sk-toggleable__label-arrow:hover:before {color: black;}#sk-container-id-1 div.sk-estimator:hover label.sk-toggleable__label-arrow:before {color: black;}#sk-container-id-1 div.sk-toggleable__content {max-height: 0;max-width: 0;overflow: hidden;text-align: left;background-color: #f0f8ff;}#sk-container-id-1 div.sk-toggleable__content pre {margin: 0.2em;color: black;border-radius: 0.25em;background-color: #f0f8ff;}#sk-container-id-1 input.sk-toggleable__control:checked~div.sk-toggleable__content {max-height: 200px;max-width: 100%;overflow: auto;}#sk-container-id-1 input.sk-toggleable__control:checked~label.sk-toggleable__label-arrow:before {content: \"▾\";}#sk-container-id-1 div.sk-estimator input.sk-toggleable__control:checked~label.sk-toggleable__label {background-color: #d4ebff;}#sk-container-id-1 div.sk-label input.sk-toggleable__control:checked~label.sk-toggleable__label {background-color: #d4ebff;}#sk-container-id-1 input.sk-hidden--visually {border: 0;clip: rect(1px 1px 1px 1px);clip: rect(1px, 1px, 1px, 1px);height: 1px;margin: -1px;overflow: hidden;padding: 0;position: absolute;width: 1px;}#sk-container-id-1 div.sk-estimator {font-family: monospace;background-color: #f0f8ff;border: 1px dotted black;border-radius: 0.25em;box-sizing: border-box;margin-bottom: 0.5em;}#sk-container-id-1 div.sk-estimator:hover {background-color: #d4ebff;}#sk-container-id-1 div.sk-parallel-item::after {content: \"\";width: 100%;border-bottom: 1px solid gray;flex-grow: 1;}#sk-container-id-1 div.sk-label:hover label.sk-toggleable__label {background-color: #d4ebff;}#sk-container-id-1 div.sk-serial::before {content: \"\";position: absolute;border-left: 1px solid gray;box-sizing: border-box;top: 0;bottom: 0;left: 50%;z-index: 0;}#sk-container-id-1 div.sk-serial {display: flex;flex-direction: column;align-items: center;background-color: white;padding-right: 0.2em;padding-left: 0.2em;position: relative;}#sk-container-id-1 div.sk-item {position: relative;z-index: 1;}#sk-container-id-1 div.sk-parallel {display: flex;align-items: stretch;justify-content: center;background-color: white;position: relative;}#sk-container-id-1 div.sk-item::before, #sk-container-id-1 div.sk-parallel-item::before {content: \"\";position: absolute;border-left: 1px solid gray;box-sizing: border-box;top: 0;bottom: 0;left: 50%;z-index: -1;}#sk-container-id-1 div.sk-parallel-item {display: flex;flex-direction: column;z-index: 1;position: relative;background-color: white;}#sk-container-id-1 div.sk-parallel-item:first-child::after {align-self: flex-end;width: 50%;}#sk-container-id-1 div.sk-parallel-item:last-child::after {align-self: flex-start;width: 50%;}#sk-container-id-1 div.sk-parallel-item:only-child::after {width: 0;}#sk-container-id-1 div.sk-dashed-wrapped {border: 1px dashed gray;margin: 0 0.4em 0.5em 0.4em;box-sizing: border-box;padding-bottom: 0.4em;background-color: white;}#sk-container-id-1 div.sk-label label {font-family: monospace;font-weight: bold;display: inline-block;line-height: 1.2em;}#sk-container-id-1 div.sk-label-container {text-align: center;}#sk-container-id-1 div.sk-container {/* jupyter's `normalize.less` sets `[hidden] { display: none; }` but bootstrap.min.css set `[hidden] { display: none !important; }` so we also need the `!important` here to be able to override the default hidden behavior on the sphinx rendered scikit-learn.org. See: https://github.com/scikit-learn/scikit-learn/issues/21755 */display: inline-block !important;position: relative;}#sk-container-id-1 div.sk-text-repr-fallback {display: none;}</style><div id=\"sk-container-id-1\" class=\"sk-top-container\"><div class=\"sk-text-repr-fallback\"><pre>Pipeline(steps=[(&#x27;Preprocessing&#x27;,\n",
       "                 ColumnTransformer(transformers=[(&#x27;bag-of-words&#x27;,\n",
       "                                                  CountVectorizer(min_df=10,\n",
       "                                                                  ngram_range=(1,\n",
       "                                                                               2),\n",
       "                                                                  tokenizer=&lt;utils.preprocesamiento.StemmerTokenizer object at 0x7ff908693940&gt;),\n",
       "                                                  &#x27;comment&#x27;)])),\n",
       "                (&#x27;Clasificador&#x27;, MultinomialNB())])</pre><b>In a Jupyter environment, please rerun this cell to show the HTML representation or trust the notebook. <br />On GitHub, the HTML representation is unable to render, please try loading this page with nbviewer.org.</b></div><div class=\"sk-container\" hidden><div class=\"sk-item sk-dashed-wrapped\"><div class=\"sk-label-container\"><div class=\"sk-label sk-toggleable\"><input class=\"sk-toggleable__control sk-hidden--visually\" id=\"sk-estimator-id-1\" type=\"checkbox\" ><label for=\"sk-estimator-id-1\" class=\"sk-toggleable__label sk-toggleable__label-arrow\">Pipeline</label><div class=\"sk-toggleable__content\"><pre>Pipeline(steps=[(&#x27;Preprocessing&#x27;,\n",
       "                 ColumnTransformer(transformers=[(&#x27;bag-of-words&#x27;,\n",
       "                                                  CountVectorizer(min_df=10,\n",
       "                                                                  ngram_range=(1,\n",
       "                                                                               2),\n",
       "                                                                  tokenizer=&lt;utils.preprocesamiento.StemmerTokenizer object at 0x7ff908693940&gt;),\n",
       "                                                  &#x27;comment&#x27;)])),\n",
       "                (&#x27;Clasificador&#x27;, MultinomialNB())])</pre></div></div></div><div class=\"sk-serial\"><div class=\"sk-item sk-dashed-wrapped\"><div class=\"sk-label-container\"><div class=\"sk-label sk-toggleable\"><input class=\"sk-toggleable__control sk-hidden--visually\" id=\"sk-estimator-id-2\" type=\"checkbox\" ><label for=\"sk-estimator-id-2\" class=\"sk-toggleable__label sk-toggleable__label-arrow\">Preprocessing: ColumnTransformer</label><div class=\"sk-toggleable__content\"><pre>ColumnTransformer(transformers=[(&#x27;bag-of-words&#x27;,\n",
       "                                 CountVectorizer(min_df=10, ngram_range=(1, 2),\n",
       "                                                 tokenizer=&lt;utils.preprocesamiento.StemmerTokenizer object at 0x7ff908693940&gt;),\n",
       "                                 &#x27;comment&#x27;)])</pre></div></div></div><div class=\"sk-parallel\"><div class=\"sk-parallel-item\"><div class=\"sk-item\"><div class=\"sk-label-container\"><div class=\"sk-label sk-toggleable\"><input class=\"sk-toggleable__control sk-hidden--visually\" id=\"sk-estimator-id-3\" type=\"checkbox\" ><label for=\"sk-estimator-id-3\" class=\"sk-toggleable__label sk-toggleable__label-arrow\">bag-of-words</label><div class=\"sk-toggleable__content\"><pre>comment</pre></div></div></div><div class=\"sk-serial\"><div class=\"sk-item\"><div class=\"sk-estimator sk-toggleable\"><input class=\"sk-toggleable__control sk-hidden--visually\" id=\"sk-estimator-id-4\" type=\"checkbox\" ><label for=\"sk-estimator-id-4\" class=\"sk-toggleable__label sk-toggleable__label-arrow\">CountVectorizer</label><div class=\"sk-toggleable__content\"><pre>CountVectorizer(min_df=10, ngram_range=(1, 2),\n",
       "                tokenizer=&lt;utils.preprocesamiento.StemmerTokenizer object at 0x7ff908693940&gt;)</pre></div></div></div></div></div></div></div></div><div class=\"sk-item\"><div class=\"sk-estimator sk-toggleable\"><input class=\"sk-toggleable__control sk-hidden--visually\" id=\"sk-estimator-id-5\" type=\"checkbox\" ><label for=\"sk-estimator-id-5\" class=\"sk-toggleable__label sk-toggleable__label-arrow\">MultinomialNB</label><div class=\"sk-toggleable__content\"><pre>MultinomialNB()</pre></div></div></div></div></div></div></div>"
      ],
      "text/plain": [
       "Pipeline(steps=[('Preprocessing',\n",
       "                 ColumnTransformer(transformers=[('bag-of-words',\n",
       "                                                  CountVectorizer(min_df=10,\n",
       "                                                                  ngram_range=(1,\n",
       "                                                                               2),\n",
       "                                                                  tokenizer=<utils.preprocesamiento.StemmerTokenizer object at 0x7ff908693940>),\n",
       "                                                  'comment')])),\n",
       "                ('Clasificador', MultinomialNB())])"
      ]
     },
     "execution_count": 1,
     "metadata": {},
     "output_type": "execute_result"
    }
   ],
   "source": [
    "import sys\n",
    "sys.path.insert(0, '..')\n",
    "from utils.preprocesamiento import StemmerTokenizer, make_BoW_preprocess\n",
    "\n",
    "\n",
    "tokenizador = StemmerTokenizer(stem=False)\n",
    "\n",
    "# preprocessing = make_BoW_preprocess(tokenizador,'comment',max_ngram=1,min_ngram=1,mindf=10)\n",
    "\n",
    "from sklearn.naive_bayes import MultinomialNB\n",
    "from sklearn.feature_selection import SelectPercentile, f_classif\n",
    "from sklearn.pipeline import Pipeline\n",
    "\n",
    "\"\"\"bog_pipeline = Pipeline(\n",
    "    [(\"Preprocessing\", preprocessing),\n",
    "    # (\"Selection\", SelectPercentile(f_classif, percentile=90)),\n",
    "    (\"Clasificador\", MultinomialNB())]\n",
    ")\"\"\";\n",
    "\n",
    "from utils.cargar import df_caso\n",
    "from utils.preprocesamiento import process_df, procesar_adela\n",
    "\n",
    "caso = 'adela'\n",
    "df = df_caso(caso)\n",
    "\n",
    "df = procesar_adela(df)\n",
    "df = df[df['opt_left'] == 'Producir el alimento contra déficit vitamínico']\n",
    "\n",
    "df = process_df(df,'comment','sel',verbose=False)\n",
    "\n",
    "df = df.drop(columns=['user_id','team_id','gender','df','title','opt_left','opt_right','max_num','phase','time','curso'])\n",
    "\n",
    "from sklearn.model_selection import train_test_split\n",
    "\n",
    "# df_train, df_test, y_train, y_test = train_test_split(df, df['sel'], test_size=.25, stratify=df['sel'], random_state=0)\n",
    "# bog_pipeline.fit(df_train,y_train)\n",
    "\n",
    "df_bin = df.copy()\n",
    "\n",
    "df_bin.loc[(df_bin['sel']==2) | (df_bin['sel']==3),'sel'] = 1\n",
    "df_bin.loc[(df_bin['sel']==4) | (df_bin['sel']==5),'sel'] = 6\n",
    "\n",
    "df_train_binary, df_test_binary, y_train_binary, y_test_binary = train_test_split(df_bin, df_bin['sel'], test_size=.25, stratify=df_bin['sel'], random_state=0)\n",
    "\n",
    "preprocessing = make_BoW_preprocess(tokenizador,'comment',max_ngram=2,min_ngram=1,mindf=10)\n",
    "\n",
    "bog_pipeline_binary = Pipeline(\n",
    "    [(\"Preprocessing\", preprocessing),\n",
    "    # (\"Selection\", SelectPercentile(f_classif, percentile=90)),\n",
    "    (\"Clasificador\", MultinomialNB())]\n",
    ")\n",
    "\n",
    "bog_pipeline_binary.fit(df_train_binary,y_train_binary)"
   ]
  },
  {
   "cell_type": "code",
   "execution_count": 2,
   "metadata": {},
   "outputs": [],
   "source": [
    "from NB_utils import get_probs\n",
    "\n",
    "vectorizer = bog_pipeline_binary.named_steps['Preprocessing'].transformers_[0][1]\n",
    "\n",
    "prob_2 = {}\n",
    "\n",
    "for ngram in vectorizer.get_feature_names_out():\n",
    "    probs = get_probs(ngram,bog_pipeline_binary,df_test_binary,'comment')\n",
    "    prob_2[ngram] = probs[1]\n",
    "\n",
    "# op_left, op_right = 'Producir el alimento', 'Resguardar tradiciones/recurso'"
   ]
  },
  {
   "cell_type": "code",
   "execution_count": 3,
   "metadata": {},
   "outputs": [],
   "source": [
    "def probability(token):\n",
    "    try:\n",
    "        return prob_2[token]\n",
    "    except KeyError:\n",
    "        return None"
   ]
  },
  {
   "cell_type": "code",
   "execution_count": 4,
   "metadata": {},
   "outputs": [],
   "source": [
    "from utils.visualisation import HighlightedText\n",
    "\n",
    "example_text = \"Es mas importantes la salud de una poblacion  que las creencias religiosas y culturales de un pueblo originario.\"\n",
    "ht = HighlightedText(example_text,range_values=(0,1))\n",
    "\n",
    "ht.set_values(probability)"
   ]
  },
  {
   "cell_type": "code",
   "execution_count": 5,
   "metadata": {},
   "outputs": [
    {
     "data": {
      "text/html": [
       "<!DOCTYPE html>\n",
       "<html>\n",
       "<head>\n",
       "\t<style>\n",
       "\t\t.centered-text {text-align: center;}\n",
       "\t\t.large-text { font-size: 24px; }\n",
       "        \t</style>\n",
       "</head>\n",
       "<body>\n",
       "\t<div class=\"centered-text\">\n",
       "\t\t<p class=\"large-text\">Es <span style=\"color: #007185;\">mas</span> <span style=\"color: #007185;\">importantes</span> la <span style=\"color: #007185;\">salud</span> de una <span style=\"color: #007185;\">poblacion</span>  que las <span style=\"color: #007185;\">creencias</span> <span style=\"color: #007185;\">religiosas</span> y <span style=\"color: #007185;\">culturales</span> de un <span style=\"color: #0053A8;\">pueblo</span> originario.</p>\n",
       "\t</div>\n",
       "</body>\n",
       "</html>"
      ],
      "text/plain": [
       "<IPython.core.display.HTML object>"
      ]
     },
     "metadata": {},
     "output_type": "display_data"
    }
   ],
   "source": [
    "from IPython.display import display, HTML\n",
    "\n",
    "display(HTML(ht.render()))"
   ]
  },
  {
   "cell_type": "code",
   "execution_count": 6,
   "metadata": {},
   "outputs": [
    {
     "data": {
      "text/plain": [
       "{'Es': None,\n",
       " 'mas': 0.27765503510755357,\n",
       " 'importantes': 0.19229617841455968,\n",
       " 'la': None,\n",
       " 'salud': 0.07956379709659753,\n",
       " 'de': None,\n",
       " 'una': None,\n",
       " 'poblacion': 0.26969494285688067,\n",
       " '': None,\n",
       " 'que': None,\n",
       " 'las': None,\n",
       " 'creencias': 0.2858941633730108,\n",
       " 'religiosas': 0.05187185291989147,\n",
       " 'y': None,\n",
       " 'culturales': 0.21958189112407908,\n",
       " 'un': None,\n",
       " 'pueblo': 0.39642457568678924,\n",
       " 'originario.': None}"
      ]
     },
     "execution_count": 6,
     "metadata": {},
     "output_type": "execute_result"
    }
   ],
   "source": [
    "ht.values_dict"
   ]
  },
  {
   "cell_type": "code",
   "execution_count": 7,
   "metadata": {},
   "outputs": [
    {
     "data": {
      "text/html": [
       "<!DOCTYPE html>\n",
       "<html>\n",
       "<head>\n",
       "\t<style>\n",
       "\t\t.centered-text {text-align: center;}\n",
       "\t\t.large-text { font-size: 24px; }\n",
       "        \t</style>\n",
       "</head>\n",
       "<body>\n",
       "\t<div class=\"centered-text\">\n",
       "\t\t<p class=\"large-text\">La <span style=\"color: #0053A8;\">verdad</span> es que me <span style=\"color: #0053A8;\">parece</span> que Adela <span style=\"color: #007185;\">debería</span> <span style=\"color: #0053A8;\">buscar</span> otro <span style=\"color: #003193;\">elemento</span> para <span style=\"color: #007185;\">producir</span> su alimento, ya que <span style=\"color: #007185;\">ocupar</span> la <span style=\"color: #0053A8;\">fruta</span> del <span style=\"color: #0053A8;\">pueblo</span> <span style=\"color: #0053A8;\">indígena</span> <span style=\"color: #007185;\">afectaría</span> a <span style=\"color: #0053A8;\">mucha</span> gente, <span style=\"color: #0053A8;\">además</span> que esta es <span style=\"color: #0053A8;\">parte</span> de su cultura, o sea <span style=\"color: #0053A8;\">lleva</span> mucho tiempo.No <span style=\"color: #007185;\">cambié</span> de <span style=\"color: #0053A8;\">opinión</span></p>\n",
       "\t</div>\n",
       "</body>\n",
       "</html>"
      ],
      "text/plain": [
       "<IPython.core.display.HTML object>"
      ]
     },
     "metadata": {},
     "output_type": "display_data"
    }
   ],
   "source": [
    "text = \"La verdad es que me parece que Adela debería buscar otro elemento para producir su alimento, ya que ocupar la fruta del pueblo indígena afectaría a mucha gente, además que esta es parte de su cultura, o sea lleva mucho tiempo.No cambié de opinión\"\n",
    "def visualise(text):\n",
    "    ht_text = HighlightedText(text,range_values=(0,1))\n",
    "    ht_text.set_values(probability)\n",
    "    display(HTML(ht_text.render()))\n",
    "\n",
    "visualise(text)"
   ]
  },
  {
   "cell_type": "code",
   "execution_count": 8,
   "metadata": {},
   "outputs": [
    {
     "data": {
      "text/html": [
       "<!DOCTYPE html>\n",
       "<html>\n",
       "<head>\n",
       "\t<style>\n",
       "\t\t.centered-text {text-align: center;}\n",
       "\t\t.large-text { font-size: 24px; }\n",
       "        \t</style>\n",
       "</head>\n",
       "<body>\n",
       "\t<div class=\"centered-text\">\n",
       "\t\t<p class=\"large-text\">Porque <span style=\"color: #0053A8;\">nuevamente</span> entramos en el <span style=\"color: #007185;\">punto</span> <span style=\"color: #0053A8;\">anterior</span> es <span style=\"color: #0053A8;\">verdad</span> que las <span style=\"color: #0053A8;\">tradiciones</span> son <span style=\"color: #007185;\">importantes</span> pero al <span style=\"color: #007185;\">final</span> del <span style=\"color: #0053A8;\">día</span> <span style=\"color: #0053A8;\">solo</span> son eso <span style=\"color: #0053A8;\">tradiciones</span> en <span style=\"color: #007185;\">cambio</span> por el otro <span style=\"color: #007185;\">lado</span> <span style=\"color: #007185;\">si</span> se <span style=\"color: #0053A8;\">hace</span> la <span style=\"color: #0053A8;\">vitamina</span> <span style=\"color: #0053A8;\">entonces</span> se podran <span style=\"color: #007185;\">salvar</span> o <span style=\"color: #007185;\">dar</span> <span style=\"color: #007185;\">vidas</span> a muchos <span style=\"color: #007185;\">niños</span> y abuelos.</p>\n",
       "\t</div>\n",
       "</body>\n",
       "</html>"
      ],
      "text/plain": [
       "<IPython.core.display.HTML object>"
      ]
     },
     "metadata": {},
     "output_type": "display_data"
    }
   ],
   "source": [
    "visualise(\"Porque nuevamente entramos en el punto anterior es verdad que las tradiciones son importantes pero al final del día solo son eso tradiciones en cambio por el otro lado si se hace la vitamina entonces se podran salvar o dar vidas a muchos niños y abuelos.\")"
   ]
  },
  {
   "cell_type": "code",
   "execution_count": 9,
   "metadata": {},
   "outputs": [
    {
     "data": {
      "text/html": [
       "<!DOCTYPE html>\n",
       "<html>\n",
       "<head>\n",
       "\t<style>\n",
       "\t\t.centered-text {text-align: center;}\n",
       "\t\t.large-text { font-size: 24px; }\n",
       "        \t</style>\n",
       "</head>\n",
       "<body>\n",
       "\t<div class=\"centered-text\">\n",
       "\t\t<p class=\"large-text\"><span style=\"color: #007185;\">si</span> <span style=\"color: #007185;\">bien</span> <span style=\"color: #0053A8;\">adela</span> no tiene <span style=\"color: #007185;\">limitaciones</span> legales para su <span style=\"color: #0053A8;\">proyecto</span> de innovación, <span style=\"color: #007185;\">si</span> <span style=\"color: #007185;\">deberia</span> <span style=\"color: #0053A8;\">tomar</span> en <span style=\"color: #0053A8;\">cuenta</span> la <span style=\"color: #0053A8;\">opinión</span> de los <span style=\"color: #0053A8;\">pueblos</span> <span style=\"color: #0053A8;\">originarios</span> de la <span style=\"color: #0053A8;\">zona</span> para <span style=\"color: #007185;\">tratar</span> de <span style=\"color: #0053A8;\">llegar</span> a un <span style=\"color: #0053A8;\">acuerdo</span> con ellos, con el <span style=\"color: #0053A8;\">fin</span> de <span style=\"color: #0053A8;\">respetar</span> las <span style=\"color: #0053A8;\">tradiciones</span> y la <span style=\"color: #0053A8;\">cultura</span></p>\n",
       "\t</div>\n",
       "</body>\n",
       "</html>"
      ],
      "text/plain": [
       "<IPython.core.display.HTML object>"
      ]
     },
     "metadata": {},
     "output_type": "display_data"
    }
   ],
   "source": [
    "visualise(\"si bien adela no tiene limitaciones legales para su proyecto de innovación, si deberia tomar en cuenta la opinión de los pueblos originarios de la zona para tratar de llegar a un acuerdo con ellos, con el fin de respetar las tradiciones y la cultura\")"
   ]
  },
  {
   "cell_type": "code",
   "execution_count": 10,
   "metadata": {},
   "outputs": [
    {
     "data": {
      "text/html": [
       "<!DOCTYPE html>\n",
       "<html>\n",
       "<head>\n",
       "\t<style>\n",
       "\t\t.centered-text {text-align: center;}\n",
       "\t\t.large-text { font-size: 24px; }\n",
       "        \t</style>\n",
       "</head>\n",
       "<body>\n",
       "\t<div class=\"centered-text\">\n",
       "\t\t<p class=\"large-text\">La <span style=\"color: #0053A8;\">forma</span> en que está diseñada la <span style=\"color: #007185;\">innovación</span> nos <span style=\"color: #0053A8;\">parece</span> <span style=\"color: #007185;\">bastante</span> nociva, y que de <span style=\"color: #007185;\">todas</span> <span style=\"color: #0053A8;\">maneras</span> es \n",
       "          modificable, de <span style=\"color: #0053A8;\">modo</span> de <span style=\"color: #007185;\">producir</span> el <span style=\"color: #0053A8;\">producto</span> de <span style=\"color: #0053A8;\">manera</span> <span style=\"color: #0053A8;\">respetuosa</span> con las <span style=\"color: #0053A8;\">comunidades</span> y los ecosistemas.\n",
       "          Es una <span style=\"color: #0053A8;\">buena</span> herramienta y por tanto se <span style=\"color: #007185;\">debería</span> proseguir pero adaptando la <span style=\"color: #0053A8;\">forma</span></p>\n",
       "\t</div>\n",
       "</body>\n",
       "</html>"
      ],
      "text/plain": [
       "<IPython.core.display.HTML object>"
      ]
     },
     "metadata": {},
     "output_type": "display_data"
    }
   ],
   "source": [
    "visualise(\"\"\"La forma en que está diseñada la innovación nos parece bastante nociva, y que de todas maneras es \n",
    "          modificable, de modo de producir el producto de manera respetuosa con las comunidades y los ecosistemas.\n",
    "          Es una buena herramienta y por tanto se debería proseguir pero adaptando la forma\"\"\")"
   ]
  }
 ],
 "metadata": {
  "kernelspec": {
   "display_name": "ethics_env",
   "language": "python",
   "name": "ethics_env"
  },
  "language_info": {
   "codemirror_mode": {
    "name": "ipython",
    "version": 3
   },
   "file_extension": ".py",
   "mimetype": "text/x-python",
   "name": "python",
   "nbconvert_exporter": "python",
   "pygments_lexer": "ipython3",
   "version": "3.9.15"
  }
 },
 "nbformat": 4,
 "nbformat_minor": 2
}
